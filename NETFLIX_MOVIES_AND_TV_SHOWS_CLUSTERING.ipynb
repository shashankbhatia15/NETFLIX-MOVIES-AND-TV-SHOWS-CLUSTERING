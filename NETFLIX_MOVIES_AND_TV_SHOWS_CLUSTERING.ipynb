{
  "nbformat": 4,
  "nbformat_minor": 0,
  "metadata": {
    "colab": {
      "name": "NETFLIX MOVIES AND TV SHOWS CLUSTERING.ipynb",
      "provenance": [],
      "collapsed_sections": [
        "tV_3Y8rqH97n",
        "l_J7TdgHK_aK",
        "y4syxRvHkbMu",
        "ETlu8On6oJ26",
        "7LyQ6prt6amQ",
        "8Q_Cr5TG4R3_"
      ],
      "include_colab_link": true
    },
    "kernelspec": {
      "name": "python3",
      "display_name": "Python 3"
    },
    "language_info": {
      "name": "python"
    }
  },
  "cells": [
    {
      "cell_type": "markdown",
      "metadata": {
        "id": "view-in-github",
        "colab_type": "text"
      },
      "source": [
        "<a href=\"https://colab.research.google.com/github/shashankbhatia15/NETFLIX-MOVIES-AND-TV-SHOWS-CLUSTERING/blob/main/NETFLIX_MOVIES_AND_TV_SHOWS_CLUSTERING.ipynb\" target=\"_parent\"><img src=\"https://colab.research.google.com/assets/colab-badge.svg\" alt=\"Open In Colab\"/></a>"
      ]
    },
    {
      "cell_type": "markdown",
      "metadata": {
        "id": "LGcl5Bv9ed6u"
      },
      "source": [
        "# **Problem Statement**"
      ]
    },
    {
      "cell_type": "markdown",
      "metadata": {
        "id": "8M5kyFaVjzXk"
      },
      "source": [
        "This dataset consists of tv shows and movies available on Netflix as of 2019. The dataset is collected from Flixable which is a third-party Netflix search engine.\n",
        "\n",
        "In 2018, they released an interesting report which shows that the number of TV shows on Netflix has nearly tripled since 2010. The streaming service’s number of movies has decreased by more than 2,000 titles since 2010, while its number of TV shows has nearly tripled. It will be interesting to explore what all other insights can be obtained from the same dataset.\n",
        "\n",
        "Integrating this dataset with other external datasets such as IMDB ratings, rotten tomatoes can also provide many interesting findings."
      ]
    },
    {
      "cell_type": "markdown",
      "metadata": {
        "id": "tLx5cJO8hzb1"
      },
      "source": [
        "## <b>In this  project, you are required to do </b>\n",
        "1. Exploratory Data Analysis \n",
        "\n",
        "2. Understanding what type content is available in different countries\n",
        "\n",
        "3. Is Netflix has increasingly focusing on TV rather than movies in recent years.\n",
        "4. Clustering similar content by matching text-based features\n",
        "\n"
      ]
    },
    {
      "cell_type": "markdown",
      "metadata": {
        "id": "AzGDqdC4fZ-b"
      },
      "source": [
        "# **Attribute Information**"
      ]
    },
    {
      "cell_type": "markdown",
      "metadata": {
        "id": "jhfLYargscGV"
      },
      "source": [
        "1. show_id : Unique ID for every Movie / Tv Show\n",
        "\n",
        "2. type : Identifier - A Movie or TV Show\n",
        "\n",
        "3. title : Title of the Movie / Tv Show\n",
        "\n",
        "4. director : Director of the Movie\n",
        "\n",
        "5. cast : Actors involved in the movie / show\n",
        "\n",
        "6. country : Country where the movie / show was produced\n",
        "\n",
        "7. date_added : Date it was added on Netflix\n",
        "\n",
        "8. release_year : Actual Releaseyear of the movie / show\n",
        "\n",
        "9. rating : TV Rating of the movie / show\n",
        "\n",
        "10. duration : Total Duration - in minutes or number of seasons\n",
        "\n",
        "11. listed_in : Genere\n",
        "\n",
        "12. description: The Summary description"
      ]
    },
    {
      "cell_type": "code",
      "metadata": {
        "colab": {
          "base_uri": "https://localhost:8080/"
        },
        "id": "k5ViOa4A8enJ",
        "outputId": "81214c6d-5ab7-44ae-c8ce-a68ba0b2c6fe"
      },
      "source": [
        "from google.colab import drive\n",
        "drive.mount('/content/drive')"
      ],
      "execution_count": 1,
      "outputs": [
        {
          "output_type": "stream",
          "name": "stdout",
          "text": [
            "Mounted at /content/drive\n"
          ]
        }
      ]
    },
    {
      "cell_type": "code",
      "metadata": {
        "id": "fT55eYoEhDZV",
        "colab": {
          "base_uri": "https://localhost:8080/"
        },
        "outputId": "56e0e1db-f68b-4356-f6e0-c8a3018d1931"
      },
      "source": [
        "#import libraries\n",
        "import pandas as pd\n",
        "import numpy as np\n",
        "import matplotlib.pyplot as plt\n",
        "import seaborn as sns\n",
        "import missingno as msno\n",
        "import nltk\n",
        "from nltk.corpus import stopwords\n",
        "\n",
        "nltk.download('stopwords')\n",
        "nltk.download('punkt')"
      ],
      "execution_count": 2,
      "outputs": [
        {
          "output_type": "stream",
          "name": "stdout",
          "text": [
            "[nltk_data] Downloading package stopwords to /root/nltk_data...\n",
            "[nltk_data]   Unzipping corpora/stopwords.zip.\n",
            "[nltk_data] Downloading package punkt to /root/nltk_data...\n",
            "[nltk_data]   Unzipping tokenizers/punkt.zip.\n"
          ]
        },
        {
          "output_type": "execute_result",
          "data": {
            "text/plain": [
              "True"
            ]
          },
          "metadata": {},
          "execution_count": 2
        }
      ]
    },
    {
      "cell_type": "code",
      "metadata": {
        "id": "qzE3799Wgp6T"
      },
      "source": [
        "#read the data\n",
        "df = pd.read_csv('/content/drive/MyDrive/AlmaBetter/CAPSTONE PROJECTS/NETFLIX MOVIES AND TV SHOWS CLUSTERING - SHASHANK BHATIA/NETFLIX MOVIES AND TV SHOWS CLUSTERING.csv')"
      ],
      "execution_count": 3,
      "outputs": []
    },
    {
      "cell_type": "markdown",
      "metadata": {
        "id": "bgZ4w55nZT2g"
      },
      "source": [
        "# **DATA OVERVIEW**"
      ]
    },
    {
      "cell_type": "code",
      "metadata": {
        "colab": {
          "base_uri": "https://localhost:8080/",
          "height": 357
        },
        "id": "ZAq6xgqDhObg",
        "outputId": "69719066-e391-4747-db1b-3ea24e0dad4b"
      },
      "source": [
        "df.head()"
      ],
      "execution_count": 113,
      "outputs": [
        {
          "output_type": "execute_result",
          "data": {
            "text/html": [
              "<div>\n",
              "<style scoped>\n",
              "    .dataframe tbody tr th:only-of-type {\n",
              "        vertical-align: middle;\n",
              "    }\n",
              "\n",
              "    .dataframe tbody tr th {\n",
              "        vertical-align: top;\n",
              "    }\n",
              "\n",
              "    .dataframe thead th {\n",
              "        text-align: right;\n",
              "    }\n",
              "</style>\n",
              "<table border=\"1\" class=\"dataframe\">\n",
              "  <thead>\n",
              "    <tr style=\"text-align: right;\">\n",
              "      <th></th>\n",
              "      <th>show_id</th>\n",
              "      <th>type</th>\n",
              "      <th>title</th>\n",
              "      <th>director</th>\n",
              "      <th>cast</th>\n",
              "      <th>country</th>\n",
              "      <th>date_added</th>\n",
              "      <th>release_year</th>\n",
              "      <th>rating</th>\n",
              "      <th>duration</th>\n",
              "      <th>listed_in</th>\n",
              "      <th>description</th>\n",
              "    </tr>\n",
              "  </thead>\n",
              "  <tbody>\n",
              "    <tr>\n",
              "      <th>0</th>\n",
              "      <td>s1</td>\n",
              "      <td>TV Show</td>\n",
              "      <td>3%</td>\n",
              "      <td>NaN</td>\n",
              "      <td>João Miguel, Bianca Comparato, Michel Gomes, R...</td>\n",
              "      <td>Brazil</td>\n",
              "      <td>August 14, 2020</td>\n",
              "      <td>2020</td>\n",
              "      <td>TV-MA</td>\n",
              "      <td>4 Seasons</td>\n",
              "      <td>International TV Shows, TV Dramas, TV Sci-Fi &amp;...</td>\n",
              "      <td>In a future where the elite inhabit an island ...</td>\n",
              "    </tr>\n",
              "    <tr>\n",
              "      <th>1</th>\n",
              "      <td>s2</td>\n",
              "      <td>Movie</td>\n",
              "      <td>7:19</td>\n",
              "      <td>Jorge Michel Grau</td>\n",
              "      <td>Demián Bichir, Héctor Bonilla, Oscar Serrano, ...</td>\n",
              "      <td>Mexico</td>\n",
              "      <td>December 23, 2016</td>\n",
              "      <td>2016</td>\n",
              "      <td>TV-MA</td>\n",
              "      <td>93 min</td>\n",
              "      <td>Dramas, International Movies</td>\n",
              "      <td>After a devastating earthquake hits Mexico Cit...</td>\n",
              "    </tr>\n",
              "    <tr>\n",
              "      <th>2</th>\n",
              "      <td>s3</td>\n",
              "      <td>Movie</td>\n",
              "      <td>23:59</td>\n",
              "      <td>Gilbert Chan</td>\n",
              "      <td>Tedd Chan, Stella Chung, Henley Hii, Lawrence ...</td>\n",
              "      <td>Singapore</td>\n",
              "      <td>December 20, 2018</td>\n",
              "      <td>2011</td>\n",
              "      <td>R</td>\n",
              "      <td>78 min</td>\n",
              "      <td>Horror Movies, International Movies</td>\n",
              "      <td>When an army recruit is found dead, his fellow...</td>\n",
              "    </tr>\n",
              "    <tr>\n",
              "      <th>3</th>\n",
              "      <td>s4</td>\n",
              "      <td>Movie</td>\n",
              "      <td>9</td>\n",
              "      <td>Shane Acker</td>\n",
              "      <td>Elijah Wood, John C. Reilly, Jennifer Connelly...</td>\n",
              "      <td>United States</td>\n",
              "      <td>November 16, 2017</td>\n",
              "      <td>2009</td>\n",
              "      <td>PG-13</td>\n",
              "      <td>80 min</td>\n",
              "      <td>Action &amp; Adventure, Independent Movies, Sci-Fi...</td>\n",
              "      <td>In a postapocalyptic world, rag-doll robots hi...</td>\n",
              "    </tr>\n",
              "    <tr>\n",
              "      <th>4</th>\n",
              "      <td>s5</td>\n",
              "      <td>Movie</td>\n",
              "      <td>21</td>\n",
              "      <td>Robert Luketic</td>\n",
              "      <td>Jim Sturgess, Kevin Spacey, Kate Bosworth, Aar...</td>\n",
              "      <td>United States</td>\n",
              "      <td>January 1, 2020</td>\n",
              "      <td>2008</td>\n",
              "      <td>PG-13</td>\n",
              "      <td>123 min</td>\n",
              "      <td>Dramas</td>\n",
              "      <td>A brilliant group of students become card-coun...</td>\n",
              "    </tr>\n",
              "  </tbody>\n",
              "</table>\n",
              "</div>"
            ],
            "text/plain": [
              "  show_id  ...                                        description\n",
              "0      s1  ...  In a future where the elite inhabit an island ...\n",
              "1      s2  ...  After a devastating earthquake hits Mexico Cit...\n",
              "2      s3  ...  When an army recruit is found dead, his fellow...\n",
              "3      s4  ...  In a postapocalyptic world, rag-doll robots hi...\n",
              "4      s5  ...  A brilliant group of students become card-coun...\n",
              "\n",
              "[5 rows x 12 columns]"
            ]
          },
          "metadata": {},
          "execution_count": 113
        }
      ]
    },
    {
      "cell_type": "code",
      "metadata": {
        "colab": {
          "base_uri": "https://localhost:8080/",
          "height": 425
        },
        "id": "pwWDbgom9GaO",
        "outputId": "1290a4db-51b7-4015-da44-5cceb7888a7b"
      },
      "source": [
        "df.tail()"
      ],
      "execution_count": 114,
      "outputs": [
        {
          "output_type": "execute_result",
          "data": {
            "text/html": [
              "<div>\n",
              "<style scoped>\n",
              "    .dataframe tbody tr th:only-of-type {\n",
              "        vertical-align: middle;\n",
              "    }\n",
              "\n",
              "    .dataframe tbody tr th {\n",
              "        vertical-align: top;\n",
              "    }\n",
              "\n",
              "    .dataframe thead th {\n",
              "        text-align: right;\n",
              "    }\n",
              "</style>\n",
              "<table border=\"1\" class=\"dataframe\">\n",
              "  <thead>\n",
              "    <tr style=\"text-align: right;\">\n",
              "      <th></th>\n",
              "      <th>show_id</th>\n",
              "      <th>type</th>\n",
              "      <th>title</th>\n",
              "      <th>director</th>\n",
              "      <th>cast</th>\n",
              "      <th>country</th>\n",
              "      <th>date_added</th>\n",
              "      <th>release_year</th>\n",
              "      <th>rating</th>\n",
              "      <th>duration</th>\n",
              "      <th>listed_in</th>\n",
              "      <th>description</th>\n",
              "    </tr>\n",
              "  </thead>\n",
              "  <tbody>\n",
              "    <tr>\n",
              "      <th>7782</th>\n",
              "      <td>s7783</td>\n",
              "      <td>Movie</td>\n",
              "      <td>Zozo</td>\n",
              "      <td>Josef Fares</td>\n",
              "      <td>Imad Creidi, Antoinette Turk, Elias Gergi, Car...</td>\n",
              "      <td>Sweden, Czech Republic, United Kingdom, Denmar...</td>\n",
              "      <td>October 19, 2020</td>\n",
              "      <td>2005</td>\n",
              "      <td>TV-MA</td>\n",
              "      <td>99 min</td>\n",
              "      <td>Dramas, International Movies</td>\n",
              "      <td>When Lebanon's Civil War deprives Zozo of his ...</td>\n",
              "    </tr>\n",
              "    <tr>\n",
              "      <th>7783</th>\n",
              "      <td>s7784</td>\n",
              "      <td>Movie</td>\n",
              "      <td>Zubaan</td>\n",
              "      <td>Mozez Singh</td>\n",
              "      <td>Vicky Kaushal, Sarah-Jane Dias, Raaghav Chanan...</td>\n",
              "      <td>India</td>\n",
              "      <td>March 2, 2019</td>\n",
              "      <td>2015</td>\n",
              "      <td>TV-14</td>\n",
              "      <td>111 min</td>\n",
              "      <td>Dramas, International Movies, Music &amp; Musicals</td>\n",
              "      <td>A scrappy but poor boy worms his way into a ty...</td>\n",
              "    </tr>\n",
              "    <tr>\n",
              "      <th>7784</th>\n",
              "      <td>s7785</td>\n",
              "      <td>Movie</td>\n",
              "      <td>Zulu Man in Japan</td>\n",
              "      <td>NaN</td>\n",
              "      <td>Nasty C</td>\n",
              "      <td>NaN</td>\n",
              "      <td>September 25, 2020</td>\n",
              "      <td>2019</td>\n",
              "      <td>TV-MA</td>\n",
              "      <td>44 min</td>\n",
              "      <td>Documentaries, International Movies, Music &amp; M...</td>\n",
              "      <td>In this documentary, South African rapper Nast...</td>\n",
              "    </tr>\n",
              "    <tr>\n",
              "      <th>7785</th>\n",
              "      <td>s7786</td>\n",
              "      <td>TV Show</td>\n",
              "      <td>Zumbo's Just Desserts</td>\n",
              "      <td>NaN</td>\n",
              "      <td>Adriano Zumbo, Rachel Khoo</td>\n",
              "      <td>Australia</td>\n",
              "      <td>October 31, 2020</td>\n",
              "      <td>2019</td>\n",
              "      <td>TV-PG</td>\n",
              "      <td>1 Season</td>\n",
              "      <td>International TV Shows, Reality TV</td>\n",
              "      <td>Dessert wizard Adriano Zumbo looks for the nex...</td>\n",
              "    </tr>\n",
              "    <tr>\n",
              "      <th>7786</th>\n",
              "      <td>s7787</td>\n",
              "      <td>Movie</td>\n",
              "      <td>ZZ TOP: THAT LITTLE OL' BAND FROM TEXAS</td>\n",
              "      <td>Sam Dunn</td>\n",
              "      <td>NaN</td>\n",
              "      <td>United Kingdom, Canada, United States</td>\n",
              "      <td>March 1, 2020</td>\n",
              "      <td>2019</td>\n",
              "      <td>TV-MA</td>\n",
              "      <td>90 min</td>\n",
              "      <td>Documentaries, Music &amp; Musicals</td>\n",
              "      <td>This documentary delves into the mystique behi...</td>\n",
              "    </tr>\n",
              "  </tbody>\n",
              "</table>\n",
              "</div>"
            ],
            "text/plain": [
              "     show_id  ...                                        description\n",
              "7782   s7783  ...  When Lebanon's Civil War deprives Zozo of his ...\n",
              "7783   s7784  ...  A scrappy but poor boy worms his way into a ty...\n",
              "7784   s7785  ...  In this documentary, South African rapper Nast...\n",
              "7785   s7786  ...  Dessert wizard Adriano Zumbo looks for the nex...\n",
              "7786   s7787  ...  This documentary delves into the mystique behi...\n",
              "\n",
              "[5 rows x 12 columns]"
            ]
          },
          "metadata": {},
          "execution_count": 114
        }
      ]
    },
    {
      "cell_type": "code",
      "metadata": {
        "colab": {
          "base_uri": "https://localhost:8080/",
          "height": 407
        },
        "id": "oWEFvhLhumVl",
        "outputId": "16306233-1518-4dbe-a31a-2dea51da5515"
      },
      "source": [
        "df.describe(include='all')"
      ],
      "execution_count": 115,
      "outputs": [
        {
          "output_type": "execute_result",
          "data": {
            "text/html": [
              "<div>\n",
              "<style scoped>\n",
              "    .dataframe tbody tr th:only-of-type {\n",
              "        vertical-align: middle;\n",
              "    }\n",
              "\n",
              "    .dataframe tbody tr th {\n",
              "        vertical-align: top;\n",
              "    }\n",
              "\n",
              "    .dataframe thead th {\n",
              "        text-align: right;\n",
              "    }\n",
              "</style>\n",
              "<table border=\"1\" class=\"dataframe\">\n",
              "  <thead>\n",
              "    <tr style=\"text-align: right;\">\n",
              "      <th></th>\n",
              "      <th>show_id</th>\n",
              "      <th>type</th>\n",
              "      <th>title</th>\n",
              "      <th>director</th>\n",
              "      <th>cast</th>\n",
              "      <th>country</th>\n",
              "      <th>date_added</th>\n",
              "      <th>release_year</th>\n",
              "      <th>rating</th>\n",
              "      <th>duration</th>\n",
              "      <th>listed_in</th>\n",
              "      <th>description</th>\n",
              "    </tr>\n",
              "  </thead>\n",
              "  <tbody>\n",
              "    <tr>\n",
              "      <th>count</th>\n",
              "      <td>7787</td>\n",
              "      <td>7787</td>\n",
              "      <td>7787</td>\n",
              "      <td>5398</td>\n",
              "      <td>7069</td>\n",
              "      <td>7280</td>\n",
              "      <td>7777</td>\n",
              "      <td>7787.000000</td>\n",
              "      <td>7780</td>\n",
              "      <td>7787</td>\n",
              "      <td>7787</td>\n",
              "      <td>7787</td>\n",
              "    </tr>\n",
              "    <tr>\n",
              "      <th>unique</th>\n",
              "      <td>7787</td>\n",
              "      <td>2</td>\n",
              "      <td>7787</td>\n",
              "      <td>4049</td>\n",
              "      <td>6831</td>\n",
              "      <td>681</td>\n",
              "      <td>1565</td>\n",
              "      <td>NaN</td>\n",
              "      <td>14</td>\n",
              "      <td>216</td>\n",
              "      <td>492</td>\n",
              "      <td>7769</td>\n",
              "    </tr>\n",
              "    <tr>\n",
              "      <th>top</th>\n",
              "      <td>s4738</td>\n",
              "      <td>Movie</td>\n",
              "      <td>Raja Rasoi Aur Anya Kahaniyan</td>\n",
              "      <td>Raúl Campos, Jan Suter</td>\n",
              "      <td>David Attenborough</td>\n",
              "      <td>United States</td>\n",
              "      <td>January 1, 2020</td>\n",
              "      <td>NaN</td>\n",
              "      <td>TV-MA</td>\n",
              "      <td>1 Season</td>\n",
              "      <td>Documentaries</td>\n",
              "      <td>A surly septuagenarian gets another chance at ...</td>\n",
              "    </tr>\n",
              "    <tr>\n",
              "      <th>freq</th>\n",
              "      <td>1</td>\n",
              "      <td>5377</td>\n",
              "      <td>1</td>\n",
              "      <td>18</td>\n",
              "      <td>18</td>\n",
              "      <td>2555</td>\n",
              "      <td>118</td>\n",
              "      <td>NaN</td>\n",
              "      <td>2863</td>\n",
              "      <td>1608</td>\n",
              "      <td>334</td>\n",
              "      <td>3</td>\n",
              "    </tr>\n",
              "    <tr>\n",
              "      <th>mean</th>\n",
              "      <td>NaN</td>\n",
              "      <td>NaN</td>\n",
              "      <td>NaN</td>\n",
              "      <td>NaN</td>\n",
              "      <td>NaN</td>\n",
              "      <td>NaN</td>\n",
              "      <td>NaN</td>\n",
              "      <td>2013.932580</td>\n",
              "      <td>NaN</td>\n",
              "      <td>NaN</td>\n",
              "      <td>NaN</td>\n",
              "      <td>NaN</td>\n",
              "    </tr>\n",
              "    <tr>\n",
              "      <th>std</th>\n",
              "      <td>NaN</td>\n",
              "      <td>NaN</td>\n",
              "      <td>NaN</td>\n",
              "      <td>NaN</td>\n",
              "      <td>NaN</td>\n",
              "      <td>NaN</td>\n",
              "      <td>NaN</td>\n",
              "      <td>8.757395</td>\n",
              "      <td>NaN</td>\n",
              "      <td>NaN</td>\n",
              "      <td>NaN</td>\n",
              "      <td>NaN</td>\n",
              "    </tr>\n",
              "    <tr>\n",
              "      <th>min</th>\n",
              "      <td>NaN</td>\n",
              "      <td>NaN</td>\n",
              "      <td>NaN</td>\n",
              "      <td>NaN</td>\n",
              "      <td>NaN</td>\n",
              "      <td>NaN</td>\n",
              "      <td>NaN</td>\n",
              "      <td>1925.000000</td>\n",
              "      <td>NaN</td>\n",
              "      <td>NaN</td>\n",
              "      <td>NaN</td>\n",
              "      <td>NaN</td>\n",
              "    </tr>\n",
              "    <tr>\n",
              "      <th>25%</th>\n",
              "      <td>NaN</td>\n",
              "      <td>NaN</td>\n",
              "      <td>NaN</td>\n",
              "      <td>NaN</td>\n",
              "      <td>NaN</td>\n",
              "      <td>NaN</td>\n",
              "      <td>NaN</td>\n",
              "      <td>2013.000000</td>\n",
              "      <td>NaN</td>\n",
              "      <td>NaN</td>\n",
              "      <td>NaN</td>\n",
              "      <td>NaN</td>\n",
              "    </tr>\n",
              "    <tr>\n",
              "      <th>50%</th>\n",
              "      <td>NaN</td>\n",
              "      <td>NaN</td>\n",
              "      <td>NaN</td>\n",
              "      <td>NaN</td>\n",
              "      <td>NaN</td>\n",
              "      <td>NaN</td>\n",
              "      <td>NaN</td>\n",
              "      <td>2017.000000</td>\n",
              "      <td>NaN</td>\n",
              "      <td>NaN</td>\n",
              "      <td>NaN</td>\n",
              "      <td>NaN</td>\n",
              "    </tr>\n",
              "    <tr>\n",
              "      <th>75%</th>\n",
              "      <td>NaN</td>\n",
              "      <td>NaN</td>\n",
              "      <td>NaN</td>\n",
              "      <td>NaN</td>\n",
              "      <td>NaN</td>\n",
              "      <td>NaN</td>\n",
              "      <td>NaN</td>\n",
              "      <td>2018.000000</td>\n",
              "      <td>NaN</td>\n",
              "      <td>NaN</td>\n",
              "      <td>NaN</td>\n",
              "      <td>NaN</td>\n",
              "    </tr>\n",
              "    <tr>\n",
              "      <th>max</th>\n",
              "      <td>NaN</td>\n",
              "      <td>NaN</td>\n",
              "      <td>NaN</td>\n",
              "      <td>NaN</td>\n",
              "      <td>NaN</td>\n",
              "      <td>NaN</td>\n",
              "      <td>NaN</td>\n",
              "      <td>2021.000000</td>\n",
              "      <td>NaN</td>\n",
              "      <td>NaN</td>\n",
              "      <td>NaN</td>\n",
              "      <td>NaN</td>\n",
              "    </tr>\n",
              "  </tbody>\n",
              "</table>\n",
              "</div>"
            ],
            "text/plain": [
              "       show_id  ...                                        description\n",
              "count     7787  ...                                               7787\n",
              "unique    7787  ...                                               7769\n",
              "top      s4738  ...  A surly septuagenarian gets another chance at ...\n",
              "freq         1  ...                                                  3\n",
              "mean       NaN  ...                                                NaN\n",
              "std        NaN  ...                                                NaN\n",
              "min        NaN  ...                                                NaN\n",
              "25%        NaN  ...                                                NaN\n",
              "50%        NaN  ...                                                NaN\n",
              "75%        NaN  ...                                                NaN\n",
              "max        NaN  ...                                                NaN\n",
              "\n",
              "[11 rows x 12 columns]"
            ]
          },
          "metadata": {},
          "execution_count": 115
        }
      ]
    },
    {
      "cell_type": "code",
      "metadata": {
        "colab": {
          "base_uri": "https://localhost:8080/"
        },
        "id": "5IGl7ggyumSz",
        "outputId": "5fd5a42a-21a0-4497-b376-b0d4450227ca"
      },
      "source": [
        "df.info()"
      ],
      "execution_count": 116,
      "outputs": [
        {
          "output_type": "stream",
          "name": "stdout",
          "text": [
            "<class 'pandas.core.frame.DataFrame'>\n",
            "RangeIndex: 7787 entries, 0 to 7786\n",
            "Data columns (total 12 columns):\n",
            " #   Column        Non-Null Count  Dtype \n",
            "---  ------        --------------  ----- \n",
            " 0   show_id       7787 non-null   object\n",
            " 1   type          7787 non-null   object\n",
            " 2   title         7787 non-null   object\n",
            " 3   director      5398 non-null   object\n",
            " 4   cast          7069 non-null   object\n",
            " 5   country       7280 non-null   object\n",
            " 6   date_added    7777 non-null   object\n",
            " 7   release_year  7787 non-null   int64 \n",
            " 8   rating        7780 non-null   object\n",
            " 9   duration      7787 non-null   object\n",
            " 10  listed_in     7787 non-null   object\n",
            " 11  description   7787 non-null   object\n",
            "dtypes: int64(1), object(11)\n",
            "memory usage: 730.2+ KB\n"
          ]
        }
      ]
    },
    {
      "cell_type": "code",
      "metadata": {
        "colab": {
          "base_uri": "https://localhost:8080/"
        },
        "id": "VH9Em_vc3Zg4",
        "outputId": "66f21d97-1624-4989-aa8f-3b37fc52a38d"
      },
      "source": [
        "df.columns"
      ],
      "execution_count": 117,
      "outputs": [
        {
          "output_type": "execute_result",
          "data": {
            "text/plain": [
              "Index(['show_id', 'type', 'title', 'director', 'cast', 'country', 'date_added',\n",
              "       'release_year', 'rating', 'duration', 'listed_in', 'description'],\n",
              "      dtype='object')"
            ]
          },
          "metadata": {},
          "execution_count": 117
        }
      ]
    },
    {
      "cell_type": "code",
      "metadata": {
        "colab": {
          "base_uri": "https://localhost:8080/"
        },
        "id": "ZoCew7u33bLG",
        "outputId": "d57957ad-b863-4c33-98d3-36ac00eeefe5"
      },
      "source": [
        "df.shape"
      ],
      "execution_count": 118,
      "outputs": [
        {
          "output_type": "execute_result",
          "data": {
            "text/plain": [
              "(7787, 12)"
            ]
          },
          "metadata": {},
          "execution_count": 118
        }
      ]
    },
    {
      "cell_type": "code",
      "metadata": {
        "colab": {
          "base_uri": "https://localhost:8080/"
        },
        "id": "H46ybq6jaMUk",
        "outputId": "02a4a76e-07dc-49ea-eb21-2ec896ceaa1b"
      },
      "source": [
        "#types of shows\n",
        "df.type.unique()"
      ],
      "execution_count": 119,
      "outputs": [
        {
          "output_type": "execute_result",
          "data": {
            "text/plain": [
              "array(['TV Show', 'Movie'], dtype=object)"
            ]
          },
          "metadata": {},
          "execution_count": 119
        }
      ]
    },
    {
      "cell_type": "code",
      "metadata": {
        "colab": {
          "base_uri": "https://localhost:8080/"
        },
        "id": "0zr45W-d9xKt",
        "outputId": "1df9ea34-9b2d-4b9b-d87a-5fdd5e24ecc9"
      },
      "source": [
        "#types of ratings\n",
        "df.rating.unique()"
      ],
      "execution_count": 120,
      "outputs": [
        {
          "output_type": "execute_result",
          "data": {
            "text/plain": [
              "array(['TV-MA', 'R', 'PG-13', 'TV-14', 'TV-PG', 'NR', 'TV-G', 'TV-Y', nan,\n",
              "       'TV-Y7', 'PG', 'G', 'NC-17', 'TV-Y7-FV', 'UR'], dtype=object)"
            ]
          },
          "metadata": {},
          "execution_count": 120
        }
      ]
    },
    {
      "cell_type": "code",
      "metadata": {
        "id": "-oMzgR4Y3z8v"
      },
      "source": [
        "#copying data to preserve orignal file\n",
        "df1= df.copy()"
      ],
      "execution_count": 121,
      "outputs": []
    },
    {
      "cell_type": "markdown",
      "metadata": {
        "id": "AlHgPHKMB_fY"
      },
      "source": [
        "# **NULL VALUE TREATMENT**"
      ]
    },
    {
      "cell_type": "markdown",
      "metadata": {
        "id": "4iwlh6XP-niy"
      },
      "source": [
        "**1. RATING & COUNTRY** - Replacing nulls with mode\n",
        "\n",
        "\n",
        "**2. CAST**- Replacing nulls with 'unknown'.\n",
        "\n",
        "\n",
        "**3. DATE** - there are few missing values for date column. so, lets drop missing value rows.\n",
        "\n",
        "**4. DIRECTOR** -  Director column has more then 30% null values so we will not use it for our model but will keep it for EDA - Replacing nulls with 'unknown'.\n",
        "\n"
      ]
    },
    {
      "cell_type": "code",
      "metadata": {
        "id": "PsIr7W9Haw66",
        "colab": {
          "base_uri": "https://localhost:8080/",
          "height": 421
        },
        "outputId": "f09b9ad8-9e25-4e2f-9a15-b1e09c964aef"
      },
      "source": [
        "#Calculating the percentage of NULL of values in each column\n",
        "total = df.isnull().sum().sort_values(ascending=False)\n",
        "percent = (df.isnull().sum()/df.isnull().count()).sort_values(ascending=False) * 100\n",
        "missing_data = pd.concat([total, percent], axis=1, keys=['Total', 'Percent'])\n",
        "missing_data"
      ],
      "execution_count": 122,
      "outputs": [
        {
          "output_type": "execute_result",
          "data": {
            "text/html": [
              "<div>\n",
              "<style scoped>\n",
              "    .dataframe tbody tr th:only-of-type {\n",
              "        vertical-align: middle;\n",
              "    }\n",
              "\n",
              "    .dataframe tbody tr th {\n",
              "        vertical-align: top;\n",
              "    }\n",
              "\n",
              "    .dataframe thead th {\n",
              "        text-align: right;\n",
              "    }\n",
              "</style>\n",
              "<table border=\"1\" class=\"dataframe\">\n",
              "  <thead>\n",
              "    <tr style=\"text-align: right;\">\n",
              "      <th></th>\n",
              "      <th>Total</th>\n",
              "      <th>Percent</th>\n",
              "    </tr>\n",
              "  </thead>\n",
              "  <tbody>\n",
              "    <tr>\n",
              "      <th>director</th>\n",
              "      <td>2389</td>\n",
              "      <td>30.679337</td>\n",
              "    </tr>\n",
              "    <tr>\n",
              "      <th>cast</th>\n",
              "      <td>718</td>\n",
              "      <td>9.220496</td>\n",
              "    </tr>\n",
              "    <tr>\n",
              "      <th>country</th>\n",
              "      <td>507</td>\n",
              "      <td>6.510851</td>\n",
              "    </tr>\n",
              "    <tr>\n",
              "      <th>date_added</th>\n",
              "      <td>10</td>\n",
              "      <td>0.128419</td>\n",
              "    </tr>\n",
              "    <tr>\n",
              "      <th>rating</th>\n",
              "      <td>7</td>\n",
              "      <td>0.089893</td>\n",
              "    </tr>\n",
              "    <tr>\n",
              "      <th>description</th>\n",
              "      <td>0</td>\n",
              "      <td>0.000000</td>\n",
              "    </tr>\n",
              "    <tr>\n",
              "      <th>listed_in</th>\n",
              "      <td>0</td>\n",
              "      <td>0.000000</td>\n",
              "    </tr>\n",
              "    <tr>\n",
              "      <th>duration</th>\n",
              "      <td>0</td>\n",
              "      <td>0.000000</td>\n",
              "    </tr>\n",
              "    <tr>\n",
              "      <th>release_year</th>\n",
              "      <td>0</td>\n",
              "      <td>0.000000</td>\n",
              "    </tr>\n",
              "    <tr>\n",
              "      <th>title</th>\n",
              "      <td>0</td>\n",
              "      <td>0.000000</td>\n",
              "    </tr>\n",
              "    <tr>\n",
              "      <th>type</th>\n",
              "      <td>0</td>\n",
              "      <td>0.000000</td>\n",
              "    </tr>\n",
              "    <tr>\n",
              "      <th>show_id</th>\n",
              "      <td>0</td>\n",
              "      <td>0.000000</td>\n",
              "    </tr>\n",
              "  </tbody>\n",
              "</table>\n",
              "</div>"
            ],
            "text/plain": [
              "              Total    Percent\n",
              "director       2389  30.679337\n",
              "cast            718   9.220496\n",
              "country         507   6.510851\n",
              "date_added       10   0.128419\n",
              "rating            7   0.089893\n",
              "description       0   0.000000\n",
              "listed_in         0   0.000000\n",
              "duration          0   0.000000\n",
              "release_year      0   0.000000\n",
              "title             0   0.000000\n",
              "type              0   0.000000\n",
              "show_id           0   0.000000"
            ]
          },
          "metadata": {},
          "execution_count": 122
        }
      ]
    },
    {
      "cell_type": "code",
      "metadata": {
        "id": "hfJmiYbtaw2l"
      },
      "source": [
        "#Replacing missing values in 'director' column with value 'unknown'\n",
        "df['director'].replace(np.nan, \"unknown\",inplace  = True)\n",
        "\n",
        "#Replacing missing values in 'cast' column with value 'unknown'\n",
        "df['cast'].replace(np.nan, \"unknown\",inplace  = True)\n",
        "\n",
        "#Replacing missing values in 'country' column with mode\n",
        "df['country']= df['country'].fillna(df['country'].mode()[0])\n",
        "\n",
        "\n",
        "#Replacing missing values in 'rating' column with value most frequent rating i.e. mode\n",
        "df['rating'] = df['rating'].fillna(df['rating'].mode()[0])\n",
        "\n",
        "# Dropping the null values in 'date_added'\n",
        "df = df[df['date_added'].notna()]"
      ],
      "execution_count": 123,
      "outputs": []
    },
    {
      "cell_type": "code",
      "metadata": {
        "id": "tvqrCOSZaw0l",
        "colab": {
          "base_uri": "https://localhost:8080/"
        },
        "outputId": "4363ab8d-8e27-4831-b1bc-29b680632089"
      },
      "source": [
        "df.info()"
      ],
      "execution_count": 124,
      "outputs": [
        {
          "output_type": "stream",
          "name": "stdout",
          "text": [
            "<class 'pandas.core.frame.DataFrame'>\n",
            "Int64Index: 7777 entries, 0 to 7786\n",
            "Data columns (total 12 columns):\n",
            " #   Column        Non-Null Count  Dtype \n",
            "---  ------        --------------  ----- \n",
            " 0   show_id       7777 non-null   object\n",
            " 1   type          7777 non-null   object\n",
            " 2   title         7777 non-null   object\n",
            " 3   director      7777 non-null   object\n",
            " 4   cast          7777 non-null   object\n",
            " 5   country       7777 non-null   object\n",
            " 6   date_added    7777 non-null   object\n",
            " 7   release_year  7777 non-null   int64 \n",
            " 8   rating        7777 non-null   object\n",
            " 9   duration      7777 non-null   object\n",
            " 10  listed_in     7777 non-null   object\n",
            " 11  description   7777 non-null   object\n",
            "dtypes: int64(1), object(11)\n",
            "memory usage: 789.9+ KB\n"
          ]
        }
      ]
    },
    {
      "cell_type": "markdown",
      "metadata": {
        "id": "wFhXTwybGjVf"
      },
      "source": [
        "No more null values left"
      ]
    },
    {
      "cell_type": "markdown",
      "metadata": {
        "id": "TEXfbSOUGyGP"
      },
      "source": [
        "# **EDA**"
      ]
    },
    {
      "cell_type": "code",
      "metadata": {
        "colab": {
          "base_uri": "https://localhost:8080/"
        },
        "id": "bdX201ddstWS",
        "outputId": "5cd27901-74f7-4c0d-9da6-9863e4e6a671"
      },
      "source": [
        "#check duplicate entries\n",
        "len(df[df.duplicated()])"
      ],
      "execution_count": 125,
      "outputs": [
        {
          "output_type": "execute_result",
          "data": {
            "text/plain": [
              "0"
            ]
          },
          "metadata": {},
          "execution_count": 125
        }
      ]
    },
    {
      "cell_type": "markdown",
      "metadata": {
        "id": "LNGHyxvUHEEH"
      },
      "source": [
        "No duplicates found in the data "
      ]
    },
    {
      "cell_type": "markdown",
      "metadata": {
        "id": "tV_3Y8rqH97n"
      },
      "source": [
        "# **TYPE OF CONTENT**"
      ]
    },
    {
      "cell_type": "code",
      "metadata": {
        "colab": {
          "base_uri": "https://localhost:8080/",
          "height": 427
        },
        "id": "VnNkJ8DYGfjV",
        "outputId": "aaa7ea04-f219-4bb8-fd85-488c5265a1b0"
      },
      "source": [
        "#plotting pie chart on type feature\n",
        "plt.figure(figsize=(14, 7))\n",
        "labels=['TV Show', 'Movie']\n",
        "plt.pie(df['type'].value_counts().sort_values(),labels=labels,explode=[0.1,0.1],\n",
        "        autopct='%1.2f%%', startangle=90)\n",
        "plt.title('Type of Netflix Content')\n",
        "plt.axis('equal')\n",
        "plt.show()"
      ],
      "execution_count": 126,
      "outputs": [
        {
          "output_type": "display_data",
          "data": {
            "image/png": "[encoded data removed]",
            "text/plain": [
              "<Figure size 1008x504 with 1 Axes>"
            ]
          },
          "metadata": {}
        }
      ]
    },
    {
      "cell_type": "markdown",
      "metadata": {
        "id": "8AIj1tkWOKSo"
      },
      "source": [
        "# **COUNTRY**"
      ]
    },
    {
      "cell_type": "code",
      "metadata": {
        "colab": {
          "base_uri": "https://localhost:8080/"
        },
        "id": "9E_IlAQPKuDQ",
        "outputId": "329e9e3d-85d8-4d2f-a912-b67ee7c5cf9a"
      },
      "source": [
        "for i in range(7782,7783):\n",
        "  if type(df['country'][i])== str:\n",
        "    split=df['country'][i].split(',')\n",
        "    print(split)"
      ],
      "execution_count": 127,
      "outputs": [
        {
          "output_type": "stream",
          "name": "stdout",
          "text": [
            "['Sweden', ' Czech Republic', ' United Kingdom', ' Denmark', ' Netherlands']\n"
          ]
        }
      ]
    },
    {
      "cell_type": "code",
      "metadata": {
        "colab": {
          "base_uri": "https://localhost:8080/"
        },
        "id": "zEMZtWU9OlnR",
        "outputId": "4e4d232a-ca39-4dbc-f6e7-224d5c848df7"
      },
      "source": [
        "country_list=[]\n",
        "for k in split:\n",
        "      country_list.append(k.strip())\n",
        "country_list"
      ],
      "execution_count": 128,
      "outputs": [
        {
          "output_type": "execute_result",
          "data": {
            "text/plain": [
              "['Sweden', 'Czech Republic', 'United Kingdom', 'Denmark', 'Netherlands']"
            ]
          },
          "metadata": {},
          "execution_count": 128
        }
      ]
    },
    {
      "cell_type": "code",
      "metadata": {
        "id": "fexWQ6j8O9BZ"
      },
      "source": [
        "production_country=list(set([(i,country_list.count(i)) for i in country_list]))"
      ],
      "execution_count": 129,
      "outputs": []
    },
    {
      "cell_type": "code",
      "metadata": {
        "colab": {
          "base_uri": "https://localhost:8080/"
        },
        "id": "1IKeYmaHPBOA",
        "outputId": "90c34c57-492b-40dc-a937-18fb21aee879"
      },
      "source": [
        "production_country"
      ],
      "execution_count": 130,
      "outputs": [
        {
          "output_type": "execute_result",
          "data": {
            "text/plain": [
              "[('Netherlands', 1),\n",
              " ('Sweden', 1),\n",
              " ('United Kingdom', 1),\n",
              " ('Denmark', 1),\n",
              " ('Czech Republic', 1)]"
            ]
          },
          "metadata": {},
          "execution_count": 130
        }
      ]
    },
    {
      "cell_type": "code",
      "metadata": {
        "id": "o_66NyxiPCK1"
      },
      "source": [
        "#FEATURE ENGINEERING - Creating a new feature 'main_Country'\n",
        "df['main_country']= df['country'].apply(lambda x: x.split(\",\")[0])"
      ],
      "execution_count": 131,
      "outputs": []
    },
    {
      "cell_type": "code",
      "metadata": {
        "colab": {
          "base_uri": "https://localhost:8080/",
          "height": 374
        },
        "id": "IEfXYvN6gmQx",
        "outputId": "ef6b80c7-8984-495c-aa71-004047357d08"
      },
      "source": [
        "df.head()"
      ],
      "execution_count": 132,
      "outputs": [
        {
          "output_type": "execute_result",
          "data": {
            "text/html": [
              "<div>\n",
              "<style scoped>\n",
              "    .dataframe tbody tr th:only-of-type {\n",
              "        vertical-align: middle;\n",
              "    }\n",
              "\n",
              "    .dataframe tbody tr th {\n",
              "        vertical-align: top;\n",
              "    }\n",
              "\n",
              "    .dataframe thead th {\n",
              "        text-align: right;\n",
              "    }\n",
              "</style>\n",
              "<table border=\"1\" class=\"dataframe\">\n",
              "  <thead>\n",
              "    <tr style=\"text-align: right;\">\n",
              "      <th></th>\n",
              "      <th>show_id</th>\n",
              "      <th>type</th>\n",
              "      <th>title</th>\n",
              "      <th>director</th>\n",
              "      <th>cast</th>\n",
              "      <th>country</th>\n",
              "      <th>date_added</th>\n",
              "      <th>release_year</th>\n",
              "      <th>rating</th>\n",
              "      <th>duration</th>\n",
              "      <th>listed_in</th>\n",
              "      <th>description</th>\n",
              "      <th>main_country</th>\n",
              "    </tr>\n",
              "  </thead>\n",
              "  <tbody>\n",
              "    <tr>\n",
              "      <th>0</th>\n",
              "      <td>s1</td>\n",
              "      <td>TV Show</td>\n",
              "      <td>3%</td>\n",
              "      <td>unknown</td>\n",
              "      <td>João Miguel, Bianca Comparato, Michel Gomes, R...</td>\n",
              "      <td>Brazil</td>\n",
              "      <td>August 14, 2020</td>\n",
              "      <td>2020</td>\n",
              "      <td>TV-MA</td>\n",
              "      <td>4 Seasons</td>\n",
              "      <td>International TV Shows, TV Dramas, TV Sci-Fi &amp;...</td>\n",
              "      <td>In a future where the elite inhabit an island ...</td>\n",
              "      <td>Brazil</td>\n",
              "    </tr>\n",
              "    <tr>\n",
              "      <th>1</th>\n",
              "      <td>s2</td>\n",
              "      <td>Movie</td>\n",
              "      <td>7:19</td>\n",
              "      <td>Jorge Michel Grau</td>\n",
              "      <td>Demián Bichir, Héctor Bonilla, Oscar Serrano, ...</td>\n",
              "      <td>Mexico</td>\n",
              "      <td>December 23, 2016</td>\n",
              "      <td>2016</td>\n",
              "      <td>TV-MA</td>\n",
              "      <td>93 min</td>\n",
              "      <td>Dramas, International Movies</td>\n",
              "      <td>After a devastating earthquake hits Mexico Cit...</td>\n",
              "      <td>Mexico</td>\n",
              "    </tr>\n",
              "    <tr>\n",
              "      <th>2</th>\n",
              "      <td>s3</td>\n",
              "      <td>Movie</td>\n",
              "      <td>23:59</td>\n",
              "      <td>Gilbert Chan</td>\n",
              "      <td>Tedd Chan, Stella Chung, Henley Hii, Lawrence ...</td>\n",
              "      <td>Singapore</td>\n",
              "      <td>December 20, 2018</td>\n",
              "      <td>2011</td>\n",
              "      <td>R</td>\n",
              "      <td>78 min</td>\n",
              "      <td>Horror Movies, International Movies</td>\n",
              "      <td>When an army recruit is found dead, his fellow...</td>\n",
              "      <td>Singapore</td>\n",
              "    </tr>\n",
              "    <tr>\n",
              "      <th>3</th>\n",
              "      <td>s4</td>\n",
              "      <td>Movie</td>\n",
              "      <td>9</td>\n",
              "      <td>Shane Acker</td>\n",
              "      <td>Elijah Wood, John C. Reilly, Jennifer Connelly...</td>\n",
              "      <td>United States</td>\n",
              "      <td>November 16, 2017</td>\n",
              "      <td>2009</td>\n",
              "      <td>PG-13</td>\n",
              "      <td>80 min</td>\n",
              "      <td>Action &amp; Adventure, Independent Movies, Sci-Fi...</td>\n",
              "      <td>In a postapocalyptic world, rag-doll robots hi...</td>\n",
              "      <td>United States</td>\n",
              "    </tr>\n",
              "    <tr>\n",
              "      <th>4</th>\n",
              "      <td>s5</td>\n",
              "      <td>Movie</td>\n",
              "      <td>21</td>\n",
              "      <td>Robert Luketic</td>\n",
              "      <td>Jim Sturgess, Kevin Spacey, Kate Bosworth, Aar...</td>\n",
              "      <td>United States</td>\n",
              "      <td>January 1, 2020</td>\n",
              "      <td>2008</td>\n",
              "      <td>PG-13</td>\n",
              "      <td>123 min</td>\n",
              "      <td>Dramas</td>\n",
              "      <td>A brilliant group of students become card-coun...</td>\n",
              "      <td>United States</td>\n",
              "    </tr>\n",
              "  </tbody>\n",
              "</table>\n",
              "</div>"
            ],
            "text/plain": [
              "  show_id  ...   main_country\n",
              "0      s1  ...         Brazil\n",
              "1      s2  ...         Mexico\n",
              "2      s3  ...      Singapore\n",
              "3      s4  ...  United States\n",
              "4      s5  ...  United States\n",
              "\n",
              "[5 rows x 13 columns]"
            ]
          },
          "metadata": {},
          "execution_count": 132
        }
      ]
    },
    {
      "cell_type": "code",
      "metadata": {
        "colab": {
          "base_uri": "https://localhost:8080/",
          "height": 539
        },
        "id": "R6Ox_RBCgs-b",
        "outputId": "7b261312-689e-4b1e-d8bc-107b0a56f6b4"
      },
      "source": [
        "# Top 10 countries on Netflix\n",
        "plt.figure(figsize=(12,8))\n",
        "ax=sns.countplot(x='main_country',lw=2,data=df,\n",
        "              order=df['main_country'].value_counts().index[0:10])\n",
        "\n",
        "plt.title('Top 10 coutries')\n",
        "plt.xlabel('Counts')\n",
        "plt.ylabel('Country Name')"
      ],
      "execution_count": 133,
      "outputs": [
        {
          "output_type": "execute_result",
          "data": {
            "text/plain": [
              "Text(0, 0.5, 'Country Name')"
            ]
          },
          "metadata": {},
          "execution_count": 133
        },
        {
          "output_type": "display_data",
          "data": {
            "image/png": "[encoded data removed]",
            "text/plain": [
              "<Figure size 864x576 with 1 Axes>"
            ]
          },
          "metadata": {}
        }
      ]
    },
    {
      "cell_type": "code",
      "metadata": {
        "colab": {
          "base_uri": "https://localhost:8080/",
          "height": 601
        },
        "id": "yIjsdWMyjzJw",
        "outputId": "10d98425-2fad-4523-99ae-a9bc6a685040"
      },
      "source": [
        "#Proportion of TV Shows and Movies content in top 10 countries with maximum content\n",
        "sns.set()\n",
        "plt.figure(figsize=(10,8))\n",
        "ax=sns.countplot(x=\"main_country\",data= df,hue= \"type\",order = df['main_country'].value_counts().index[0:15])\n",
        "plt.xticks(rotation=90)\n",
        "plt.title(\"Proportion of TV Shows and Movies content in top 10 countries with maximum content\")\n",
        "plt.show()"
      ],
      "execution_count": 134,
      "outputs": [
        {
          "output_type": "display_data",
          "data": {
            "image/png": "[encoded data removed]",
            "text/plain": [
              "<Figure size 720x576 with 1 Axes>"
            ]
          },
          "metadata": {}
        }
      ]
    },
    {
      "cell_type": "markdown",
      "metadata": {
        "id": "l_J7TdgHK_aK"
      },
      "source": [
        "# **TOP 10 DIRECTORS**"
      ]
    },
    {
      "cell_type": "code",
      "metadata": {
        "id": "yiaIQmYbKAZp"
      },
      "source": [
        "#creating copy for plot\n",
        "direc=df.copy()\n",
        "direc=direc[df['director']!='unknown']"
      ],
      "execution_count": 135,
      "outputs": []
    },
    {
      "cell_type": "code",
      "metadata": {
        "colab": {
          "base_uri": "https://localhost:8080/",
          "height": 0
        },
        "id": "J4SPfAEvJS2H",
        "outputId": "6227e6d0-954a-4e7a-b0b4-537f9ebfe9a6"
      },
      "source": [
        "#plot for director\n",
        "\n",
        "plt.figure(figsize = (15,8))\n",
        "sns.countplot(x='director',data=direc,order=direc.director.value_counts().head(10).index)\n",
        "plt.title('Director with most movies/shows')\n",
        "plt.xticks(rotation = 75)\n",
        "plt.show()"
      ],
      "execution_count": 136,
      "outputs": [
        {
          "output_type": "display_data",
          "data": {
            "image/png": "[encoded data removed]",
            "text/plain": [
              "<Figure size 1080x576 with 1 Axes>"
            ]
          },
          "metadata": {}
        }
      ]
    },
    {
      "cell_type": "markdown",
      "metadata": {
        "id": "y4syxRvHkbMu"
      },
      "source": [
        "# **ACTOR**"
      ]
    },
    {
      "cell_type": "code",
      "metadata": {
        "colab": {
          "base_uri": "https://localhost:8080/",
          "height": 0
        },
        "id": "sH9Gn4ZqnIcu",
        "outputId": "bd5ee974-c1e2-470c-eedf-fc5cbe39e17d"
      },
      "source": [
        "df['cast_name'] = df['cast'].apply(lambda x :  x.split(',')) \n",
        "cast_count = []\n",
        "for i in df['cast_name']: cast_count += i\n",
        "    \n",
        "cast_dict = dict((i, cast_count.count(i)) for i in cast_count)\n",
        "\n",
        "df_cast_count = pd.DataFrame(cast_dict.values(),cast_dict.keys()).reset_index().sort_values(0,ascending=False).rename(\n",
        "    columns = {'index' : 'cast_name', 0 : 'count'}).iloc[1:11]\n",
        "plt.figure(figsize=(15,5))\n",
        "sns.barplot(x='cast_name',y='count',data=df_cast_count,palette=\"Dark2_r\")\n",
        "plt.title(\"Top 10 ACTORS on Netflix\",size='16',fontweight=\"bold\")\n",
        "plt.xticks(rotation=90)\n",
        "plt.show()"
      ],
      "execution_count": 137,
      "outputs": [
        {
          "output_type": "display_data",
          "data": {
            "image/png": "[encoded data removed]",
            "text/plain": [
              "<Figure size 1080x360 with 1 Axes>"
            ]
          },
          "metadata": {}
        }
      ]
    },
    {
      "cell_type": "markdown",
      "metadata": {
        "id": "ETlu8On6oJ26"
      },
      "source": [
        "# **GENRES**"
      ]
    },
    {
      "cell_type": "code",
      "metadata": {
        "colab": {
          "base_uri": "https://localhost:8080/"
        },
        "id": "amfzull3S1wy",
        "outputId": "4e64753d-daad-4c30-c7e6-79d7778d3098"
      },
      "source": [
        "type(df['listed_in'][0])"
      ],
      "execution_count": 138,
      "outputs": [
        {
          "output_type": "execute_result",
          "data": {
            "text/plain": [
              "str"
            ]
          },
          "metadata": {},
          "execution_count": 138
        }
      ]
    },
    {
      "cell_type": "code",
      "metadata": {
        "colab": {
          "base_uri": "https://localhost:8080/",
          "height": 0
        },
        "id": "5aUCPUWZsUqc",
        "outputId": "d0b1ccc8-8534-4311-d3d9-a488d9ae7680"
      },
      "source": [
        "#Top 10 genres overall\n",
        "df['listed_in'] = df['listed_in'].apply(lambda x :  x.split(',')) \n",
        "genre_count = []\n",
        "for i in df['listed_in']: \n",
        "  genre_count += i\n",
        "    \n",
        "genre_dict = dict((i, genre_count.count(i)) for i in genre_count)\n",
        "\n",
        "df_genre_count = pd.DataFrame(genre_dict.values(),genre_dict.keys()).reset_index().sort_values(0,ascending=False).rename(\n",
        "    columns = {'index' : 'genre', 0 : 'count'}).iloc[1:11]\n",
        "plt.figure(figsize=(15,5))\n",
        "sns.barplot(x='genre',y='count',data=df_genre_count,palette=\"Dark2_r\")\n",
        "plt.title(\"Top 10 GENRES on Netflix\",size='16',fontweight=\"bold\")\n",
        "plt.xticks(rotation=90)\n",
        "plt.show()"
      ],
      "execution_count": 139,
      "outputs": [
        {
          "output_type": "display_data",
          "data": {
            "image/png": "[encoded data removed]",
            "text/plain": [
              "<Figure size 1080x360 with 1 Axes>"
            ]
          },
          "metadata": {}
        }
      ]
    },
    {
      "cell_type": "code",
      "metadata": {
        "colab": {
          "base_uri": "https://localhost:8080/"
        },
        "id": "sNF5dvodw8zQ",
        "outputId": "e1e8888e-310d-4b5b-e325-87ac1915dfeb"
      },
      "source": [
        "#Getting Movies and TV show records in seperate dataframes\n",
        "movies_df= df[df['type']=='Movie']\n",
        "tvshow_df= df[df['type']=='TV Show']\n",
        "movies_df.shape"
      ],
      "execution_count": 140,
      "outputs": [
        {
          "output_type": "execute_result",
          "data": {
            "text/plain": [
              "(5377, 14)"
            ]
          },
          "metadata": {},
          "execution_count": 140
        }
      ]
    },
    {
      "cell_type": "code",
      "metadata": {
        "colab": {
          "base_uri": "https://localhost:8080/",
          "height": 0
        },
        "id": "_KzPC6v3xqHE",
        "outputId": "3973370f-3752-4789-db24-602936c010ef"
      },
      "source": [
        "#Top 10 genres\n",
        "genre_count = []\n",
        "for i in movies_df['listed_in']: \n",
        "  genre_count += i\n",
        "    \n",
        "genre_dict = dict((i, genre_count.count(i)) for i in genre_count)\n",
        "\n",
        "df_genre_count = pd.DataFrame(genre_dict.values(),genre_dict.keys()).reset_index().sort_values(0,ascending=False).rename(\n",
        "    columns = {'index' : 'genre', 0 : 'count'}).iloc[1:11]\n",
        "plt.figure(figsize=(15,5))\n",
        "sns.barplot(x='genre',y='count',data=df_genre_count,palette=\"Dark2_r\")\n",
        "plt.title(\"Top 10 GENRES on Netflix for movies\",size='16',fontweight=\"bold\")\n",
        "plt.xticks(rotation=90)\n",
        "plt.show()"
      ],
      "execution_count": 141,
      "outputs": [
        {
          "output_type": "display_data",
          "data": {
            "image/png": "[encoded data removed]",
            "text/plain": [
              "<Figure size 1080x360 with 1 Axes>"
            ]
          },
          "metadata": {}
        }
      ]
    },
    {
      "cell_type": "code",
      "metadata": {
        "colab": {
          "base_uri": "https://localhost:8080/",
          "height": 0
        },
        "id": "4yo6F7AQ4Yvm",
        "outputId": "1eba43dc-8396-4d9c-97a9-fcef61483c05"
      },
      "source": [
        "#Top 10 genres\n",
        "genre_count = []\n",
        "for i in tvshow_df['listed_in']: \n",
        "  genre_count += i\n",
        "    \n",
        "genre_dict = dict((i, genre_count.count(i)) for i in genre_count)\n",
        "\n",
        "df_genre_count = pd.DataFrame(genre_dict.values(),genre_dict.keys()).reset_index().sort_values(0,ascending=False).rename(\n",
        "    columns = {'index' : 'genre', 0 : 'count'}).iloc[1:11]\n",
        "plt.figure(figsize=(15,5))\n",
        "sns.barplot(x='genre',y='count',data=df_genre_count,palette=\"Dark2_r\")\n",
        "plt.title(\"Top 10 GENRES on Netflix for TV shows\",size='16',fontweight=\"bold\")\n",
        "plt.xticks(rotation=90)\n",
        "plt.show()"
      ],
      "execution_count": 142,
      "outputs": [
        {
          "output_type": "display_data",
          "data": {
            "image/png": "[encoded data removed]",
            "text/plain": [
              "<Figure size 1080x360 with 1 Axes>"
            ]
          },
          "metadata": {}
        }
      ]
    },
    {
      "cell_type": "markdown",
      "metadata": {
        "id": "7LyQ6prt6amQ"
      },
      "source": [
        "# **YEARS**"
      ]
    },
    {
      "cell_type": "code",
      "metadata": {
        "id": "RTQ7-6fZyUmJ"
      },
      "source": [
        "#feature engineering\n",
        "#getting date in the right format and year/month extraction\n",
        "df ['date_added'] = pd.to_datetime(df['date_added'])\n",
        "df ['year_added'] = df['date_added'].dt.year\n",
        "df ['month_added'] = df['date_added'].dt.month"
      ],
      "execution_count": 143,
      "outputs": []
    },
    {
      "cell_type": "code",
      "metadata": {
        "colab": {
          "base_uri": "https://localhost:8080/",
          "height": 0
        },
        "id": "eyExP3Ti1afK",
        "outputId": "a4939dea-9f14-48a2-826f-5efe6bbe46ec"
      },
      "source": [
        "sns.set(rc={'figure.figsize':(15,8)})\n",
        "sns.countplot(x='month_added',data=df,palette=\"cool\")\n",
        "\n",
        "plt.title(' Releases of Movies month-wise',size='16',fontweight=\"bold\")    \n",
        "plt.show()"
      ],
      "execution_count": 144,
      "outputs": [
        {
          "output_type": "display_data",
          "data": {
            "image/png": "[encoded data removed]",
            "text/plain": [
              "<Figure size 1080x576 with 1 Axes>"
            ]
          },
          "metadata": {}
        }
      ]
    },
    {
      "cell_type": "code",
      "metadata": {
        "colab": {
          "base_uri": "https://localhost:8080/",
          "height": 0
        },
        "id": "kU4NnwmS11gJ",
        "outputId": "9baf658c-45f7-4747-d65b-884912cec8f3"
      },
      "source": [
        "\n",
        "sns.set(rc={'figure.figsize':(14,8)})\n",
        "sns.countplot(x='year_added',data=df)\n",
        "\n",
        "plt.title('Total Releases per year ',size='15',fontweight=\"bold\")    \n",
        "plt.show()"
      ],
      "execution_count": 145,
      "outputs": [
        {
          "output_type": "display_data",
          "data": {
            "image/png": "[encoded data removed]",
            "text/plain": [
              "<Figure size 1008x576 with 1 Axes>"
            ]
          },
          "metadata": {}
        }
      ]
    },
    {
      "cell_type": "markdown",
      "metadata": {
        "id": "8Q_Cr5TG4R3_"
      },
      "source": [
        "# **HYPOTHESIS TESTING**"
      ]
    },
    {
      "cell_type": "markdown",
      "metadata": {
        "id": "ui2z2wYEuOVD"
      },
      "source": [
        "In 2018, they released an interesting report which shows that the number of TV shows on Netflix has nearly tripled since 2010. The streaming service’s number of movies has decreased by more than 2,000 titles since 2010, while its number of TV shows has nearly tripled."
      ]
    },
    {
      "cell_type": "markdown",
      "metadata": {
        "id": "QakCYgVOtqno"
      },
      "source": [
        "NULL HYPOTHESIS - Number of TV shows on Netflix have trippled and number of movies have reduced by 2000 between 2010 and 2018."
      ]
    },
    {
      "cell_type": "code",
      "metadata": {
        "colab": {
          "base_uri": "https://localhost:8080/",
          "height": 0
        },
        "id": "Y0kKtMVByjC-",
        "outputId": "b6c04827-8dad-4b09-facb-e943d494cca7"
      },
      "source": [
        "#Visualize the growth of netflix industry over the years\n",
        "\n",
        "year_data = df['release_year'].value_counts().sort_index().loc[:2021]\n",
        "type_data = df.groupby('release_year')['type'].value_counts().unstack().loc[:2021]\n",
        "\n",
        "\n",
        "plt.figure(figsize=(24,7))\n",
        "\n",
        "sns.lineplot(x=year_data.index,y=year_data, color = 'red', linewidth=3, label='Total')\n",
        "sns.lineplot(type_data.index, type_data['Movie'], color='blue', linewidth=3, label='Movie')\n",
        "sns.lineplot(type_data.index, type_data['TV Show'], color='green', linewidth=3, label='TV Show')\n",
        "\n",
        "plt.xticks(year_data.index.unique())\n",
        "plt.title(\"Trend of year-wise content release\", weight='bold', fontsize=20)\n",
        "plt.xticks(rotation = 90)\n",
        "plt.ylabel('Counts')\n",
        "plt.legend(loc='upper left')"
      ],
      "execution_count": 146,
      "outputs": [
        {
          "output_type": "stream",
          "name": "stderr",
          "text": [
            "/usr/local/lib/python3.7/dist-packages/seaborn/_decorators.py:43: FutureWarning: Pass the following variables as keyword args: x, y. From version 0.12, the only valid positional argument will be `data`, and passing other arguments without an explicit keyword will result in an error or misinterpretation.\n",
            "  FutureWarning\n",
            "/usr/local/lib/python3.7/dist-packages/seaborn/_decorators.py:43: FutureWarning: Pass the following variables as keyword args: x, y. From version 0.12, the only valid positional argument will be `data`, and passing other arguments without an explicit keyword will result in an error or misinterpretation.\n",
            "  FutureWarning\n"
          ]
        },
        {
          "output_type": "execute_result",
          "data": {
            "text/plain": [
              "<matplotlib.legend.Legend at 0x7f9cc4973f50>"
            ]
          },
          "metadata": {},
          "execution_count": 146
        },
        {
          "output_type": "display_data",
          "data": {
            "image/png": "[encoded data removed]",
            "text/plain": [
              "<Figure size 1728x504 with 1 Axes>"
            ]
          },
          "metadata": {}
        }
      ]
    },
    {
      "cell_type": "code",
      "metadata": {
        "id": "Zx0WsuU9wMqB"
      },
      "source": [
        "#Checking the trends from the year 2010\n",
        "df_2010 = df[df['year_added']>=2010]\n",
        "df_2k10_18 = df[df['year_added']<=2018]"
      ],
      "execution_count": 147,
      "outputs": []
    },
    {
      "cell_type": "code",
      "metadata": {
        "colab": {
          "base_uri": "https://localhost:8080/",
          "height": 0
        },
        "id": "G3Zdk45q2LV9",
        "outputId": "03b6bae8-6c4d-48cc-a0b5-43f42953d04e"
      },
      "source": [
        "#overall year_added analysis\n",
        "plt.figure(figsize=(15,8))\n",
        "sns.countplot(df_2k10_18[\"year_added\"],hue=df_2k10_18[\"type\"])\n",
        "plt.xticks(rotation = 90)"
      ],
      "execution_count": 148,
      "outputs": [
        {
          "output_type": "stream",
          "name": "stderr",
          "text": [
            "/usr/local/lib/python3.7/dist-packages/seaborn/_decorators.py:43: FutureWarning: Pass the following variable as a keyword arg: x. From version 0.12, the only valid positional argument will be `data`, and passing other arguments without an explicit keyword will result in an error or misinterpretation.\n",
            "  FutureWarning\n"
          ]
        },
        {
          "output_type": "execute_result",
          "data": {
            "text/plain": [
              "(array([ 0,  1,  2,  3,  4,  5,  6,  7,  8,  9, 10]),\n",
              " <a list of 11 Text major ticklabel objects>)"
            ]
          },
          "metadata": {},
          "execution_count": 148
        },
        {
          "output_type": "display_data",
          "data": {
            "image/png": "[encoded data removed]",
            "text/plain": [
              "<Figure size 1080x576 with 1 Axes>"
            ]
          },
          "metadata": {}
        }
      ]
    },
    {
      "cell_type": "markdown",
      "metadata": {
        "id": "OB-rqj21d1AX"
      },
      "source": [
        "Irrespective of the release years, Netflix has distribution rights for the most number of shows and movies is in the year 2019. Also, there is no decline in the number of movies.Also number if movies added has always been more than the number of tv shows added.Compared the number of tv shows streamed in the year 2010, there is steady increase in the number of tv shows streamed in the year 2019."
      ]
    },
    {
      "cell_type": "markdown",
      "metadata": {
        "id": "Vd-BS-4ZNJaY"
      },
      "source": [
        "# **CLUSTERING**"
      ]
    },
    {
      "cell_type": "code",
      "metadata": {
        "id": "DBpsGi7NioJX",
        "colab": {
          "base_uri": "https://localhost:8080/",
          "height": 181
        },
        "outputId": "681d7bf6-e5db-43f2-a901-8acbf8cf0123"
      },
      "source": [
        "#getting orignal data\n",
        "df=df1.copy()"
      ],
      "execution_count": 4,
      "outputs": [
        {
          "output_type": "error",
          "ename": "NameError",
          "evalue": "ignored",
          "traceback": [
            "\u001b[0;31m---------------------------------------------------------------------------\u001b[0m",
            "\u001b[0;31mNameError\u001b[0m                                 Traceback (most recent call last)",
            "\u001b[0;32m<ipython-input-4-ff72e7334463>\u001b[0m in \u001b[0;36m<module>\u001b[0;34m()\u001b[0m\n\u001b[1;32m      1\u001b[0m \u001b[0;31m#getting orignal data\u001b[0m\u001b[0;34m\u001b[0m\u001b[0;34m\u001b[0m\u001b[0;34m\u001b[0m\u001b[0m\n\u001b[0;32m----> 2\u001b[0;31m \u001b[0mdf\u001b[0m\u001b[0;34m=\u001b[0m\u001b[0mdf1\u001b[0m\u001b[0;34m.\u001b[0m\u001b[0mcopy\u001b[0m\u001b[0;34m(\u001b[0m\u001b[0;34m)\u001b[0m\u001b[0;34m\u001b[0m\u001b[0;34m\u001b[0m\u001b[0m\n\u001b[0m",
            "\u001b[0;31mNameError\u001b[0m: name 'df1' is not defined"
          ]
        }
      ]
    },
    {
      "cell_type": "code",
      "metadata": {
        "id": "cSfP-f80lQPA"
      },
      "source": [
        "# Replacing the values where the director is null with appropriate strings\n",
        "df[\"cast\"] = df[\"cast\"].fillna(\"\")\n",
        "df[\"country\"] = df[\"country\"].fillna(\"United States\")\n",
        "df[\"date_added\"] = df[\"date_added\"].fillna(\"\")\n",
        "df[\"rating\"] = df[\"rating\"].fillna(\"\")\n",
        "df[\"director\"] = df[\"director\"].fillna(\"\")"
      ],
      "execution_count": 5,
      "outputs": []
    },
    {
      "cell_type": "code",
      "metadata": {
        "id": "6QXG4XjqiqD8"
      },
      "source": [
        "# Change cast, country, and listed_in columns from type str to lists\n",
        "df.cast = df.cast.str.split(',').tolist()\n",
        "df.country = df.country.str.split(',').tolist()\n",
        "df.listed_in = df.listed_in.str.split(',').tolist()\n",
        "df.director = df.director.str.split(',').tolist()"
      ],
      "execution_count": 6,
      "outputs": []
    },
    {
      "cell_type": "code",
      "metadata": {
        "colab": {
          "base_uri": "https://localhost:8080/"
        },
        "id": "if57jgVCk57p",
        "outputId": "0102174f-b4de-4d41-a6f7-79964094eba5"
      },
      "source": [
        "# Array of all cast members, countries, ratings, and genres\n",
        "\n",
        "all_cast = df['cast'].explode().unique()\n",
        "all_countries = df['country'].explode().unique()\n",
        "all_ratings = df['rating'].unique()\n",
        "all_genres = df['listed_in'].explode().unique()\n",
        "\n",
        "len(all_cast), len(all_countries), len(all_ratings),len(all_genres)"
      ],
      "execution_count": 7,
      "outputs": [
        {
          "output_type": "execute_result",
          "data": {
            "text/plain": [
              "(35373, 188, 15, 73)"
            ]
          },
          "metadata": {},
          "execution_count": 7
        }
      ]
    },
    {
      "cell_type": "code",
      "metadata": {
        "id": "_b3bTfVW949j"
      },
      "source": [
        ""
      ],
      "execution_count": null,
      "outputs": []
    },
    {
      "cell_type": "code",
      "metadata": {
        "id": "bvP6mQuKpMop"
      },
      "source": [
        "df['combined features'] = df['listed_in'].astype(str) + \" \" + df['description'].astype(str) + \" \" + df['type'].astype(str) + \" \"  + df['rating'].astype(str) + \" \"  + df['country'].astype(str)#+ \" \"  + df['cast'].astype(str)+ df['director'].astype(str)"
      ],
      "execution_count": 8,
      "outputs": []
    },
    {
      "cell_type": "code",
      "metadata": {
        "id": "PG-bKgWNuQuA"
      },
      "source": [
        "import re"
      ],
      "execution_count": 10,
      "outputs": []
    },
    {
      "cell_type": "code",
      "metadata": {
        "id": "JsIMmhgCr2Zq"
      },
      "source": [
        "#removing URLs\n",
        "df['combined features'] = df['combined features'].apply(lambda x: re.sub('https?://[A-Za-z0-9./]+',' ', str(x)))\n",
        "#REMOVING PUNCTUATIONS/NUMBERS/SPECIAL CHARACTERS\n",
        "df['combined features'] = df['combined features'].apply(lambda x: re.sub('[^a-zA-Z]',' ', str(x)))\n",
        "#lower case\n",
        "df['combined features'] = df['combined features'].apply(lambda x: x.lower())\n",
        "#inp_str = REMOVE_NUM.sub('', inp_str)"
      ],
      "execution_count": 11,
      "outputs": []
    },
    {
      "cell_type": "markdown",
      "metadata": {
        "id": "EGv3mZGFt-Aq"
      },
      "source": [
        "REMOVE STOPWORDS"
      ]
    },
    {
      "cell_type": "code",
      "metadata": {
        "id": "Bn47pz0y3yDI"
      },
      "source": [
        "stop = set(stopwords.words('english'))"
      ],
      "execution_count": 12,
      "outputs": []
    },
    {
      "cell_type": "code",
      "metadata": {
        "colab": {
          "base_uri": "https://localhost:8080/",
          "height": 52
        },
        "id": "kqTGqtxb3OQL",
        "outputId": "3bf656f5-d4f6-4d30-b11a-c7321defec34"
      },
      "source": [
        "df['combined features'][0]"
      ],
      "execution_count": 13,
      "outputs": [
        {
          "output_type": "execute_result",
          "data": {
            "application/vnd.google.colaboratory.intrinsic+json": {
              "type": "string"
            },
            "text/plain": [
              "'  international tv shows     tv dramas     tv sci fi   fantasy   in a future where the elite inhabit an island paradise far from the crowded slums  you get one chance to join the    saved from squalor  tv show tv ma   brazil  '"
            ]
          },
          "metadata": {},
          "execution_count": 13
        }
      ]
    },
    {
      "cell_type": "code",
      "metadata": {
        "id": "IbpHD71E82BU"
      },
      "source": [
        "#function to remove stopwords and tokenize\n",
        "def remove_stopwords(text):\n",
        "    text = [word for word in text.split() if word.lower() not in stop]\n",
        "    return (text)"
      ],
      "execution_count": 14,
      "outputs": []
    },
    {
      "cell_type": "code",
      "metadata": {
        "id": "44zlDjl785t1"
      },
      "source": [
        "df['combined features'] = df['combined features'].apply(lambda x: remove_stopwords(x))"
      ],
      "execution_count": 15,
      "outputs": []
    },
    {
      "cell_type": "code",
      "metadata": {
        "colab": {
          "base_uri": "https://localhost:8080/"
        },
        "id": "w9xrqnLG8fWm",
        "outputId": "f91f0bc4-d946-415b-94ba-84dfcb1af625"
      },
      "source": [
        "df['combined features'][10]"
      ],
      "execution_count": 16,
      "outputs": [
        {
          "output_type": "execute_result",
          "data": {
            "text/plain": [
              "['dramas',\n",
              " 'thrillers',\n",
              " 'farmer',\n",
              " 'pens',\n",
              " 'confession',\n",
              " 'admitting',\n",
              " 'wife',\n",
              " 'murder',\n",
              " 'death',\n",
              " 'beginning',\n",
              " 'macabre',\n",
              " 'tale',\n",
              " 'based',\n",
              " 'stephen',\n",
              " 'king',\n",
              " 'novella',\n",
              " 'movie',\n",
              " 'tv',\n",
              " 'united',\n",
              " 'states']"
            ]
          },
          "metadata": {},
          "execution_count": 16
        }
      ]
    },
    {
      "cell_type": "markdown",
      "metadata": {
        "id": "ch1NAitiCEva"
      },
      "source": [
        "**REMOVING SHORT WORDS**"
      ]
    },
    {
      "cell_type": "code",
      "metadata": {
        "id": "jSW6Z0qGCJnB"
      },
      "source": [
        "#Removing words with than 2 letters\n",
        "df['combined features'] = df['combined features'].apply(lambda x: (w for w in x if len(w)>2))"
      ],
      "execution_count": 134,
      "outputs": []
    },
    {
      "cell_type": "markdown",
      "metadata": {
        "id": "LYUpR8yLAzqy"
      },
      "source": [
        "**STEMMING**"
      ]
    },
    {
      "cell_type": "code",
      "metadata": {
        "id": "poRebq0j9khO"
      },
      "source": [
        "from nltk.stem.porter import *\n",
        "stemmer = PorterStemmer()"
      ],
      "execution_count": 17,
      "outputs": []
    },
    {
      "cell_type": "code",
      "metadata": {
        "id": "sT37deyvChmx"
      },
      "source": [
        "#function for stemming\n",
        "def stemming(text):    \n",
        "    text = [stemmer.stem(word) for word in text]\n",
        "    return (\" \".join(text))"
      ],
      "execution_count": 18,
      "outputs": []
    },
    {
      "cell_type": "code",
      "metadata": {
        "id": "dz56E9wLDSqr"
      },
      "source": [
        "df['combined features'] = df['combined features'].apply(lambda x: stemming(x))"
      ],
      "execution_count": 19,
      "outputs": []
    },
    {
      "cell_type": "markdown",
      "metadata": {
        "id": "Qqcs7jB5_r3N"
      },
      "source": [
        "**VECTORIZATION**"
      ]
    },
    {
      "cell_type": "code",
      "metadata": {
        "colab": {
          "base_uri": "https://localhost:8080/",
          "height": 270
        },
        "id": "D16YAYHS7AyM",
        "outputId": "2f3aa13c-2b76-4392-afdd-9b4193908deb"
      },
      "source": [
        "from sklearn.feature_extraction.text import TfidfVectorizer\n",
        "vectorizer = TfidfVectorizer(sublinear_tf= True, min_df=10, norm='l2', ngram_range=(1, 2), stop_words='english')\n",
        "x = vectorizer.fit_transform(df[\"combined features\"])\n",
        "\n",
        "pd.DataFrame(x.toarray(), columns=vectorizer.get_feature_names()).head()"
      ],
      "execution_count": 20,
      "outputs": [
        {
          "output_type": "execute_result",
          "data": {
            "text/html": [
              "<div>\n",
              "<style scoped>\n",
              "    .dataframe tbody tr th:only-of-type {\n",
              "        vertical-align: middle;\n",
              "    }\n",
              "\n",
              "    .dataframe tbody tr th {\n",
              "        vertical-align: top;\n",
              "    }\n",
              "\n",
              "    .dataframe thead th {\n",
              "        text-align: right;\n",
              "    }\n",
              "</style>\n",
              "<table border=\"1\" class=\"dataframe\">\n",
              "  <thead>\n",
              "    <tr style=\"text-align: right;\">\n",
              "      <th></th>\n",
              "      <th>abandon</th>\n",
              "      <th>abduct</th>\n",
              "      <th>abil</th>\n",
              "      <th>aboard</th>\n",
              "      <th>absurd</th>\n",
              "      <th>abus</th>\n",
              "      <th>academi</th>\n",
              "      <th>accept</th>\n",
              "      <th>access</th>\n",
              "      <th>accid</th>\n",
              "      <th>accident</th>\n",
              "      <th>acclaim</th>\n",
              "      <th>account</th>\n",
              "      <th>accus</th>\n",
              "      <th>achiev</th>\n",
              "      <th>act</th>\n",
              "      <th>action</th>\n",
              "      <th>action adventur</th>\n",
              "      <th>action pack</th>\n",
              "      <th>activ</th>\n",
              "      <th>activist</th>\n",
              "      <th>actor</th>\n",
              "      <th>actress</th>\n",
              "      <th>actual</th>\n",
              "      <th>ad</th>\n",
              "      <th>adam</th>\n",
              "      <th>adapt</th>\n",
              "      <th>addict</th>\n",
              "      <th>adjust</th>\n",
              "      <th>adolesc</th>\n",
              "      <th>adopt</th>\n",
              "      <th>ador</th>\n",
              "      <th>adult</th>\n",
              "      <th>adulthood</th>\n",
              "      <th>adventur</th>\n",
              "      <th>adventur anim</th>\n",
              "      <th>adventur children</th>\n",
              "      <th>adventur classic</th>\n",
              "      <th>adventur comedi</th>\n",
              "      <th>adventur drama</th>\n",
              "      <th>...</th>\n",
              "      <th>wood</th>\n",
              "      <th>word</th>\n",
              "      <th>work</th>\n",
              "      <th>work togeth</th>\n",
              "      <th>worker</th>\n",
              "      <th>world</th>\n",
              "      <th>world cup</th>\n",
              "      <th>world movi</th>\n",
              "      <th>world tv</th>\n",
              "      <th>world war</th>\n",
              "      <th>worst</th>\n",
              "      <th>wound</th>\n",
              "      <th>wreak</th>\n",
              "      <th>wreak havoc</th>\n",
              "      <th>wrestl</th>\n",
              "      <th>write</th>\n",
              "      <th>writer</th>\n",
              "      <th>wrong</th>\n",
              "      <th>year</th>\n",
              "      <th>year ago</th>\n",
              "      <th>year later</th>\n",
              "      <th>year movi</th>\n",
              "      <th>year old</th>\n",
              "      <th>yearn</th>\n",
              "      <th>york</th>\n",
              "      <th>york citi</th>\n",
              "      <th>young</th>\n",
              "      <th>young boy</th>\n",
              "      <th>young coupl</th>\n",
              "      <th>young girl</th>\n",
              "      <th>young man</th>\n",
              "      <th>young men</th>\n",
              "      <th>young son</th>\n",
              "      <th>young woman</th>\n",
              "      <th>young women</th>\n",
              "      <th>younger</th>\n",
              "      <th>youth</th>\n",
              "      <th>zani</th>\n",
              "      <th>zealand</th>\n",
              "      <th>zombi</th>\n",
              "    </tr>\n",
              "  </thead>\n",
              "  <tbody>\n",
              "    <tr>\n",
              "      <th>0</th>\n",
              "      <td>0.0</td>\n",
              "      <td>0.0</td>\n",
              "      <td>0.0</td>\n",
              "      <td>0.0</td>\n",
              "      <td>0.0</td>\n",
              "      <td>0.0</td>\n",
              "      <td>0.0</td>\n",
              "      <td>0.0</td>\n",
              "      <td>0.0</td>\n",
              "      <td>0.0</td>\n",
              "      <td>0.0</td>\n",
              "      <td>0.0</td>\n",
              "      <td>0.0</td>\n",
              "      <td>0.0</td>\n",
              "      <td>0.0</td>\n",
              "      <td>0.0</td>\n",
              "      <td>0.000000</td>\n",
              "      <td>0.000000</td>\n",
              "      <td>0.0</td>\n",
              "      <td>0.0</td>\n",
              "      <td>0.0</td>\n",
              "      <td>0.0</td>\n",
              "      <td>0.0</td>\n",
              "      <td>0.0</td>\n",
              "      <td>0.0</td>\n",
              "      <td>0.0</td>\n",
              "      <td>0.0</td>\n",
              "      <td>0.0</td>\n",
              "      <td>0.0</td>\n",
              "      <td>0.0</td>\n",
              "      <td>0.0</td>\n",
              "      <td>0.0</td>\n",
              "      <td>0.0</td>\n",
              "      <td>0.0</td>\n",
              "      <td>0.000000</td>\n",
              "      <td>0.0</td>\n",
              "      <td>0.0</td>\n",
              "      <td>0.0</td>\n",
              "      <td>0.0</td>\n",
              "      <td>0.0</td>\n",
              "      <td>...</td>\n",
              "      <td>0.0</td>\n",
              "      <td>0.0</td>\n",
              "      <td>0.0</td>\n",
              "      <td>0.0</td>\n",
              "      <td>0.0</td>\n",
              "      <td>0.000000</td>\n",
              "      <td>0.0</td>\n",
              "      <td>0.0</td>\n",
              "      <td>0.0</td>\n",
              "      <td>0.0</td>\n",
              "      <td>0.0</td>\n",
              "      <td>0.0</td>\n",
              "      <td>0.0</td>\n",
              "      <td>0.0</td>\n",
              "      <td>0.0</td>\n",
              "      <td>0.0</td>\n",
              "      <td>0.0</td>\n",
              "      <td>0.0</td>\n",
              "      <td>0.0</td>\n",
              "      <td>0.0</td>\n",
              "      <td>0.0</td>\n",
              "      <td>0.0</td>\n",
              "      <td>0.0</td>\n",
              "      <td>0.0</td>\n",
              "      <td>0.0</td>\n",
              "      <td>0.0</td>\n",
              "      <td>0.0</td>\n",
              "      <td>0.0</td>\n",
              "      <td>0.0</td>\n",
              "      <td>0.0</td>\n",
              "      <td>0.0</td>\n",
              "      <td>0.0</td>\n",
              "      <td>0.0</td>\n",
              "      <td>0.0</td>\n",
              "      <td>0.0</td>\n",
              "      <td>0.0</td>\n",
              "      <td>0.0</td>\n",
              "      <td>0.0</td>\n",
              "      <td>0.0</td>\n",
              "      <td>0.0</td>\n",
              "    </tr>\n",
              "    <tr>\n",
              "      <th>1</th>\n",
              "      <td>0.0</td>\n",
              "      <td>0.0</td>\n",
              "      <td>0.0</td>\n",
              "      <td>0.0</td>\n",
              "      <td>0.0</td>\n",
              "      <td>0.0</td>\n",
              "      <td>0.0</td>\n",
              "      <td>0.0</td>\n",
              "      <td>0.0</td>\n",
              "      <td>0.0</td>\n",
              "      <td>0.0</td>\n",
              "      <td>0.0</td>\n",
              "      <td>0.0</td>\n",
              "      <td>0.0</td>\n",
              "      <td>0.0</td>\n",
              "      <td>0.0</td>\n",
              "      <td>0.000000</td>\n",
              "      <td>0.000000</td>\n",
              "      <td>0.0</td>\n",
              "      <td>0.0</td>\n",
              "      <td>0.0</td>\n",
              "      <td>0.0</td>\n",
              "      <td>0.0</td>\n",
              "      <td>0.0</td>\n",
              "      <td>0.0</td>\n",
              "      <td>0.0</td>\n",
              "      <td>0.0</td>\n",
              "      <td>0.0</td>\n",
              "      <td>0.0</td>\n",
              "      <td>0.0</td>\n",
              "      <td>0.0</td>\n",
              "      <td>0.0</td>\n",
              "      <td>0.0</td>\n",
              "      <td>0.0</td>\n",
              "      <td>0.000000</td>\n",
              "      <td>0.0</td>\n",
              "      <td>0.0</td>\n",
              "      <td>0.0</td>\n",
              "      <td>0.0</td>\n",
              "      <td>0.0</td>\n",
              "      <td>...</td>\n",
              "      <td>0.0</td>\n",
              "      <td>0.0</td>\n",
              "      <td>0.0</td>\n",
              "      <td>0.0</td>\n",
              "      <td>0.0</td>\n",
              "      <td>0.000000</td>\n",
              "      <td>0.0</td>\n",
              "      <td>0.0</td>\n",
              "      <td>0.0</td>\n",
              "      <td>0.0</td>\n",
              "      <td>0.0</td>\n",
              "      <td>0.0</td>\n",
              "      <td>0.0</td>\n",
              "      <td>0.0</td>\n",
              "      <td>0.0</td>\n",
              "      <td>0.0</td>\n",
              "      <td>0.0</td>\n",
              "      <td>0.0</td>\n",
              "      <td>0.0</td>\n",
              "      <td>0.0</td>\n",
              "      <td>0.0</td>\n",
              "      <td>0.0</td>\n",
              "      <td>0.0</td>\n",
              "      <td>0.0</td>\n",
              "      <td>0.0</td>\n",
              "      <td>0.0</td>\n",
              "      <td>0.0</td>\n",
              "      <td>0.0</td>\n",
              "      <td>0.0</td>\n",
              "      <td>0.0</td>\n",
              "      <td>0.0</td>\n",
              "      <td>0.0</td>\n",
              "      <td>0.0</td>\n",
              "      <td>0.0</td>\n",
              "      <td>0.0</td>\n",
              "      <td>0.0</td>\n",
              "      <td>0.0</td>\n",
              "      <td>0.0</td>\n",
              "      <td>0.0</td>\n",
              "      <td>0.0</td>\n",
              "    </tr>\n",
              "    <tr>\n",
              "      <th>2</th>\n",
              "      <td>0.0</td>\n",
              "      <td>0.0</td>\n",
              "      <td>0.0</td>\n",
              "      <td>0.0</td>\n",
              "      <td>0.0</td>\n",
              "      <td>0.0</td>\n",
              "      <td>0.0</td>\n",
              "      <td>0.0</td>\n",
              "      <td>0.0</td>\n",
              "      <td>0.0</td>\n",
              "      <td>0.0</td>\n",
              "      <td>0.0</td>\n",
              "      <td>0.0</td>\n",
              "      <td>0.0</td>\n",
              "      <td>0.0</td>\n",
              "      <td>0.0</td>\n",
              "      <td>0.000000</td>\n",
              "      <td>0.000000</td>\n",
              "      <td>0.0</td>\n",
              "      <td>0.0</td>\n",
              "      <td>0.0</td>\n",
              "      <td>0.0</td>\n",
              "      <td>0.0</td>\n",
              "      <td>0.0</td>\n",
              "      <td>0.0</td>\n",
              "      <td>0.0</td>\n",
              "      <td>0.0</td>\n",
              "      <td>0.0</td>\n",
              "      <td>0.0</td>\n",
              "      <td>0.0</td>\n",
              "      <td>0.0</td>\n",
              "      <td>0.0</td>\n",
              "      <td>0.0</td>\n",
              "      <td>0.0</td>\n",
              "      <td>0.000000</td>\n",
              "      <td>0.0</td>\n",
              "      <td>0.0</td>\n",
              "      <td>0.0</td>\n",
              "      <td>0.0</td>\n",
              "      <td>0.0</td>\n",
              "      <td>...</td>\n",
              "      <td>0.0</td>\n",
              "      <td>0.0</td>\n",
              "      <td>0.0</td>\n",
              "      <td>0.0</td>\n",
              "      <td>0.0</td>\n",
              "      <td>0.000000</td>\n",
              "      <td>0.0</td>\n",
              "      <td>0.0</td>\n",
              "      <td>0.0</td>\n",
              "      <td>0.0</td>\n",
              "      <td>0.0</td>\n",
              "      <td>0.0</td>\n",
              "      <td>0.0</td>\n",
              "      <td>0.0</td>\n",
              "      <td>0.0</td>\n",
              "      <td>0.0</td>\n",
              "      <td>0.0</td>\n",
              "      <td>0.0</td>\n",
              "      <td>0.0</td>\n",
              "      <td>0.0</td>\n",
              "      <td>0.0</td>\n",
              "      <td>0.0</td>\n",
              "      <td>0.0</td>\n",
              "      <td>0.0</td>\n",
              "      <td>0.0</td>\n",
              "      <td>0.0</td>\n",
              "      <td>0.0</td>\n",
              "      <td>0.0</td>\n",
              "      <td>0.0</td>\n",
              "      <td>0.0</td>\n",
              "      <td>0.0</td>\n",
              "      <td>0.0</td>\n",
              "      <td>0.0</td>\n",
              "      <td>0.0</td>\n",
              "      <td>0.0</td>\n",
              "      <td>0.0</td>\n",
              "      <td>0.0</td>\n",
              "      <td>0.0</td>\n",
              "      <td>0.0</td>\n",
              "      <td>0.0</td>\n",
              "    </tr>\n",
              "    <tr>\n",
              "      <th>3</th>\n",
              "      <td>0.0</td>\n",
              "      <td>0.0</td>\n",
              "      <td>0.0</td>\n",
              "      <td>0.0</td>\n",
              "      <td>0.0</td>\n",
              "      <td>0.0</td>\n",
              "      <td>0.0</td>\n",
              "      <td>0.0</td>\n",
              "      <td>0.0</td>\n",
              "      <td>0.0</td>\n",
              "      <td>0.0</td>\n",
              "      <td>0.0</td>\n",
              "      <td>0.0</td>\n",
              "      <td>0.0</td>\n",
              "      <td>0.0</td>\n",
              "      <td>0.0</td>\n",
              "      <td>0.126218</td>\n",
              "      <td>0.127839</td>\n",
              "      <td>0.0</td>\n",
              "      <td>0.0</td>\n",
              "      <td>0.0</td>\n",
              "      <td>0.0</td>\n",
              "      <td>0.0</td>\n",
              "      <td>0.0</td>\n",
              "      <td>0.0</td>\n",
              "      <td>0.0</td>\n",
              "      <td>0.0</td>\n",
              "      <td>0.0</td>\n",
              "      <td>0.0</td>\n",
              "      <td>0.0</td>\n",
              "      <td>0.0</td>\n",
              "      <td>0.0</td>\n",
              "      <td>0.0</td>\n",
              "      <td>0.0</td>\n",
              "      <td>0.121091</td>\n",
              "      <td>0.0</td>\n",
              "      <td>0.0</td>\n",
              "      <td>0.0</td>\n",
              "      <td>0.0</td>\n",
              "      <td>0.0</td>\n",
              "      <td>...</td>\n",
              "      <td>0.0</td>\n",
              "      <td>0.0</td>\n",
              "      <td>0.0</td>\n",
              "      <td>0.0</td>\n",
              "      <td>0.0</td>\n",
              "      <td>0.148922</td>\n",
              "      <td>0.0</td>\n",
              "      <td>0.0</td>\n",
              "      <td>0.0</td>\n",
              "      <td>0.0</td>\n",
              "      <td>0.0</td>\n",
              "      <td>0.0</td>\n",
              "      <td>0.0</td>\n",
              "      <td>0.0</td>\n",
              "      <td>0.0</td>\n",
              "      <td>0.0</td>\n",
              "      <td>0.0</td>\n",
              "      <td>0.0</td>\n",
              "      <td>0.0</td>\n",
              "      <td>0.0</td>\n",
              "      <td>0.0</td>\n",
              "      <td>0.0</td>\n",
              "      <td>0.0</td>\n",
              "      <td>0.0</td>\n",
              "      <td>0.0</td>\n",
              "      <td>0.0</td>\n",
              "      <td>0.0</td>\n",
              "      <td>0.0</td>\n",
              "      <td>0.0</td>\n",
              "      <td>0.0</td>\n",
              "      <td>0.0</td>\n",
              "      <td>0.0</td>\n",
              "      <td>0.0</td>\n",
              "      <td>0.0</td>\n",
              "      <td>0.0</td>\n",
              "      <td>0.0</td>\n",
              "      <td>0.0</td>\n",
              "      <td>0.0</td>\n",
              "      <td>0.0</td>\n",
              "      <td>0.0</td>\n",
              "    </tr>\n",
              "    <tr>\n",
              "      <th>4</th>\n",
              "      <td>0.0</td>\n",
              "      <td>0.0</td>\n",
              "      <td>0.0</td>\n",
              "      <td>0.0</td>\n",
              "      <td>0.0</td>\n",
              "      <td>0.0</td>\n",
              "      <td>0.0</td>\n",
              "      <td>0.0</td>\n",
              "      <td>0.0</td>\n",
              "      <td>0.0</td>\n",
              "      <td>0.0</td>\n",
              "      <td>0.0</td>\n",
              "      <td>0.0</td>\n",
              "      <td>0.0</td>\n",
              "      <td>0.0</td>\n",
              "      <td>0.0</td>\n",
              "      <td>0.000000</td>\n",
              "      <td>0.000000</td>\n",
              "      <td>0.0</td>\n",
              "      <td>0.0</td>\n",
              "      <td>0.0</td>\n",
              "      <td>0.0</td>\n",
              "      <td>0.0</td>\n",
              "      <td>0.0</td>\n",
              "      <td>0.0</td>\n",
              "      <td>0.0</td>\n",
              "      <td>0.0</td>\n",
              "      <td>0.0</td>\n",
              "      <td>0.0</td>\n",
              "      <td>0.0</td>\n",
              "      <td>0.0</td>\n",
              "      <td>0.0</td>\n",
              "      <td>0.0</td>\n",
              "      <td>0.0</td>\n",
              "      <td>0.000000</td>\n",
              "      <td>0.0</td>\n",
              "      <td>0.0</td>\n",
              "      <td>0.0</td>\n",
              "      <td>0.0</td>\n",
              "      <td>0.0</td>\n",
              "      <td>...</td>\n",
              "      <td>0.0</td>\n",
              "      <td>0.0</td>\n",
              "      <td>0.0</td>\n",
              "      <td>0.0</td>\n",
              "      <td>0.0</td>\n",
              "      <td>0.000000</td>\n",
              "      <td>0.0</td>\n",
              "      <td>0.0</td>\n",
              "      <td>0.0</td>\n",
              "      <td>0.0</td>\n",
              "      <td>0.0</td>\n",
              "      <td>0.0</td>\n",
              "      <td>0.0</td>\n",
              "      <td>0.0</td>\n",
              "      <td>0.0</td>\n",
              "      <td>0.0</td>\n",
              "      <td>0.0</td>\n",
              "      <td>0.0</td>\n",
              "      <td>0.0</td>\n",
              "      <td>0.0</td>\n",
              "      <td>0.0</td>\n",
              "      <td>0.0</td>\n",
              "      <td>0.0</td>\n",
              "      <td>0.0</td>\n",
              "      <td>0.0</td>\n",
              "      <td>0.0</td>\n",
              "      <td>0.0</td>\n",
              "      <td>0.0</td>\n",
              "      <td>0.0</td>\n",
              "      <td>0.0</td>\n",
              "      <td>0.0</td>\n",
              "      <td>0.0</td>\n",
              "      <td>0.0</td>\n",
              "      <td>0.0</td>\n",
              "      <td>0.0</td>\n",
              "      <td>0.0</td>\n",
              "      <td>0.0</td>\n",
              "      <td>0.0</td>\n",
              "      <td>0.0</td>\n",
              "      <td>0.0</td>\n",
              "    </tr>\n",
              "  </tbody>\n",
              "</table>\n",
              "<p>5 rows × 2604 columns</p>\n",
              "</div>"
            ],
            "text/plain": [
              "   abandon  abduct  abil  aboard  absurd  ...  younger  youth  zani  zealand  zombi\n",
              "0      0.0     0.0   0.0     0.0     0.0  ...      0.0    0.0   0.0      0.0    0.0\n",
              "1      0.0     0.0   0.0     0.0     0.0  ...      0.0    0.0   0.0      0.0    0.0\n",
              "2      0.0     0.0   0.0     0.0     0.0  ...      0.0    0.0   0.0      0.0    0.0\n",
              "3      0.0     0.0   0.0     0.0     0.0  ...      0.0    0.0   0.0      0.0    0.0\n",
              "4      0.0     0.0   0.0     0.0     0.0  ...      0.0    0.0   0.0      0.0    0.0\n",
              "\n",
              "[5 rows x 2604 columns]"
            ]
          },
          "metadata": {},
          "execution_count": 20
        }
      ]
    },
    {
      "cell_type": "code",
      "metadata": {
        "id": "ZkxDjmyJGKHF"
      },
      "source": [
        "#using tfidf\n",
        "from sklearn.feature_extraction.text import TfidfVectorizer\n",
        "t_vectorizer = TfidfVectorizer(max_df = 0.9,min_df = 1, max_features=15000)\n",
        "x = t_vectorizer.fit_transform(df['combined features'])"
      ],
      "execution_count": 138,
      "outputs": []
    },
    {
      "cell_type": "code",
      "metadata": {
        "colab": {
          "base_uri": "https://localhost:8080/"
        },
        "id": "pIV7_Jcee7Rd",
        "outputId": "8da0cedf-97ad-4f71-c563-6a48e385da62"
      },
      "source": [
        "x"
      ],
      "execution_count": 21,
      "outputs": [
        {
          "output_type": "execute_result",
          "data": {
            "text/plain": [
              "<7787x2604 sparse matrix of type '<class 'numpy.float64'>'\n",
              "\twith 176127 stored elements in Compressed Sparse Row format>"
            ]
          },
          "metadata": {},
          "execution_count": 21
        }
      ]
    },
    {
      "cell_type": "markdown",
      "metadata": {
        "id": "uQok0KUSfdjl"
      },
      "source": [
        "# **K MEANS CLUSTERING**"
      ]
    },
    {
      "cell_type": "code",
      "metadata": {
        "colab": {
          "base_uri": "https://localhost:8080/"
        },
        "id": "oV9GdhmkfgxF",
        "outputId": "f4f00c01-5723-4de2-b3b5-a35ffd8a5e17"
      },
      "source": [
        "# \n",
        "from sklearn.cluster import KMeans\n",
        "from yellowbrick.cluster import KElbowVisualizer\n",
        "\n",
        "from sklearn.metrics import silhouette_score"
      ],
      "execution_count": 22,
      "outputs": [
        {
          "output_type": "stream",
          "name": "stderr",
          "text": [
            "/usr/local/lib/python3.7/dist-packages/sklearn/utils/deprecation.py:144: FutureWarning: The sklearn.metrics.classification module is  deprecated in version 0.22 and will be removed in version 0.24. The corresponding classes / functions should instead be imported from sklearn.metrics. Anything that cannot be imported from sklearn.metrics is now part of the private API.\n",
            "  warnings.warn(message, FutureWarning)\n"
          ]
        }
      ]
    },
    {
      "cell_type": "code",
      "metadata": {
        "id": "mLe3u5oNhPh7"
      },
      "source": [
        ""
      ],
      "execution_count": 169,
      "outputs": []
    },
    {
      "cell_type": "code",
      "metadata": {
        "id": "Gs81ZnpcnWP7"
      },
      "source": [
        "clusters=[i for i in range(2,103,10)]\n",
        "silhouette_avg = []\n",
        "Sum_of_squared_distances = []\n",
        "for num_clusters in clusters:\n",
        " \n",
        " # initialise kmeans\n",
        " kmeans = KMeans(n_clusters=num_clusters, init='k-means++', n_init=10)\n",
        " kmeans.fit(x)\n",
        " cluster_labels = kmeans.labels_\n",
        " silhouette_avg.append(silhouette_score(x, cluster_labels))\n",
        " Sum_of_squared_distances.append(kmeans.inertia_)\n",
        " \n",
        "\n",
        "\n"
      ],
      "execution_count": 23,
      "outputs": []
    },
    {
      "cell_type": "code",
      "metadata": {
        "colab": {
          "base_uri": "https://localhost:8080/",
          "height": 512
        },
        "id": "sQsISokNoI4K",
        "outputId": "dcb48516-e845-41d5-8bd5-96259c51268a"
      },
      "source": [
        " # silhouette score\n",
        "plt.figure(figsize=(10,8))\n",
        "plt.plot(clusters,silhouette_avg,'bx-')\n",
        "plt.xlabel('Values of K') \n",
        "plt.ylabel('Silhouette score') \n",
        "plt.title('Silhouette analysis For Optimal k')\n",
        "plt.show()"
      ],
      "execution_count": 24,
      "outputs": [
        {
          "output_type": "display_data",
          "data": {
            "image/png": "[encoded data removed]",
            "text/plain": [
              "<Figure size 720x576 with 1 Axes>"
            ]
          },
          "metadata": {}
        }
      ]
    },
    {
      "cell_type": "code",
      "metadata": {
        "colab": {
          "base_uri": "https://localhost:8080/",
          "height": 512
        },
        "id": "Jm-i6NhAoF4Y",
        "outputId": "b01f3655-3f39-4897-c364-fff28b2fd0ff"
      },
      "source": [
        "# Elbow method\n",
        "plt.figure(figsize=(10,8))\n",
        "plt.plot(clusters,Sum_of_squared_distances,'bx-')\n",
        "\n",
        "plt.xlabel('Values of K') \n",
        "plt.ylabel('Sum of squared distances/Inertia') \n",
        "plt.title('Elbow Method For Optimal k')\n",
        "plt.show()"
      ],
      "execution_count": 25,
      "outputs": [
        {
          "output_type": "display_data",
          "data": {
            "image/png": "[encoded data removed]",
            "text/plain": [
              "<Figure size 720x576 with 1 Axes>"
            ]
          },
          "metadata": {}
        }
      ]
    },
    {
      "cell_type": "code",
      "metadata": {
        "id": "J0BMV1Vou-W_"
      },
      "source": [
        "clusters=[i for i in range(2,40,1)]\n",
        "silhouette_avg = []\n",
        "Sum_of_squared_distances = []\n",
        "for num_clusters in clusters:\n",
        " \n",
        " # initialise kmeans\n",
        " kmeans = KMeans(n_clusters=num_clusters, init='k-means++', n_init=10)\n",
        " kmeans.fit(x)\n",
        " cluster_labels = kmeans.labels_\n",
        " silhouette_avg.append(silhouette_score(x, cluster_labels))\n",
        " Sum_of_squared_distances.append(kmeans.inertia_)\n",
        " \n",
        "\n",
        "\n"
      ],
      "execution_count": 26,
      "outputs": []
    },
    {
      "cell_type": "code",
      "metadata": {
        "colab": {
          "base_uri": "https://localhost:8080/",
          "height": 512
        },
        "id": "PN6aBYlBu-XA",
        "outputId": "5fb931c9-cb1d-4b6d-bfe7-bab2d3f39ac6"
      },
      "source": [
        " # silhouette score\n",
        "plt.figure(figsize=(10,8))\n",
        "plt.plot(clusters,silhouette_avg,'bx-')\n",
        "plt.xlabel('Values of K') \n",
        "plt.ylabel('Silhouette score') \n",
        "plt.title('Silhouette analysis For Optimal k')\n",
        "plt.show()"
      ],
      "execution_count": 27,
      "outputs": [
        {
          "output_type": "display_data",
          "data": {
            "image/png": "[encoded data removed]",
            "text/plain": [
              "<Figure size 720x576 with 1 Axes>"
            ]
          },
          "metadata": {}
        }
      ]
    },
    {
      "cell_type": "code",
      "metadata": {
        "colab": {
          "base_uri": "https://localhost:8080/",
          "height": 512
        },
        "id": "KZyhZ_v5u-XA",
        "outputId": "4eb5213d-6d5d-43be-a094-967e93a53e41"
      },
      "source": [
        "# Elbow method\n",
        "plt.figure(figsize=(10,8))\n",
        "plt.plot(clusters,Sum_of_squared_distances,'bx-')\n",
        "\n",
        "plt.xlabel('Values of K') \n",
        "plt.ylabel('Sum of squared distances/Inertia') \n",
        "plt.title('Elbow Method For Optimal k')\n",
        "plt.show()"
      ],
      "execution_count": 28,
      "outputs": [
        {
          "output_type": "display_data",
          "data": {
            "image/png": "[encoded data removed]",
            "text/plain": [
              "<Figure size 720x576 with 1 Axes>"
            ]
          },
          "metadata": {}
        }
      ]
    },
    {
      "cell_type": "markdown",
      "metadata": {
        "id": "4hx_N5s1DLhL"
      },
      "source": [
        "K=22"
      ]
    },
    {
      "cell_type": "code",
      "metadata": {
        "id": "y-jWuYCkDNSS"
      },
      "source": [
        "# Create K-Means Model\n",
        "modelkmeans = KMeans(n_clusters=22, init='k-means++', n_init=10).fit(x)\n",
        "\n",
        "# Form cluster predictions using K-Means Model\n",
        "predictions = modelkmeans.fit_predict(x)\n",
        "\n",
        "# Convert cluster predictions to data frame\n",
        "predictions_df = pd.DataFrame(predictions, columns=['cluster'])\n",
        "\n",
        "# Attach cluster predictions to original data frame\n",
        "#df.insert(len(df.columns), column = 'cluster', value = predictions_df.cluster)"
      ],
      "execution_count": 29,
      "outputs": []
    },
    {
      "cell_type": "code",
      "metadata": {
        "id": "78060p9_sDTR"
      },
      "source": [
        "df.insert(len(df.columns), column = 'cluster', value = predictions_df.cluster)"
      ],
      "execution_count": 31,
      "outputs": []
    },
    {
      "cell_type": "code",
      "metadata": {
        "colab": {
          "base_uri": "https://localhost:8080/",
          "height": 204
        },
        "id": "Ks4DNMc45JHF",
        "outputId": "12750d70-848e-49b8-ca83-55b813287dfe"
      },
      "source": [
        "predictions_df.head()"
      ],
      "execution_count": 95,
      "outputs": [
        {
          "output_type": "execute_result",
          "data": {
            "text/html": [
              "<div>\n",
              "<style scoped>\n",
              "    .dataframe tbody tr th:only-of-type {\n",
              "        vertical-align: middle;\n",
              "    }\n",
              "\n",
              "    .dataframe tbody tr th {\n",
              "        vertical-align: top;\n",
              "    }\n",
              "\n",
              "    .dataframe thead th {\n",
              "        text-align: right;\n",
              "    }\n",
              "</style>\n",
              "<table border=\"1\" class=\"dataframe\">\n",
              "  <thead>\n",
              "    <tr style=\"text-align: right;\">\n",
              "      <th></th>\n",
              "      <th>cluster</th>\n",
              "    </tr>\n",
              "  </thead>\n",
              "  <tbody>\n",
              "    <tr>\n",
              "      <th>0</th>\n",
              "      <td>6</td>\n",
              "    </tr>\n",
              "    <tr>\n",
              "      <th>1</th>\n",
              "      <td>2</td>\n",
              "    </tr>\n",
              "    <tr>\n",
              "      <th>2</th>\n",
              "      <td>2</td>\n",
              "    </tr>\n",
              "    <tr>\n",
              "      <th>3</th>\n",
              "      <td>4</td>\n",
              "    </tr>\n",
              "    <tr>\n",
              "      <th>4</th>\n",
              "      <td>6</td>\n",
              "    </tr>\n",
              "  </tbody>\n",
              "</table>\n",
              "</div>"
            ],
            "text/plain": [
              "   cluster\n",
              "0        6\n",
              "1        2\n",
              "2        2\n",
              "3        4\n",
              "4        6"
            ]
          },
          "metadata": {},
          "execution_count": 95
        }
      ]
    },
    {
      "cell_type": "code",
      "metadata": {
        "colab": {
          "base_uri": "https://localhost:8080/",
          "height": 510
        },
        "id": "foDC6u7-GqFz",
        "outputId": "a8fc0234-4235-48f1-d5d7-04bdbd99da66"
      },
      "source": [
        "df.head()"
      ],
      "execution_count": 96,
      "outputs": [
        {
          "output_type": "execute_result",
          "data": {
            "text/html": [
              "<div>\n",
              "<style scoped>\n",
              "    .dataframe tbody tr th:only-of-type {\n",
              "        vertical-align: middle;\n",
              "    }\n",
              "\n",
              "    .dataframe tbody tr th {\n",
              "        vertical-align: top;\n",
              "    }\n",
              "\n",
              "    .dataframe thead th {\n",
              "        text-align: right;\n",
              "    }\n",
              "</style>\n",
              "<table border=\"1\" class=\"dataframe\">\n",
              "  <thead>\n",
              "    <tr style=\"text-align: right;\">\n",
              "      <th></th>\n",
              "      <th>show_id</th>\n",
              "      <th>type</th>\n",
              "      <th>title</th>\n",
              "      <th>director</th>\n",
              "      <th>cast</th>\n",
              "      <th>country</th>\n",
              "      <th>date_added</th>\n",
              "      <th>release_year</th>\n",
              "      <th>rating</th>\n",
              "      <th>duration</th>\n",
              "      <th>listed_in</th>\n",
              "      <th>description</th>\n",
              "      <th>combined features</th>\n",
              "      <th>cluster</th>\n",
              "    </tr>\n",
              "  </thead>\n",
              "  <tbody>\n",
              "    <tr>\n",
              "      <th>0</th>\n",
              "      <td>s1</td>\n",
              "      <td>TV Show</td>\n",
              "      <td>3%</td>\n",
              "      <td>NaN</td>\n",
              "      <td>[João Miguel,  Bianca Comparato,  Michel Gomes...</td>\n",
              "      <td>[Brazil]</td>\n",
              "      <td>August 14, 2020</td>\n",
              "      <td>2020</td>\n",
              "      <td>TV-MA</td>\n",
              "      <td>4 Seasons</td>\n",
              "      <td>[International TV Shows,  TV Dramas,  TV Sci-F...</td>\n",
              "      <td>In a future where the elite inhabit an island ...</td>\n",
              "      <td>intern show drama sci fantasi futur elit inhab...</td>\n",
              "      <td>5</td>\n",
              "    </tr>\n",
              "    <tr>\n",
              "      <th>1</th>\n",
              "      <td>s2</td>\n",
              "      <td>Movie</td>\n",
              "      <td>7:19</td>\n",
              "      <td>Jorge Michel Grau</td>\n",
              "      <td>[Demián Bichir,  Héctor Bonilla,  Oscar Serran...</td>\n",
              "      <td>[Mexico]</td>\n",
              "      <td>December 23, 2016</td>\n",
              "      <td>2016</td>\n",
              "      <td>TV-MA</td>\n",
              "      <td>93 min</td>\n",
              "      <td>[Dramas,  International Movies]</td>\n",
              "      <td>After a devastating earthquake hits Mexico Cit...</td>\n",
              "      <td>drama intern movi devast earthquak hit mexico ...</td>\n",
              "      <td>6</td>\n",
              "    </tr>\n",
              "    <tr>\n",
              "      <th>2</th>\n",
              "      <td>s3</td>\n",
              "      <td>Movie</td>\n",
              "      <td>23:59</td>\n",
              "      <td>Gilbert Chan</td>\n",
              "      <td>[Tedd Chan,  Stella Chung,  Henley Hii,  Lawre...</td>\n",
              "      <td>[Singapore]</td>\n",
              "      <td>December 20, 2018</td>\n",
              "      <td>2011</td>\n",
              "      <td>R</td>\n",
              "      <td>78 min</td>\n",
              "      <td>[Horror Movies,  International Movies]</td>\n",
              "      <td>When an army recruit is found dead, his fellow...</td>\n",
              "      <td>horror movi intern movi armi recruit found dea...</td>\n",
              "      <td>6</td>\n",
              "    </tr>\n",
              "    <tr>\n",
              "      <th>3</th>\n",
              "      <td>s4</td>\n",
              "      <td>Movie</td>\n",
              "      <td>9</td>\n",
              "      <td>Shane Acker</td>\n",
              "      <td>[Elijah Wood,  John C. Reilly,  Jennifer Conne...</td>\n",
              "      <td>[United States]</td>\n",
              "      <td>November 16, 2017</td>\n",
              "      <td>2009</td>\n",
              "      <td>PG-13</td>\n",
              "      <td>80 min</td>\n",
              "      <td>[Action &amp; Adventure,  Independent Movies,  Sci...</td>\n",
              "      <td>In a postapocalyptic world, rag-doll robots hi...</td>\n",
              "      <td>action adventur independ movi sci fantasi post...</td>\n",
              "      <td>4</td>\n",
              "    </tr>\n",
              "    <tr>\n",
              "      <th>4</th>\n",
              "      <td>s5</td>\n",
              "      <td>Movie</td>\n",
              "      <td>21</td>\n",
              "      <td>Robert Luketic</td>\n",
              "      <td>[Jim Sturgess,  Kevin Spacey,  Kate Bosworth, ...</td>\n",
              "      <td>[United States]</td>\n",
              "      <td>January 1, 2020</td>\n",
              "      <td>2008</td>\n",
              "      <td>PG-13</td>\n",
              "      <td>123 min</td>\n",
              "      <td>[Dramas]</td>\n",
              "      <td>A brilliant group of students become card-coun...</td>\n",
              "      <td>drama brilliant group student card count exper...</td>\n",
              "      <td>6</td>\n",
              "    </tr>\n",
              "  </tbody>\n",
              "</table>\n",
              "</div>"
            ],
            "text/plain": [
              "  show_id     type  ...                                  combined features cluster\n",
              "0      s1  TV Show  ...  intern show drama sci fantasi futur elit inhab...       5\n",
              "1      s2    Movie  ...  drama intern movi devast earthquak hit mexico ...       6\n",
              "2      s3    Movie  ...  horror movi intern movi armi recruit found dea...       6\n",
              "3      s4    Movie  ...  action adventur independ movi sci fantasi post...       4\n",
              "4      s5    Movie  ...  drama brilliant group student card count exper...       6\n",
              "\n",
              "[5 rows x 14 columns]"
            ]
          },
          "metadata": {},
          "execution_count": 96
        }
      ]
    },
    {
      "cell_type": "code",
      "metadata": {
        "colab": {
          "base_uri": "https://localhost:8080/",
          "height": 589
        },
        "id": "EgNhkT_eGrVs",
        "outputId": "a39ca307-5c48-4712-b027-5efba2f5ca25"
      },
      "source": [
        "df[df['cluster'] == 0][['type','title','director','cast','country','rating','listed_in','description']]"
      ],
      "execution_count": 32,
      "outputs": [
        {
          "output_type": "execute_result",
          "data": {
            "text/html": [
              "<div>\n",
              "<style scoped>\n",
              "    .dataframe tbody tr th:only-of-type {\n",
              "        vertical-align: middle;\n",
              "    }\n",
              "\n",
              "    .dataframe tbody tr th {\n",
              "        vertical-align: top;\n",
              "    }\n",
              "\n",
              "    .dataframe thead th {\n",
              "        text-align: right;\n",
              "    }\n",
              "</style>\n",
              "<table border=\"1\" class=\"dataframe\">\n",
              "  <thead>\n",
              "    <tr style=\"text-align: right;\">\n",
              "      <th></th>\n",
              "      <th>type</th>\n",
              "      <th>title</th>\n",
              "      <th>director</th>\n",
              "      <th>cast</th>\n",
              "      <th>country</th>\n",
              "      <th>rating</th>\n",
              "      <th>listed_in</th>\n",
              "      <th>description</th>\n",
              "    </tr>\n",
              "  </thead>\n",
              "  <tbody>\n",
              "    <tr>\n",
              "      <th>79</th>\n",
              "      <td>Movie</td>\n",
              "      <td>20 Feet From Stardom</td>\n",
              "      <td>[Morgan Neville]</td>\n",
              "      <td>[Darlene Love,  Merry Clayton,  Lisa Fischer, ...</td>\n",
              "      <td>[United States]</td>\n",
              "      <td>PG-13</td>\n",
              "      <td>[Documentaries,  Music &amp; Musicals]</td>\n",
              "      <td>Winner of the 2014 Academy Award for Best Docu...</td>\n",
              "    </tr>\n",
              "    <tr>\n",
              "      <th>81</th>\n",
              "      <td>Movie</td>\n",
              "      <td>2015 Dream Concert</td>\n",
              "      <td>[]</td>\n",
              "      <td>[4Minute,  B1A4,  BtoB,  ELSIE,  EXID,  EXO,  ...</td>\n",
              "      <td>[South Korea]</td>\n",
              "      <td>TV-PG</td>\n",
              "      <td>[International Movies,  Music &amp; Musicals]</td>\n",
              "      <td>The world's biggest K-pop festival marked its ...</td>\n",
              "    </tr>\n",
              "    <tr>\n",
              "      <th>135</th>\n",
              "      <td>Movie</td>\n",
              "      <td>7 Din Mohabbat In</td>\n",
              "      <td>[Meenu Gaur,  Farjad Nabi]</td>\n",
              "      <td>[Mahira Khan,  Sheheryar Munawar,  Javed Sheik...</td>\n",
              "      <td>[Pakistan]</td>\n",
              "      <td>TV-PG</td>\n",
              "      <td>[Comedies,  International Movies,  Music &amp; Mus...</td>\n",
              "      <td>Given just seven days by a genie to find a gir...</td>\n",
              "    </tr>\n",
              "    <tr>\n",
              "      <th>143</th>\n",
              "      <td>Movie</td>\n",
              "      <td>90 ML</td>\n",
              "      <td>[Anita Udeep]</td>\n",
              "      <td>[Oviya,  Masoom Shankar,  Bommu Lakshmi,  Moni...</td>\n",
              "      <td>[India]</td>\n",
              "      <td>TV-MA</td>\n",
              "      <td>[Comedies,  International Movies,  Music &amp; Mus...</td>\n",
              "      <td>Four friends shake up their lives when they me...</td>\n",
              "    </tr>\n",
              "    <tr>\n",
              "      <th>246</th>\n",
              "      <td>Movie</td>\n",
              "      <td>A Very Country Christmas</td>\n",
              "      <td>[Justin G. Dyck]</td>\n",
              "      <td>[Bea Santos,  Greyston Holt,  Greg Vaughan,  D...</td>\n",
              "      <td>[United States,  Canada]</td>\n",
              "      <td>TV-G</td>\n",
              "      <td>[Music &amp; Musicals,  Romantic Movies]</td>\n",
              "      <td>When an unfulfilled country music star hides o...</td>\n",
              "    </tr>\n",
              "    <tr>\n",
              "      <th>...</th>\n",
              "      <td>...</td>\n",
              "      <td>...</td>\n",
              "      <td>...</td>\n",
              "      <td>...</td>\n",
              "      <td>...</td>\n",
              "      <td>...</td>\n",
              "      <td>...</td>\n",
              "      <td>...</td>\n",
              "    </tr>\n",
              "    <tr>\n",
              "      <th>7695</th>\n",
              "      <td>Movie</td>\n",
              "      <td>Yaara O Dildaara</td>\n",
              "      <td>[Ksshitij Chaudhary]</td>\n",
              "      <td>[Harbhajan Mann,  Tulip Joshi,  Kabir Bedi,  G...</td>\n",
              "      <td>[India]</td>\n",
              "      <td>TV-14</td>\n",
              "      <td>[Dramas,  International Movies,  Music &amp; Music...</td>\n",
              "      <td>The patriarch of a wealthy family with one ind...</td>\n",
              "    </tr>\n",
              "    <tr>\n",
              "      <th>7773</th>\n",
              "      <td>Movie</td>\n",
              "      <td>Zoé: Panoramas</td>\n",
              "      <td>[Rodrigo Guardiola,  Gabriel Cruz Rivas]</td>\n",
              "      <td>[Sergio Acosta,  Jesús Báez,  Ángel Mosqueda, ...</td>\n",
              "      <td>[Mexico]</td>\n",
              "      <td>TV-MA</td>\n",
              "      <td>[Documentaries,  International Movies,  Music ...</td>\n",
              "      <td>This introspective rockumentary follows the ca...</td>\n",
              "    </tr>\n",
              "    <tr>\n",
              "      <th>7783</th>\n",
              "      <td>Movie</td>\n",
              "      <td>Zubaan</td>\n",
              "      <td>[Mozez Singh]</td>\n",
              "      <td>[Vicky Kaushal,  Sarah-Jane Dias,  Raaghav Cha...</td>\n",
              "      <td>[India]</td>\n",
              "      <td>TV-14</td>\n",
              "      <td>[Dramas,  International Movies,  Music &amp; Music...</td>\n",
              "      <td>A scrappy but poor boy worms his way into a ty...</td>\n",
              "    </tr>\n",
              "    <tr>\n",
              "      <th>7784</th>\n",
              "      <td>Movie</td>\n",
              "      <td>Zulu Man in Japan</td>\n",
              "      <td>[]</td>\n",
              "      <td>[Nasty C]</td>\n",
              "      <td>[United States]</td>\n",
              "      <td>TV-MA</td>\n",
              "      <td>[Documentaries,  International Movies,  Music ...</td>\n",
              "      <td>In this documentary, South African rapper Nast...</td>\n",
              "    </tr>\n",
              "    <tr>\n",
              "      <th>7786</th>\n",
              "      <td>Movie</td>\n",
              "      <td>ZZ TOP: THAT LITTLE OL' BAND FROM TEXAS</td>\n",
              "      <td>[Sam Dunn]</td>\n",
              "      <td>[]</td>\n",
              "      <td>[United Kingdom,  Canada,  United States]</td>\n",
              "      <td>TV-MA</td>\n",
              "      <td>[Documentaries,  Music &amp; Musicals]</td>\n",
              "      <td>This documentary delves into the mystique behi...</td>\n",
              "    </tr>\n",
              "  </tbody>\n",
              "</table>\n",
              "<p>307 rows × 8 columns</p>\n",
              "</div>"
            ],
            "text/plain": [
              "       type  ...                                        description\n",
              "79    Movie  ...  Winner of the 2014 Academy Award for Best Docu...\n",
              "81    Movie  ...  The world's biggest K-pop festival marked its ...\n",
              "135   Movie  ...  Given just seven days by a genie to find a gir...\n",
              "143   Movie  ...  Four friends shake up their lives when they me...\n",
              "246   Movie  ...  When an unfulfilled country music star hides o...\n",
              "...     ...  ...                                                ...\n",
              "7695  Movie  ...  The patriarch of a wealthy family with one ind...\n",
              "7773  Movie  ...  This introspective rockumentary follows the ca...\n",
              "7783  Movie  ...  A scrappy but poor boy worms his way into a ty...\n",
              "7784  Movie  ...  In this documentary, South African rapper Nast...\n",
              "7786  Movie  ...  This documentary delves into the mystique behi...\n",
              "\n",
              "[307 rows x 8 columns]"
            ]
          },
          "metadata": {},
          "execution_count": 32
        }
      ]
    },
    {
      "cell_type": "code",
      "metadata": {
        "colab": {
          "base_uri": "https://localhost:8080/",
          "height": 589
        },
        "id": "aQe9sKeYIMbC",
        "outputId": "f154ed0c-25ed-4a17-8890-e667d93f0814"
      },
      "source": [
        "df[df['cluster'] ==4][['type','title','director','cast','country','rating','listed_in','description']]"
      ],
      "execution_count": 37,
      "outputs": [
        {
          "output_type": "execute_result",
          "data": {
            "text/html": [
              "<div>\n",
              "<style scoped>\n",
              "    .dataframe tbody tr th:only-of-type {\n",
              "        vertical-align: middle;\n",
              "    }\n",
              "\n",
              "    .dataframe tbody tr th {\n",
              "        vertical-align: top;\n",
              "    }\n",
              "\n",
              "    .dataframe thead th {\n",
              "        text-align: right;\n",
              "    }\n",
              "</style>\n",
              "<table border=\"1\" class=\"dataframe\">\n",
              "  <thead>\n",
              "    <tr style=\"text-align: right;\">\n",
              "      <th></th>\n",
              "      <th>type</th>\n",
              "      <th>title</th>\n",
              "      <th>director</th>\n",
              "      <th>cast</th>\n",
              "      <th>country</th>\n",
              "      <th>rating</th>\n",
              "      <th>listed_in</th>\n",
              "      <th>description</th>\n",
              "    </tr>\n",
              "  </thead>\n",
              "  <tbody>\n",
              "    <tr>\n",
              "      <th>31</th>\n",
              "      <td>Movie</td>\n",
              "      <td>#FriendButMarried</td>\n",
              "      <td>[Rako Prijanto]</td>\n",
              "      <td>[Adipati Dolken,  Vanesha Prescilla,  Rendi Jh...</td>\n",
              "      <td>[Indonesia]</td>\n",
              "      <td>TV-G</td>\n",
              "      <td>[Dramas,  International Movies,  Romantic Movies]</td>\n",
              "      <td>Pining for his high school crush for years, a ...</td>\n",
              "    </tr>\n",
              "    <tr>\n",
              "      <th>32</th>\n",
              "      <td>Movie</td>\n",
              "      <td>#FriendButMarried 2</td>\n",
              "      <td>[Rako Prijanto]</td>\n",
              "      <td>[Adipati Dolken,  Mawar de Jongh,  Sari Nila, ...</td>\n",
              "      <td>[Indonesia]</td>\n",
              "      <td>TV-G</td>\n",
              "      <td>[Dramas,  International Movies,  Romantic Movies]</td>\n",
              "      <td>As Ayu and Ditto finally transition from best ...</td>\n",
              "    </tr>\n",
              "    <tr>\n",
              "      <th>34</th>\n",
              "      <td>Movie</td>\n",
              "      <td>#Roxy</td>\n",
              "      <td>[Michael Kennedy]</td>\n",
              "      <td>[Jake Short,  Sarah Fisher,  Booboo Stewart,  ...</td>\n",
              "      <td>[Canada]</td>\n",
              "      <td>TV-14</td>\n",
              "      <td>[Comedies,  Romantic Movies]</td>\n",
              "      <td>A teenage hacker with a huge nose helps a cool...</td>\n",
              "    </tr>\n",
              "    <tr>\n",
              "      <th>48</th>\n",
              "      <td>Movie</td>\n",
              "      <td>10 Days in Sun City</td>\n",
              "      <td>[Adze Ugah]</td>\n",
              "      <td>[Ayo Makun,  Adesua Etomi,  Richard Mofe-Damij...</td>\n",
              "      <td>[South Africa,  Nigeria]</td>\n",
              "      <td>TV-14</td>\n",
              "      <td>[Comedies,  International Movies,  Romantic Mo...</td>\n",
              "      <td>After his girlfriend wins the Miss Nigeria pag...</td>\n",
              "    </tr>\n",
              "    <tr>\n",
              "      <th>106</th>\n",
              "      <td>Movie</td>\n",
              "      <td>365 Days</td>\n",
              "      <td>[Barbara Białowąs,  Tomasz Mandes]</td>\n",
              "      <td>[Anna-Maria Sieklucka,  Michele Morrone,  Bron...</td>\n",
              "      <td>[Poland]</td>\n",
              "      <td>TV-MA</td>\n",
              "      <td>[Dramas,  International Movies,  Romantic Movies]</td>\n",
              "      <td>A fiery executive in a spiritless relationship...</td>\n",
              "    </tr>\n",
              "    <tr>\n",
              "      <th>...</th>\n",
              "      <td>...</td>\n",
              "      <td>...</td>\n",
              "      <td>...</td>\n",
              "      <td>...</td>\n",
              "      <td>...</td>\n",
              "      <td>...</td>\n",
              "      <td>...</td>\n",
              "      <td>...</td>\n",
              "    </tr>\n",
              "    <tr>\n",
              "      <th>7708</th>\n",
              "      <td>Movie</td>\n",
              "      <td>Yes or No 2.5</td>\n",
              "      <td>[Kirati Nakintanon]</td>\n",
              "      <td>[Supanart Jittaleela,  Pimpakan Bangchawong,  ...</td>\n",
              "      <td>[Thailand]</td>\n",
              "      <td>TV-PG</td>\n",
              "      <td>[International Movies,  LGBTQ Movies,  Romanti...</td>\n",
              "      <td>Roommates Wine and Pie find their lives turned...</td>\n",
              "    </tr>\n",
              "    <tr>\n",
              "      <th>7732</th>\n",
              "      <td>Movie</td>\n",
              "      <td>You're My Boss</td>\n",
              "      <td>[Antoinette Jadaone]</td>\n",
              "      <td>[Toni Gonzaga,  Coco Martin,  Freddie Webb,  J...</td>\n",
              "      <td>[Philippines]</td>\n",
              "      <td>TV-14</td>\n",
              "      <td>[Comedies,  International Movies,  Romantic Mo...</td>\n",
              "      <td>Pong, a corporate assistant, poses as his comp...</td>\n",
              "    </tr>\n",
              "    <tr>\n",
              "      <th>7734</th>\n",
              "      <td>Movie</td>\n",
              "      <td>You've Got This</td>\n",
              "      <td>[Salvador Espinosa]</td>\n",
              "      <td>[Mauricio Ochmann,  Esmeralda Pimentel,  Matte...</td>\n",
              "      <td>[Mexico]</td>\n",
              "      <td>TV-MA</td>\n",
              "      <td>[Comedies,  International Movies,  Romantic Mo...</td>\n",
              "      <td>An ad creative and a successful exec have a gr...</td>\n",
              "    </tr>\n",
              "    <tr>\n",
              "      <th>7760</th>\n",
              "      <td>Movie</td>\n",
              "      <td>Zaki Chan</td>\n",
              "      <td>[Wael Ihsan]</td>\n",
              "      <td>[Ahmed Helmy,  Yasmin Abdulaziz,  Hassan Hosny...</td>\n",
              "      <td>[Egypt]</td>\n",
              "      <td>TV-PG</td>\n",
              "      <td>[Comedies,  International Movies,  Romantic Mo...</td>\n",
              "      <td>An unqualified young man has his work cut out ...</td>\n",
              "    </tr>\n",
              "    <tr>\n",
              "      <th>7768</th>\n",
              "      <td>Movie</td>\n",
              "      <td>Zindagi Kitni Haseen Hay</td>\n",
              "      <td>[Anjum Shahzad]</td>\n",
              "      <td>[Feroze Khan,  Sajal Ali,  Jibrayl Ahmed Rajpu...</td>\n",
              "      <td>[Pakistan]</td>\n",
              "      <td>TV-14</td>\n",
              "      <td>[Dramas,  International Movies,  Romantic Movies]</td>\n",
              "      <td>Two young parents struggle to keep their marri...</td>\n",
              "    </tr>\n",
              "  </tbody>\n",
              "</table>\n",
              "<p>370 rows × 8 columns</p>\n",
              "</div>"
            ],
            "text/plain": [
              "       type  ...                                        description\n",
              "31    Movie  ...  Pining for his high school crush for years, a ...\n",
              "32    Movie  ...  As Ayu and Ditto finally transition from best ...\n",
              "34    Movie  ...  A teenage hacker with a huge nose helps a cool...\n",
              "48    Movie  ...  After his girlfriend wins the Miss Nigeria pag...\n",
              "106   Movie  ...  A fiery executive in a spiritless relationship...\n",
              "...     ...  ...                                                ...\n",
              "7708  Movie  ...  Roommates Wine and Pie find their lives turned...\n",
              "7732  Movie  ...  Pong, a corporate assistant, poses as his comp...\n",
              "7734  Movie  ...  An ad creative and a successful exec have a gr...\n",
              "7760  Movie  ...  An unqualified young man has his work cut out ...\n",
              "7768  Movie  ...  Two young parents struggle to keep their marri...\n",
              "\n",
              "[370 rows x 8 columns]"
            ]
          },
          "metadata": {},
          "execution_count": 37
        }
      ]
    },
    {
      "cell_type": "code",
      "metadata": {
        "colab": {
          "base_uri": "https://localhost:8080/",
          "height": 589
        },
        "id": "kfXtwoVzIFLt",
        "outputId": "b91a2cc1-72e0-45cb-e243-df3edad6027e"
      },
      "source": [
        "df[df['cluster'] == 7][['type','title','director','cast','country','rating','listed_in','description']]"
      ],
      "execution_count": 35,
      "outputs": [
        {
          "output_type": "execute_result",
          "data": {
            "text/html": [
              "<div>\n",
              "<style scoped>\n",
              "    .dataframe tbody tr th:only-of-type {\n",
              "        vertical-align: middle;\n",
              "    }\n",
              "\n",
              "    .dataframe tbody tr th {\n",
              "        vertical-align: top;\n",
              "    }\n",
              "\n",
              "    .dataframe thead th {\n",
              "        text-align: right;\n",
              "    }\n",
              "</style>\n",
              "<table border=\"1\" class=\"dataframe\">\n",
              "  <thead>\n",
              "    <tr style=\"text-align: right;\">\n",
              "      <th></th>\n",
              "      <th>type</th>\n",
              "      <th>title</th>\n",
              "      <th>director</th>\n",
              "      <th>cast</th>\n",
              "      <th>country</th>\n",
              "      <th>rating</th>\n",
              "      <th>listed_in</th>\n",
              "      <th>description</th>\n",
              "    </tr>\n",
              "  </thead>\n",
              "  <tbody>\n",
              "    <tr>\n",
              "      <th>25</th>\n",
              "      <td>Movie</td>\n",
              "      <td>(T)ERROR</td>\n",
              "      <td>[Lyric R. Cabral,  David Felix Sutcliffe]</td>\n",
              "      <td>[]</td>\n",
              "      <td>[United States]</td>\n",
              "      <td>NR</td>\n",
              "      <td>[Documentaries]</td>\n",
              "      <td>This real-life look at FBI counterterrorism op...</td>\n",
              "    </tr>\n",
              "    <tr>\n",
              "      <th>28</th>\n",
              "      <td>Movie</td>\n",
              "      <td>#AnneFrank - Parallel Stories</td>\n",
              "      <td>[Sabina Fedeli,  Anna Migotto]</td>\n",
              "      <td>[Helen Mirren,  Gengher Gatti]</td>\n",
              "      <td>[Italy]</td>\n",
              "      <td>TV-14</td>\n",
              "      <td>[Documentaries,  International Movies]</td>\n",
              "      <td>Through her diary, Anne Frank's story is retol...</td>\n",
              "    </tr>\n",
              "    <tr>\n",
              "      <th>30</th>\n",
              "      <td>Movie</td>\n",
              "      <td>#cats_the_mewvie</td>\n",
              "      <td>[Michael Margolis]</td>\n",
              "      <td>[]</td>\n",
              "      <td>[Canada]</td>\n",
              "      <td>TV-14</td>\n",
              "      <td>[Documentaries,  International Movies]</td>\n",
              "      <td>This pawesome documentary explores how our fel...</td>\n",
              "    </tr>\n",
              "    <tr>\n",
              "      <th>52</th>\n",
              "      <td>Movie</td>\n",
              "      <td>100 Days Of Solitude</td>\n",
              "      <td>[]</td>\n",
              "      <td>[]</td>\n",
              "      <td>[Spain]</td>\n",
              "      <td>TV-MA</td>\n",
              "      <td>[Documentaries,  International Movies]</td>\n",
              "      <td>Spanish photographer José Díaz spends 100 days...</td>\n",
              "    </tr>\n",
              "    <tr>\n",
              "      <th>56</th>\n",
              "      <td>Movie</td>\n",
              "      <td>100 Years: One Woman's Fight for Justice</td>\n",
              "      <td>[Melinda Janko]</td>\n",
              "      <td>[]</td>\n",
              "      <td>[United States]</td>\n",
              "      <td>TV-14</td>\n",
              "      <td>[Documentaries]</td>\n",
              "      <td>This documentary chronicles Elouise Cobell's l...</td>\n",
              "    </tr>\n",
              "    <tr>\n",
              "      <th>...</th>\n",
              "      <td>...</td>\n",
              "      <td>...</td>\n",
              "      <td>...</td>\n",
              "      <td>...</td>\n",
              "      <td>...</td>\n",
              "      <td>...</td>\n",
              "      <td>...</td>\n",
              "      <td>...</td>\n",
              "    </tr>\n",
              "    <tr>\n",
              "      <th>7633</th>\n",
              "      <td>Movie</td>\n",
              "      <td>Winnie</td>\n",
              "      <td>[Pascale Lamche]</td>\n",
              "      <td>[]</td>\n",
              "      <td>[France,  Netherlands,  South Africa,  Finland]</td>\n",
              "      <td>TV-14</td>\n",
              "      <td>[Documentaries,  International Movies]</td>\n",
              "      <td>Winnie Mandela speaks about her extraordinary ...</td>\n",
              "    </tr>\n",
              "    <tr>\n",
              "      <th>7636</th>\n",
              "      <td>Movie</td>\n",
              "      <td>Winter on Fire: Ukraine's Fight for Freedom</td>\n",
              "      <td>[Evgeny Afineevsky]</td>\n",
              "      <td>[]</td>\n",
              "      <td>[United Kingdom,  Ukraine,  United States]</td>\n",
              "      <td>TV-MA</td>\n",
              "      <td>[Documentaries,  International Movies]</td>\n",
              "      <td>Over 93 days in Ukraine, what started as peace...</td>\n",
              "    </tr>\n",
              "    <tr>\n",
              "      <th>7647</th>\n",
              "      <td>Movie</td>\n",
              "      <td>Without Gorky</td>\n",
              "      <td>[Cosima Spender]</td>\n",
              "      <td>[]</td>\n",
              "      <td>[United Kingdom]</td>\n",
              "      <td>TV-14</td>\n",
              "      <td>[Documentaries]</td>\n",
              "      <td>A filmmaker trains the camera on her own famil...</td>\n",
              "    </tr>\n",
              "    <tr>\n",
              "      <th>7679</th>\n",
              "      <td>Movie</td>\n",
              "      <td>WWII: Report from the Aleutians</td>\n",
              "      <td>[John Huston]</td>\n",
              "      <td>[]</td>\n",
              "      <td>[United States]</td>\n",
              "      <td>TV-PG</td>\n",
              "      <td>[Documentaries]</td>\n",
              "      <td>Filmmaker John Huston narrates this Oscar-nomi...</td>\n",
              "    </tr>\n",
              "    <tr>\n",
              "      <th>7692</th>\n",
              "      <td>Movie</td>\n",
              "      <td>Ya no estoy aquí: Una conversación entre Guill...</td>\n",
              "      <td>[]</td>\n",
              "      <td>[Guillermo del Toro,  Alfonso Cuarón]</td>\n",
              "      <td>[United States]</td>\n",
              "      <td>TV-PG</td>\n",
              "      <td>[Documentaries]</td>\n",
              "      <td>Guillermo del Toro and Alfonso Cuarón discuss ...</td>\n",
              "    </tr>\n",
              "  </tbody>\n",
              "</table>\n",
              "<p>552 rows × 8 columns</p>\n",
              "</div>"
            ],
            "text/plain": [
              "       type  ...                                        description\n",
              "25    Movie  ...  This real-life look at FBI counterterrorism op...\n",
              "28    Movie  ...  Through her diary, Anne Frank's story is retol...\n",
              "30    Movie  ...  This pawesome documentary explores how our fel...\n",
              "52    Movie  ...  Spanish photographer José Díaz spends 100 days...\n",
              "56    Movie  ...  This documentary chronicles Elouise Cobell's l...\n",
              "...     ...  ...                                                ...\n",
              "7633  Movie  ...  Winnie Mandela speaks about her extraordinary ...\n",
              "7636  Movie  ...  Over 93 days in Ukraine, what started as peace...\n",
              "7647  Movie  ...  A filmmaker trains the camera on her own famil...\n",
              "7679  Movie  ...  Filmmaker John Huston narrates this Oscar-nomi...\n",
              "7692  Movie  ...  Guillermo del Toro and Alfonso Cuarón discuss ...\n",
              "\n",
              "[552 rows x 8 columns]"
            ]
          },
          "metadata": {},
          "execution_count": 35
        }
      ]
    },
    {
      "cell_type": "code",
      "metadata": {
        "colab": {
          "base_uri": "https://localhost:8080/",
          "height": 589
        },
        "id": "SbYwLMn5KSeN",
        "outputId": "78426748-2514-4291-f7df-3afeb55ae01f"
      },
      "source": [
        "df[df['cluster'] == 15][['type','title','director','cast','country','rating','listed_in','description']]"
      ],
      "execution_count": 36,
      "outputs": [
        {
          "output_type": "execute_result",
          "data": {
            "text/html": [
              "<div>\n",
              "<style scoped>\n",
              "    .dataframe tbody tr th:only-of-type {\n",
              "        vertical-align: middle;\n",
              "    }\n",
              "\n",
              "    .dataframe tbody tr th {\n",
              "        vertical-align: top;\n",
              "    }\n",
              "\n",
              "    .dataframe thead th {\n",
              "        text-align: right;\n",
              "    }\n",
              "</style>\n",
              "<table border=\"1\" class=\"dataframe\">\n",
              "  <thead>\n",
              "    <tr style=\"text-align: right;\">\n",
              "      <th></th>\n",
              "      <th>type</th>\n",
              "      <th>title</th>\n",
              "      <th>director</th>\n",
              "      <th>cast</th>\n",
              "      <th>country</th>\n",
              "      <th>rating</th>\n",
              "      <th>listed_in</th>\n",
              "      <th>description</th>\n",
              "    </tr>\n",
              "  </thead>\n",
              "  <tbody>\n",
              "    <tr>\n",
              "      <th>197</th>\n",
              "      <td>TV Show</td>\n",
              "      <td>A Little Help with Carol Burnett</td>\n",
              "      <td>[]</td>\n",
              "      <td>[Carol Burnett,  Russell Peters,  Mark Cuban, ...</td>\n",
              "      <td>[United States]</td>\n",
              "      <td>TV-G</td>\n",
              "      <td>[Stand-Up Comedy &amp; Talk Shows,  TV Comedies]</td>\n",
              "      <td>Comedy icon Carol Burnett returns to TV with a...</td>\n",
              "    </tr>\n",
              "    <tr>\n",
              "      <th>220</th>\n",
              "      <td>Movie</td>\n",
              "      <td>A Russell Peters Christmas</td>\n",
              "      <td>[Henry Sarwer-Foner]</td>\n",
              "      <td>[Russell Peters,  Pamela Anderson,  Michael Bu...</td>\n",
              "      <td>[Canada]</td>\n",
              "      <td>NR</td>\n",
              "      <td>[Stand-Up Comedy]</td>\n",
              "      <td>Inspired by the variety shows of the 1970s, \"A...</td>\n",
              "    </tr>\n",
              "    <tr>\n",
              "      <th>305</th>\n",
              "      <td>Movie</td>\n",
              "      <td>Adam Devine: Best Time of Our Lives</td>\n",
              "      <td>[Jay Karas]</td>\n",
              "      <td>[Adam Devine]</td>\n",
              "      <td>[United States]</td>\n",
              "      <td>TV-MA</td>\n",
              "      <td>[Stand-Up Comedy]</td>\n",
              "      <td>Frenetic comic Adam Devine talks teen awkwardn...</td>\n",
              "    </tr>\n",
              "    <tr>\n",
              "      <th>307</th>\n",
              "      <td>Movie</td>\n",
              "      <td>ADAM SANDLER 100% FRESH</td>\n",
              "      <td>[Steve Brill]</td>\n",
              "      <td>[Adam Sandler]</td>\n",
              "      <td>[United States]</td>\n",
              "      <td>TV-MA</td>\n",
              "      <td>[Stand-Up Comedy]</td>\n",
              "      <td>From \"Heroes\" to \"Ice Cream Ladies\" – Adam San...</td>\n",
              "    </tr>\n",
              "    <tr>\n",
              "      <th>310</th>\n",
              "      <td>Movie</td>\n",
              "      <td>Adel Karam: Live from Beirut</td>\n",
              "      <td>[]</td>\n",
              "      <td>[Adel Karam]</td>\n",
              "      <td>[United States]</td>\n",
              "      <td>TV-MA</td>\n",
              "      <td>[Stand-Up Comedy]</td>\n",
              "      <td>From Casino du Liban, Lebanese actor and comed...</td>\n",
              "    </tr>\n",
              "    <tr>\n",
              "      <th>...</th>\n",
              "      <td>...</td>\n",
              "      <td>...</td>\n",
              "      <td>...</td>\n",
              "      <td>...</td>\n",
              "      <td>...</td>\n",
              "      <td>...</td>\n",
              "      <td>...</td>\n",
              "      <td>...</td>\n",
              "    </tr>\n",
              "    <tr>\n",
              "      <th>7656</th>\n",
              "      <td>Movie</td>\n",
              "      <td>Wonho Chung: Live in New York</td>\n",
              "      <td>[Shaun Mir]</td>\n",
              "      <td>[Wonho Chung]</td>\n",
              "      <td>[United States]</td>\n",
              "      <td>TV-14</td>\n",
              "      <td>[Stand-Up Comedy]</td>\n",
              "      <td>At the Comic Strip's first Arabic stand-up sho...</td>\n",
              "    </tr>\n",
              "    <tr>\n",
              "      <th>7680</th>\n",
              "      <td>Movie</td>\n",
              "      <td>Wyatt Cenac: Brooklyn</td>\n",
              "      <td>[Wyatt Cenac]</td>\n",
              "      <td>[Wyatt Cenac]</td>\n",
              "      <td>[United States]</td>\n",
              "      <td>TV-MA</td>\n",
              "      <td>[Stand-Up Comedy]</td>\n",
              "      <td>Wyatt Cenac heads to Brooklyn to share his obs...</td>\n",
              "    </tr>\n",
              "    <tr>\n",
              "      <th>7719</th>\n",
              "      <td>Movie</td>\n",
              "      <td>Yoo Byung Jae: Too Much Information</td>\n",
              "      <td>[Yoo Byung-jae]</td>\n",
              "      <td>[Yoo Byung-jae]</td>\n",
              "      <td>[United States]</td>\n",
              "      <td>TV-MA</td>\n",
              "      <td>[Stand-Up Comedy]</td>\n",
              "      <td>\"Saturday Night Live Korea\" writer-turned-come...</td>\n",
              "    </tr>\n",
              "    <tr>\n",
              "      <th>7744</th>\n",
              "      <td>Movie</td>\n",
              "      <td>Yours Sincerely, Kanan Gill</td>\n",
              "      <td>[Neville Shah]</td>\n",
              "      <td>[Kanan Gill]</td>\n",
              "      <td>[India]</td>\n",
              "      <td>TV-MA</td>\n",
              "      <td>[Stand-Up Comedy]</td>\n",
              "      <td>Revisiting life goals set in a letter written ...</td>\n",
              "    </tr>\n",
              "    <tr>\n",
              "      <th>7757</th>\n",
              "      <td>Movie</td>\n",
              "      <td>Zach Galifianakis: Live at the Purple Onion</td>\n",
              "      <td>[Michael Blieden]</td>\n",
              "      <td>[Zach Galifianakis,  Brian Unger]</td>\n",
              "      <td>[United States]</td>\n",
              "      <td>TV-MA</td>\n",
              "      <td>[Stand-Up Comedy]</td>\n",
              "      <td>The unorthodox, piano-playing stand-up star Za...</td>\n",
              "    </tr>\n",
              "  </tbody>\n",
              "</table>\n",
              "<p>373 rows × 8 columns</p>\n",
              "</div>"
            ],
            "text/plain": [
              "         type  ...                                        description\n",
              "197   TV Show  ...  Comedy icon Carol Burnett returns to TV with a...\n",
              "220     Movie  ...  Inspired by the variety shows of the 1970s, \"A...\n",
              "305     Movie  ...  Frenetic comic Adam Devine talks teen awkwardn...\n",
              "307     Movie  ...  From \"Heroes\" to \"Ice Cream Ladies\" – Adam San...\n",
              "310     Movie  ...  From Casino du Liban, Lebanese actor and comed...\n",
              "...       ...  ...                                                ...\n",
              "7656    Movie  ...  At the Comic Strip's first Arabic stand-up sho...\n",
              "7680    Movie  ...  Wyatt Cenac heads to Brooklyn to share his obs...\n",
              "7719    Movie  ...  \"Saturday Night Live Korea\" writer-turned-come...\n",
              "7744    Movie  ...  Revisiting life goals set in a letter written ...\n",
              "7757    Movie  ...  The unorthodox, piano-playing stand-up star Za...\n",
              "\n",
              "[373 rows x 8 columns]"
            ]
          },
          "metadata": {},
          "execution_count": 36
        }
      ]
    }
  ]
}