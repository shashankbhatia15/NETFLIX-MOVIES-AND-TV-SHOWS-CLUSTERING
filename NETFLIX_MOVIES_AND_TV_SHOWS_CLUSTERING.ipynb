{
  "nbformat": 4,
  "nbformat_minor": 0,
  "metadata": {
    "colab": {
      "name": "NETFLIX MOVIES AND TV SHOWS CLUSTERING.ipynb",
      "provenance": [],
      "collapsed_sections": [],
      "include_colab_link": true
    },
    "kernelspec": {
      "display_name": "Python 3",
      "name": "python3"
    },
    "language_info": {
      "name": "python"
    }
  },
  "cells": [
    {
      "cell_type": "markdown",
      "metadata": {
        "id": "view-in-github",
        "colab_type": "text"
      },
      "source": [
        "<a href=\"https://colab.research.google.com/github/shashankbhatia15/NETFLIX-MOVIES-AND-TV-SHOWS-CLUSTERING/blob/main/NETFLIX_MOVIES_AND_TV_SHOWS_CLUSTERING.ipynb\" target=\"_parent\"><img src=\"https://colab.research.google.com/assets/colab-badge.svg\" alt=\"Open In Colab\"/></a>"
      ]
    },
    {
      "cell_type": "markdown",
      "metadata": {
        "id": "LGcl5Bv9ed6u"
      },
      "source": [
        "# **Problem Statement**"
      ]
    },
    {
      "cell_type": "markdown",
      "metadata": {
        "id": "8M5kyFaVjzXk"
      },
      "source": [
        "This dataset consists of tv shows and movies available on Netflix as of 2019. The dataset is collected from Flixable which is a third-party Netflix search engine.\n",
        "\n",
        "In 2018, they released an interesting report which shows that the number of TV shows on Netflix has nearly tripled since 2010. The streaming service’s number of movies has decreased by more than 2,000 titles since 2010, while its number of TV shows has nearly tripled. It will be interesting to explore what all other insights can be obtained from the same dataset.\n",
        "\n",
        "Integrating this dataset with other external datasets such as IMDB ratings, rotten tomatoes can also provide many interesting findings."
      ]
    },
    {
      "cell_type": "markdown",
      "metadata": {
        "id": "tLx5cJO8hzb1"
      },
      "source": [
        "## <b>In this  project, you are required to do </b>\n",
        "1. Exploratory Data Analysis \n",
        "\n",
        "2. Understanding what type content is available in different countries\n",
        "\n",
        "3. Is Netflix has increasingly focusing on TV rather than movies in recent years.\n",
        "4. Clustering similar content by matching text-based features\n",
        "\n"
      ]
    },
    {
      "cell_type": "markdown",
      "metadata": {
        "id": "AzGDqdC4fZ-b"
      },
      "source": [
        "# **Attribute Information**"
      ]
    },
    {
      "cell_type": "markdown",
      "metadata": {
        "id": "jhfLYargscGV"
      },
      "source": [
        "1. show_id : Unique ID for every Movie / Tv Show\n",
        "\n",
        "2. type : Identifier - A Movie or TV Show\n",
        "\n",
        "3. title : Title of the Movie / Tv Show\n",
        "\n",
        "4. director : Director of the Movie\n",
        "\n",
        "5. cast : Actors involved in the movie / show\n",
        "\n",
        "6. country : Country where the movie / show was produced\n",
        "\n",
        "7. date_added : Date it was added on Netflix\n",
        "\n",
        "8. release_year : Actual Releaseyear of the movie / show\n",
        "\n",
        "9. rating : TV Rating of the movie / show\n",
        "\n",
        "10. duration : Total Duration - in minutes or number of seasons\n",
        "\n",
        "11. listed_in : Genere\n",
        "\n",
        "12. description: The Summary description"
      ]
    },
    {
      "cell_type": "code",
      "metadata": {
        "colab": {
          "base_uri": "https://localhost:8080/"
        },
        "id": "fT55eYoEhDZV",
        "outputId": "2228b438-616a-47b1-bdcd-a8c8192ef637"
      },
      "source": [
        "#import libraries\n",
        "import pandas as pd\n",
        "import numpy as np\n",
        "import matplotlib.pyplot as plt\n",
        "import seaborn as sns\n",
        "import nltk\n",
        "from nltk.corpus import stopwords\n",
        "\n",
        "nltk.download('stopwords')\n",
        "nltk.download('punkt')"
      ],
      "execution_count": null,
      "outputs": [
        {
          "output_type": "stream",
          "name": "stdout",
          "text": [
            "[nltk_data] Downloading package stopwords to /root/nltk_data...\n",
            "[nltk_data]   Package stopwords is already up-to-date!\n",
            "[nltk_data] Downloading package punkt to /root/nltk_data...\n",
            "[nltk_data]   Package punkt is already up-to-date!\n"
          ]
        },
        {
          "output_type": "execute_result",
          "data": {
            "text/plain": [
              "True"
            ]
          },
          "metadata": {},
          "execution_count": 41
        }
      ]
    },
    {
      "cell_type": "code",
      "metadata": {
        "colab": {
          "base_uri": "https://localhost:8080/"
        },
        "id": "k5ViOa4A8enJ",
        "outputId": "7b29ed7f-6ddd-4f52-8a26-0fbcb945f2c4"
      },
      "source": [
        "#mount drive\n",
        "from google.colab import drive\n",
        "drive.mount('/content/drive')"
      ],
      "execution_count": null,
      "outputs": [
        {
          "output_type": "stream",
          "name": "stdout",
          "text": [
            "Drive already mounted at /content/drive; to attempt to forcibly remount, call drive.mount(\"/content/drive\", force_remount=True).\n"
          ]
        }
      ]
    },
    {
      "cell_type": "code",
      "metadata": {
        "id": "qzE3799Wgp6T"
      },
      "source": [
        "#read the data\n",
        "df = pd.read_csv('/content/drive/MyDrive/AlmaBetter/CAPSTONE PROJECTS/NETFLIX MOVIES AND TV SHOWS CLUSTERING - SHASHANK BHATIA/NETFLIX MOVIES AND TV SHOWS CLUSTERING.csv')"
      ],
      "execution_count": null,
      "outputs": []
    },
    {
      "cell_type": "markdown",
      "metadata": {
        "id": "bgZ4w55nZT2g"
      },
      "source": [
        "# **DATA OVERVIEW**"
      ]
    },
    {
      "cell_type": "code",
      "metadata": {
        "colab": {
          "base_uri": "https://localhost:8080/",
          "height": 357
        },
        "id": "ZAq6xgqDhObg",
        "outputId": "9c8887ee-5890-4046-9930-acff6d24be41"
      },
      "source": [
        "df.head()"
      ],
      "execution_count": null,
      "outputs": [
        {
          "output_type": "execute_result",
          "data": {
            "text/html": [
              "<div>\n",
              "<style scoped>\n",
              "    .dataframe tbody tr th:only-of-type {\n",
              "        vertical-align: middle;\n",
              "    }\n",
              "\n",
              "    .dataframe tbody tr th {\n",
              "        vertical-align: top;\n",
              "    }\n",
              "\n",
              "    .dataframe thead th {\n",
              "        text-align: right;\n",
              "    }\n",
              "</style>\n",
              "<table border=\"1\" class=\"dataframe\">\n",
              "  <thead>\n",
              "    <tr style=\"text-align: right;\">\n",
              "      <th></th>\n",
              "      <th>show_id</th>\n",
              "      <th>type</th>\n",
              "      <th>title</th>\n",
              "      <th>director</th>\n",
              "      <th>cast</th>\n",
              "      <th>country</th>\n",
              "      <th>date_added</th>\n",
              "      <th>release_year</th>\n",
              "      <th>rating</th>\n",
              "      <th>duration</th>\n",
              "      <th>listed_in</th>\n",
              "      <th>description</th>\n",
              "    </tr>\n",
              "  </thead>\n",
              "  <tbody>\n",
              "    <tr>\n",
              "      <th>0</th>\n",
              "      <td>s1</td>\n",
              "      <td>TV Show</td>\n",
              "      <td>3%</td>\n",
              "      <td>NaN</td>\n",
              "      <td>João Miguel, Bianca Comparato, Michel Gomes, R...</td>\n",
              "      <td>Brazil</td>\n",
              "      <td>August 14, 2020</td>\n",
              "      <td>2020</td>\n",
              "      <td>TV-MA</td>\n",
              "      <td>4 Seasons</td>\n",
              "      <td>International TV Shows, TV Dramas, TV Sci-Fi &amp;...</td>\n",
              "      <td>In a future where the elite inhabit an island ...</td>\n",
              "    </tr>\n",
              "    <tr>\n",
              "      <th>1</th>\n",
              "      <td>s2</td>\n",
              "      <td>Movie</td>\n",
              "      <td>7:19</td>\n",
              "      <td>Jorge Michel Grau</td>\n",
              "      <td>Demián Bichir, Héctor Bonilla, Oscar Serrano, ...</td>\n",
              "      <td>Mexico</td>\n",
              "      <td>December 23, 2016</td>\n",
              "      <td>2016</td>\n",
              "      <td>TV-MA</td>\n",
              "      <td>93 min</td>\n",
              "      <td>Dramas, International Movies</td>\n",
              "      <td>After a devastating earthquake hits Mexico Cit...</td>\n",
              "    </tr>\n",
              "    <tr>\n",
              "      <th>2</th>\n",
              "      <td>s3</td>\n",
              "      <td>Movie</td>\n",
              "      <td>23:59</td>\n",
              "      <td>Gilbert Chan</td>\n",
              "      <td>Tedd Chan, Stella Chung, Henley Hii, Lawrence ...</td>\n",
              "      <td>Singapore</td>\n",
              "      <td>December 20, 2018</td>\n",
              "      <td>2011</td>\n",
              "      <td>R</td>\n",
              "      <td>78 min</td>\n",
              "      <td>Horror Movies, International Movies</td>\n",
              "      <td>When an army recruit is found dead, his fellow...</td>\n",
              "    </tr>\n",
              "    <tr>\n",
              "      <th>3</th>\n",
              "      <td>s4</td>\n",
              "      <td>Movie</td>\n",
              "      <td>9</td>\n",
              "      <td>Shane Acker</td>\n",
              "      <td>Elijah Wood, John C. Reilly, Jennifer Connelly...</td>\n",
              "      <td>United States</td>\n",
              "      <td>November 16, 2017</td>\n",
              "      <td>2009</td>\n",
              "      <td>PG-13</td>\n",
              "      <td>80 min</td>\n",
              "      <td>Action &amp; Adventure, Independent Movies, Sci-Fi...</td>\n",
              "      <td>In a postapocalyptic world, rag-doll robots hi...</td>\n",
              "    </tr>\n",
              "    <tr>\n",
              "      <th>4</th>\n",
              "      <td>s5</td>\n",
              "      <td>Movie</td>\n",
              "      <td>21</td>\n",
              "      <td>Robert Luketic</td>\n",
              "      <td>Jim Sturgess, Kevin Spacey, Kate Bosworth, Aar...</td>\n",
              "      <td>United States</td>\n",
              "      <td>January 1, 2020</td>\n",
              "      <td>2008</td>\n",
              "      <td>PG-13</td>\n",
              "      <td>123 min</td>\n",
              "      <td>Dramas</td>\n",
              "      <td>A brilliant group of students become card-coun...</td>\n",
              "    </tr>\n",
              "  </tbody>\n",
              "</table>\n",
              "</div>"
            ],
            "text/plain": [
              "  show_id  ...                                        description\n",
              "0      s1  ...  In a future where the elite inhabit an island ...\n",
              "1      s2  ...  After a devastating earthquake hits Mexico Cit...\n",
              "2      s3  ...  When an army recruit is found dead, his fellow...\n",
              "3      s4  ...  In a postapocalyptic world, rag-doll robots hi...\n",
              "4      s5  ...  A brilliant group of students become card-coun...\n",
              "\n",
              "[5 rows x 12 columns]"
            ]
          },
          "metadata": {},
          "execution_count": 44
        }
      ]
    },
    {
      "cell_type": "code",
      "metadata": {
        "colab": {
          "base_uri": "https://localhost:8080/",
          "height": 425
        },
        "id": "pwWDbgom9GaO",
        "outputId": "e3020ad6-f243-4e88-b595-e2606fe54343"
      },
      "source": [
        "df.tail()"
      ],
      "execution_count": null,
      "outputs": [
        {
          "output_type": "execute_result",
          "data": {
            "text/html": [
              "<div>\n",
              "<style scoped>\n",
              "    .dataframe tbody tr th:only-of-type {\n",
              "        vertical-align: middle;\n",
              "    }\n",
              "\n",
              "    .dataframe tbody tr th {\n",
              "        vertical-align: top;\n",
              "    }\n",
              "\n",
              "    .dataframe thead th {\n",
              "        text-align: right;\n",
              "    }\n",
              "</style>\n",
              "<table border=\"1\" class=\"dataframe\">\n",
              "  <thead>\n",
              "    <tr style=\"text-align: right;\">\n",
              "      <th></th>\n",
              "      <th>show_id</th>\n",
              "      <th>type</th>\n",
              "      <th>title</th>\n",
              "      <th>director</th>\n",
              "      <th>cast</th>\n",
              "      <th>country</th>\n",
              "      <th>date_added</th>\n",
              "      <th>release_year</th>\n",
              "      <th>rating</th>\n",
              "      <th>duration</th>\n",
              "      <th>listed_in</th>\n",
              "      <th>description</th>\n",
              "    </tr>\n",
              "  </thead>\n",
              "  <tbody>\n",
              "    <tr>\n",
              "      <th>7782</th>\n",
              "      <td>s7783</td>\n",
              "      <td>Movie</td>\n",
              "      <td>Zozo</td>\n",
              "      <td>Josef Fares</td>\n",
              "      <td>Imad Creidi, Antoinette Turk, Elias Gergi, Car...</td>\n",
              "      <td>Sweden, Czech Republic, United Kingdom, Denmar...</td>\n",
              "      <td>October 19, 2020</td>\n",
              "      <td>2005</td>\n",
              "      <td>TV-MA</td>\n",
              "      <td>99 min</td>\n",
              "      <td>Dramas, International Movies</td>\n",
              "      <td>When Lebanon's Civil War deprives Zozo of his ...</td>\n",
              "    </tr>\n",
              "    <tr>\n",
              "      <th>7783</th>\n",
              "      <td>s7784</td>\n",
              "      <td>Movie</td>\n",
              "      <td>Zubaan</td>\n",
              "      <td>Mozez Singh</td>\n",
              "      <td>Vicky Kaushal, Sarah-Jane Dias, Raaghav Chanan...</td>\n",
              "      <td>India</td>\n",
              "      <td>March 2, 2019</td>\n",
              "      <td>2015</td>\n",
              "      <td>TV-14</td>\n",
              "      <td>111 min</td>\n",
              "      <td>Dramas, International Movies, Music &amp; Musicals</td>\n",
              "      <td>A scrappy but poor boy worms his way into a ty...</td>\n",
              "    </tr>\n",
              "    <tr>\n",
              "      <th>7784</th>\n",
              "      <td>s7785</td>\n",
              "      <td>Movie</td>\n",
              "      <td>Zulu Man in Japan</td>\n",
              "      <td>NaN</td>\n",
              "      <td>Nasty C</td>\n",
              "      <td>NaN</td>\n",
              "      <td>September 25, 2020</td>\n",
              "      <td>2019</td>\n",
              "      <td>TV-MA</td>\n",
              "      <td>44 min</td>\n",
              "      <td>Documentaries, International Movies, Music &amp; M...</td>\n",
              "      <td>In this documentary, South African rapper Nast...</td>\n",
              "    </tr>\n",
              "    <tr>\n",
              "      <th>7785</th>\n",
              "      <td>s7786</td>\n",
              "      <td>TV Show</td>\n",
              "      <td>Zumbo's Just Desserts</td>\n",
              "      <td>NaN</td>\n",
              "      <td>Adriano Zumbo, Rachel Khoo</td>\n",
              "      <td>Australia</td>\n",
              "      <td>October 31, 2020</td>\n",
              "      <td>2019</td>\n",
              "      <td>TV-PG</td>\n",
              "      <td>1 Season</td>\n",
              "      <td>International TV Shows, Reality TV</td>\n",
              "      <td>Dessert wizard Adriano Zumbo looks for the nex...</td>\n",
              "    </tr>\n",
              "    <tr>\n",
              "      <th>7786</th>\n",
              "      <td>s7787</td>\n",
              "      <td>Movie</td>\n",
              "      <td>ZZ TOP: THAT LITTLE OL' BAND FROM TEXAS</td>\n",
              "      <td>Sam Dunn</td>\n",
              "      <td>NaN</td>\n",
              "      <td>United Kingdom, Canada, United States</td>\n",
              "      <td>March 1, 2020</td>\n",
              "      <td>2019</td>\n",
              "      <td>TV-MA</td>\n",
              "      <td>90 min</td>\n",
              "      <td>Documentaries, Music &amp; Musicals</td>\n",
              "      <td>This documentary delves into the mystique behi...</td>\n",
              "    </tr>\n",
              "  </tbody>\n",
              "</table>\n",
              "</div>"
            ],
            "text/plain": [
              "     show_id  ...                                        description\n",
              "7782   s7783  ...  When Lebanon's Civil War deprives Zozo of his ...\n",
              "7783   s7784  ...  A scrappy but poor boy worms his way into a ty...\n",
              "7784   s7785  ...  In this documentary, South African rapper Nast...\n",
              "7785   s7786  ...  Dessert wizard Adriano Zumbo looks for the nex...\n",
              "7786   s7787  ...  This documentary delves into the mystique behi...\n",
              "\n",
              "[5 rows x 12 columns]"
            ]
          },
          "metadata": {},
          "execution_count": 45
        }
      ]
    },
    {
      "cell_type": "code",
      "metadata": {
        "colab": {
          "base_uri": "https://localhost:8080/",
          "height": 424
        },
        "id": "oWEFvhLhumVl",
        "outputId": "b77b1758-589c-41ef-e10c-25057cfd82c8"
      },
      "source": [
        "df.describe(include='all')"
      ],
      "execution_count": null,
      "outputs": [
        {
          "output_type": "execute_result",
          "data": {
            "text/html": [
              "<div>\n",
              "<style scoped>\n",
              "    .dataframe tbody tr th:only-of-type {\n",
              "        vertical-align: middle;\n",
              "    }\n",
              "\n",
              "    .dataframe tbody tr th {\n",
              "        vertical-align: top;\n",
              "    }\n",
              "\n",
              "    .dataframe thead th {\n",
              "        text-align: right;\n",
              "    }\n",
              "</style>\n",
              "<table border=\"1\" class=\"dataframe\">\n",
              "  <thead>\n",
              "    <tr style=\"text-align: right;\">\n",
              "      <th></th>\n",
              "      <th>show_id</th>\n",
              "      <th>type</th>\n",
              "      <th>title</th>\n",
              "      <th>director</th>\n",
              "      <th>cast</th>\n",
              "      <th>country</th>\n",
              "      <th>date_added</th>\n",
              "      <th>release_year</th>\n",
              "      <th>rating</th>\n",
              "      <th>duration</th>\n",
              "      <th>listed_in</th>\n",
              "      <th>description</th>\n",
              "    </tr>\n",
              "  </thead>\n",
              "  <tbody>\n",
              "    <tr>\n",
              "      <th>count</th>\n",
              "      <td>7787</td>\n",
              "      <td>7787</td>\n",
              "      <td>7787</td>\n",
              "      <td>5398</td>\n",
              "      <td>7069</td>\n",
              "      <td>7280</td>\n",
              "      <td>7777</td>\n",
              "      <td>7787.000000</td>\n",
              "      <td>7780</td>\n",
              "      <td>7787</td>\n",
              "      <td>7787</td>\n",
              "      <td>7787</td>\n",
              "    </tr>\n",
              "    <tr>\n",
              "      <th>unique</th>\n",
              "      <td>7787</td>\n",
              "      <td>2</td>\n",
              "      <td>7787</td>\n",
              "      <td>4049</td>\n",
              "      <td>6831</td>\n",
              "      <td>681</td>\n",
              "      <td>1565</td>\n",
              "      <td>NaN</td>\n",
              "      <td>14</td>\n",
              "      <td>216</td>\n",
              "      <td>492</td>\n",
              "      <td>7769</td>\n",
              "    </tr>\n",
              "    <tr>\n",
              "      <th>top</th>\n",
              "      <td>s1265</td>\n",
              "      <td>Movie</td>\n",
              "      <td>Merku Thodarchi Malai</td>\n",
              "      <td>Raúl Campos, Jan Suter</td>\n",
              "      <td>David Attenborough</td>\n",
              "      <td>United States</td>\n",
              "      <td>January 1, 2020</td>\n",
              "      <td>NaN</td>\n",
              "      <td>TV-MA</td>\n",
              "      <td>1 Season</td>\n",
              "      <td>Documentaries</td>\n",
              "      <td>A surly septuagenarian gets another chance at ...</td>\n",
              "    </tr>\n",
              "    <tr>\n",
              "      <th>freq</th>\n",
              "      <td>1</td>\n",
              "      <td>5377</td>\n",
              "      <td>1</td>\n",
              "      <td>18</td>\n",
              "      <td>18</td>\n",
              "      <td>2555</td>\n",
              "      <td>118</td>\n",
              "      <td>NaN</td>\n",
              "      <td>2863</td>\n",
              "      <td>1608</td>\n",
              "      <td>334</td>\n",
              "      <td>3</td>\n",
              "    </tr>\n",
              "    <tr>\n",
              "      <th>mean</th>\n",
              "      <td>NaN</td>\n",
              "      <td>NaN</td>\n",
              "      <td>NaN</td>\n",
              "      <td>NaN</td>\n",
              "      <td>NaN</td>\n",
              "      <td>NaN</td>\n",
              "      <td>NaN</td>\n",
              "      <td>2013.932580</td>\n",
              "      <td>NaN</td>\n",
              "      <td>NaN</td>\n",
              "      <td>NaN</td>\n",
              "      <td>NaN</td>\n",
              "    </tr>\n",
              "    <tr>\n",
              "      <th>std</th>\n",
              "      <td>NaN</td>\n",
              "      <td>NaN</td>\n",
              "      <td>NaN</td>\n",
              "      <td>NaN</td>\n",
              "      <td>NaN</td>\n",
              "      <td>NaN</td>\n",
              "      <td>NaN</td>\n",
              "      <td>8.757395</td>\n",
              "      <td>NaN</td>\n",
              "      <td>NaN</td>\n",
              "      <td>NaN</td>\n",
              "      <td>NaN</td>\n",
              "    </tr>\n",
              "    <tr>\n",
              "      <th>min</th>\n",
              "      <td>NaN</td>\n",
              "      <td>NaN</td>\n",
              "      <td>NaN</td>\n",
              "      <td>NaN</td>\n",
              "      <td>NaN</td>\n",
              "      <td>NaN</td>\n",
              "      <td>NaN</td>\n",
              "      <td>1925.000000</td>\n",
              "      <td>NaN</td>\n",
              "      <td>NaN</td>\n",
              "      <td>NaN</td>\n",
              "      <td>NaN</td>\n",
              "    </tr>\n",
              "    <tr>\n",
              "      <th>25%</th>\n",
              "      <td>NaN</td>\n",
              "      <td>NaN</td>\n",
              "      <td>NaN</td>\n",
              "      <td>NaN</td>\n",
              "      <td>NaN</td>\n",
              "      <td>NaN</td>\n",
              "      <td>NaN</td>\n",
              "      <td>2013.000000</td>\n",
              "      <td>NaN</td>\n",
              "      <td>NaN</td>\n",
              "      <td>NaN</td>\n",
              "      <td>NaN</td>\n",
              "    </tr>\n",
              "    <tr>\n",
              "      <th>50%</th>\n",
              "      <td>NaN</td>\n",
              "      <td>NaN</td>\n",
              "      <td>NaN</td>\n",
              "      <td>NaN</td>\n",
              "      <td>NaN</td>\n",
              "      <td>NaN</td>\n",
              "      <td>NaN</td>\n",
              "      <td>2017.000000</td>\n",
              "      <td>NaN</td>\n",
              "      <td>NaN</td>\n",
              "      <td>NaN</td>\n",
              "      <td>NaN</td>\n",
              "    </tr>\n",
              "    <tr>\n",
              "      <th>75%</th>\n",
              "      <td>NaN</td>\n",
              "      <td>NaN</td>\n",
              "      <td>NaN</td>\n",
              "      <td>NaN</td>\n",
              "      <td>NaN</td>\n",
              "      <td>NaN</td>\n",
              "      <td>NaN</td>\n",
              "      <td>2018.000000</td>\n",
              "      <td>NaN</td>\n",
              "      <td>NaN</td>\n",
              "      <td>NaN</td>\n",
              "      <td>NaN</td>\n",
              "    </tr>\n",
              "    <tr>\n",
              "      <th>max</th>\n",
              "      <td>NaN</td>\n",
              "      <td>NaN</td>\n",
              "      <td>NaN</td>\n",
              "      <td>NaN</td>\n",
              "      <td>NaN</td>\n",
              "      <td>NaN</td>\n",
              "      <td>NaN</td>\n",
              "      <td>2021.000000</td>\n",
              "      <td>NaN</td>\n",
              "      <td>NaN</td>\n",
              "      <td>NaN</td>\n",
              "      <td>NaN</td>\n",
              "    </tr>\n",
              "  </tbody>\n",
              "</table>\n",
              "</div>"
            ],
            "text/plain": [
              "       show_id  ...                                        description\n",
              "count     7787  ...                                               7787\n",
              "unique    7787  ...                                               7769\n",
              "top      s1265  ...  A surly septuagenarian gets another chance at ...\n",
              "freq         1  ...                                                  3\n",
              "mean       NaN  ...                                                NaN\n",
              "std        NaN  ...                                                NaN\n",
              "min        NaN  ...                                                NaN\n",
              "25%        NaN  ...                                                NaN\n",
              "50%        NaN  ...                                                NaN\n",
              "75%        NaN  ...                                                NaN\n",
              "max        NaN  ...                                                NaN\n",
              "\n",
              "[11 rows x 12 columns]"
            ]
          },
          "metadata": {},
          "execution_count": 46
        }
      ]
    },
    {
      "cell_type": "code",
      "metadata": {
        "colab": {
          "base_uri": "https://localhost:8080/"
        },
        "id": "5IGl7ggyumSz",
        "outputId": "e0df3dc4-034a-4b63-b4e1-71f66d11d4df"
      },
      "source": [
        "df.info()"
      ],
      "execution_count": null,
      "outputs": [
        {
          "output_type": "stream",
          "name": "stdout",
          "text": [
            "<class 'pandas.core.frame.DataFrame'>\n",
            "RangeIndex: 7787 entries, 0 to 7786\n",
            "Data columns (total 12 columns):\n",
            " #   Column        Non-Null Count  Dtype \n",
            "---  ------        --------------  ----- \n",
            " 0   show_id       7787 non-null   object\n",
            " 1   type          7787 non-null   object\n",
            " 2   title         7787 non-null   object\n",
            " 3   director      5398 non-null   object\n",
            " 4   cast          7069 non-null   object\n",
            " 5   country       7280 non-null   object\n",
            " 6   date_added    7777 non-null   object\n",
            " 7   release_year  7787 non-null   int64 \n",
            " 8   rating        7780 non-null   object\n",
            " 9   duration      7787 non-null   object\n",
            " 10  listed_in     7787 non-null   object\n",
            " 11  description   7787 non-null   object\n",
            "dtypes: int64(1), object(11)\n",
            "memory usage: 730.2+ KB\n"
          ]
        }
      ]
    },
    {
      "cell_type": "code",
      "metadata": {
        "colab": {
          "base_uri": "https://localhost:8080/"
        },
        "id": "VH9Em_vc3Zg4",
        "outputId": "eb2f4b56-fb25-4f64-a12a-25a7a7c97cdd"
      },
      "source": [
        "df.columns"
      ],
      "execution_count": null,
      "outputs": [
        {
          "output_type": "execute_result",
          "data": {
            "text/plain": [
              "Index(['show_id', 'type', 'title', 'director', 'cast', 'country', 'date_added',\n",
              "       'release_year', 'rating', 'duration', 'listed_in', 'description'],\n",
              "      dtype='object')"
            ]
          },
          "metadata": {},
          "execution_count": 48
        }
      ]
    },
    {
      "cell_type": "code",
      "metadata": {
        "colab": {
          "base_uri": "https://localhost:8080/"
        },
        "id": "ZoCew7u33bLG",
        "outputId": "99b6fd8c-7d21-4088-e891-3071b621bab9"
      },
      "source": [
        "df.shape"
      ],
      "execution_count": null,
      "outputs": [
        {
          "output_type": "execute_result",
          "data": {
            "text/plain": [
              "(7787, 12)"
            ]
          },
          "metadata": {},
          "execution_count": 49
        }
      ]
    },
    {
      "cell_type": "code",
      "metadata": {
        "colab": {
          "base_uri": "https://localhost:8080/"
        },
        "id": "H46ybq6jaMUk",
        "outputId": "94b32d34-7f47-4e6c-f6fc-6f966e7e85af"
      },
      "source": [
        "#types of shows\n",
        "df.type.unique()"
      ],
      "execution_count": null,
      "outputs": [
        {
          "output_type": "execute_result",
          "data": {
            "text/plain": [
              "array(['TV Show', 'Movie'], dtype=object)"
            ]
          },
          "metadata": {},
          "execution_count": 50
        }
      ]
    },
    {
      "cell_type": "code",
      "metadata": {
        "colab": {
          "base_uri": "https://localhost:8080/"
        },
        "id": "0zr45W-d9xKt",
        "outputId": "9871b474-26b7-4d85-9883-859a5a4feafc"
      },
      "source": [
        "#types of ratings\n",
        "df.rating.unique()"
      ],
      "execution_count": null,
      "outputs": [
        {
          "output_type": "execute_result",
          "data": {
            "text/plain": [
              "array(['TV-MA', 'R', 'PG-13', 'TV-14', 'TV-PG', 'NR', 'TV-G', 'TV-Y', nan,\n",
              "       'TV-Y7', 'PG', 'G', 'NC-17', 'TV-Y7-FV', 'UR'], dtype=object)"
            ]
          },
          "metadata": {},
          "execution_count": 51
        }
      ]
    },
    {
      "cell_type": "markdown",
      "metadata": {
        "id": "AlHgPHKMB_fY"
      },
      "source": [
        "# **NULL VALUE TREATMENT**"
      ]
    },
    {
      "cell_type": "markdown",
      "metadata": {
        "id": "4iwlh6XP-niy"
      },
      "source": [
        "**1. RATING & COUNTRY** - Replacing nulls with mode\n",
        "\n",
        "\n",
        "**2. CAST**- Replacing nulls with 'unknown'.\n",
        "\n",
        "\n",
        "**3. DATE** - there are few missing values for date column. so, lets drop missing value rows.\n",
        "\n",
        "**4. DIRECTOR** -  Director column has more then 30% null values so we will not use it for our model but will keep it for EDA - Replacing nulls with 'unknown'.\n",
        "\n"
      ]
    },
    {
      "cell_type": "code",
      "metadata": {
        "colab": {
          "base_uri": "https://localhost:8080/",
          "height": 421
        },
        "id": "PsIr7W9Haw66",
        "outputId": "39f22550-d513-4106-9fd8-7c999a9c7b31"
      },
      "source": [
        "#Calculating the percentage of NULL of values in each column\n",
        "total = df.isnull().sum().sort_values(ascending=False)\n",
        "percent = (df.isnull().sum()/df.isnull().count()).sort_values(ascending=False) * 100\n",
        "missing_data = pd.concat([total, percent], axis=1, keys=['Total', 'Percent'])\n",
        "missing_data"
      ],
      "execution_count": null,
      "outputs": [
        {
          "output_type": "execute_result",
          "data": {
            "text/html": [
              "<div>\n",
              "<style scoped>\n",
              "    .dataframe tbody tr th:only-of-type {\n",
              "        vertical-align: middle;\n",
              "    }\n",
              "\n",
              "    .dataframe tbody tr th {\n",
              "        vertical-align: top;\n",
              "    }\n",
              "\n",
              "    .dataframe thead th {\n",
              "        text-align: right;\n",
              "    }\n",
              "</style>\n",
              "<table border=\"1\" class=\"dataframe\">\n",
              "  <thead>\n",
              "    <tr style=\"text-align: right;\">\n",
              "      <th></th>\n",
              "      <th>Total</th>\n",
              "      <th>Percent</th>\n",
              "    </tr>\n",
              "  </thead>\n",
              "  <tbody>\n",
              "    <tr>\n",
              "      <th>director</th>\n",
              "      <td>2389</td>\n",
              "      <td>30.679337</td>\n",
              "    </tr>\n",
              "    <tr>\n",
              "      <th>cast</th>\n",
              "      <td>718</td>\n",
              "      <td>9.220496</td>\n",
              "    </tr>\n",
              "    <tr>\n",
              "      <th>country</th>\n",
              "      <td>507</td>\n",
              "      <td>6.510851</td>\n",
              "    </tr>\n",
              "    <tr>\n",
              "      <th>date_added</th>\n",
              "      <td>10</td>\n",
              "      <td>0.128419</td>\n",
              "    </tr>\n",
              "    <tr>\n",
              "      <th>rating</th>\n",
              "      <td>7</td>\n",
              "      <td>0.089893</td>\n",
              "    </tr>\n",
              "    <tr>\n",
              "      <th>description</th>\n",
              "      <td>0</td>\n",
              "      <td>0.000000</td>\n",
              "    </tr>\n",
              "    <tr>\n",
              "      <th>listed_in</th>\n",
              "      <td>0</td>\n",
              "      <td>0.000000</td>\n",
              "    </tr>\n",
              "    <tr>\n",
              "      <th>duration</th>\n",
              "      <td>0</td>\n",
              "      <td>0.000000</td>\n",
              "    </tr>\n",
              "    <tr>\n",
              "      <th>release_year</th>\n",
              "      <td>0</td>\n",
              "      <td>0.000000</td>\n",
              "    </tr>\n",
              "    <tr>\n",
              "      <th>title</th>\n",
              "      <td>0</td>\n",
              "      <td>0.000000</td>\n",
              "    </tr>\n",
              "    <tr>\n",
              "      <th>type</th>\n",
              "      <td>0</td>\n",
              "      <td>0.000000</td>\n",
              "    </tr>\n",
              "    <tr>\n",
              "      <th>show_id</th>\n",
              "      <td>0</td>\n",
              "      <td>0.000000</td>\n",
              "    </tr>\n",
              "  </tbody>\n",
              "</table>\n",
              "</div>"
            ],
            "text/plain": [
              "              Total    Percent\n",
              "director       2389  30.679337\n",
              "cast            718   9.220496\n",
              "country         507   6.510851\n",
              "date_added       10   0.128419\n",
              "rating            7   0.089893\n",
              "description       0   0.000000\n",
              "listed_in         0   0.000000\n",
              "duration          0   0.000000\n",
              "release_year      0   0.000000\n",
              "title             0   0.000000\n",
              "type              0   0.000000\n",
              "show_id           0   0.000000"
            ]
          },
          "metadata": {},
          "execution_count": 52
        }
      ]
    },
    {
      "cell_type": "code",
      "metadata": {
        "id": "hfJmiYbtaw2l"
      },
      "source": [
        "#Replacing missing values in 'director' column with value 'unknown'\n",
        "df['director'].replace(np.nan, \"unknown\",inplace  = True)\n",
        "\n",
        "#Replacing missing values in 'cast' column with value 'unknown'\n",
        "df['cast'].replace(np.nan, \"unknown\",inplace  = True)\n",
        "\n",
        "#Replacing missing values in 'country' column with mode\n",
        "df['country']= df['country'].fillna(df['country'].mode()[0])\n",
        "\n",
        "\n",
        "#Replacing missing values in 'rating' column with value most frequent rating i.e. mode\n",
        "df['rating'] = df['rating'].fillna(df['rating'].mode()[0])\n",
        "\n",
        "# Dropping the null values in 'date_added'\n",
        "df = df[df['date_added'].notna()]"
      ],
      "execution_count": null,
      "outputs": []
    },
    {
      "cell_type": "code",
      "metadata": {
        "colab": {
          "base_uri": "https://localhost:8080/"
        },
        "id": "tvqrCOSZaw0l",
        "outputId": "57583a6c-d78f-4994-f735-838a1d210f7f"
      },
      "source": [
        "df.info()"
      ],
      "execution_count": null,
      "outputs": [
        {
          "output_type": "stream",
          "name": "stdout",
          "text": [
            "<class 'pandas.core.frame.DataFrame'>\n",
            "Int64Index: 7777 entries, 0 to 7786\n",
            "Data columns (total 12 columns):\n",
            " #   Column        Non-Null Count  Dtype \n",
            "---  ------        --------------  ----- \n",
            " 0   show_id       7777 non-null   object\n",
            " 1   type          7777 non-null   object\n",
            " 2   title         7777 non-null   object\n",
            " 3   director      7777 non-null   object\n",
            " 4   cast          7777 non-null   object\n",
            " 5   country       7777 non-null   object\n",
            " 6   date_added    7777 non-null   object\n",
            " 7   release_year  7777 non-null   int64 \n",
            " 8   rating        7777 non-null   object\n",
            " 9   duration      7777 non-null   object\n",
            " 10  listed_in     7777 non-null   object\n",
            " 11  description   7777 non-null   object\n",
            "dtypes: int64(1), object(11)\n",
            "memory usage: 789.9+ KB\n"
          ]
        }
      ]
    },
    {
      "cell_type": "markdown",
      "metadata": {
        "id": "wFhXTwybGjVf"
      },
      "source": [
        "No more null values left"
      ]
    },
    {
      "cell_type": "markdown",
      "metadata": {
        "id": "TEXfbSOUGyGP"
      },
      "source": [
        "# **EDA**"
      ]
    },
    {
      "cell_type": "code",
      "metadata": {
        "colab": {
          "base_uri": "https://localhost:8080/"
        },
        "id": "bdX201ddstWS",
        "outputId": "b1bff3a8-2220-434a-88b3-374ab329f4ac"
      },
      "source": [
        "#check duplicate entries\n",
        "len(df[df.duplicated()])"
      ],
      "execution_count": null,
      "outputs": [
        {
          "output_type": "execute_result",
          "data": {
            "text/plain": [
              "0"
            ]
          },
          "metadata": {},
          "execution_count": 55
        }
      ]
    },
    {
      "cell_type": "markdown",
      "metadata": {
        "id": "LNGHyxvUHEEH"
      },
      "source": [
        "No duplicates found in the data "
      ]
    },
    {
      "cell_type": "markdown",
      "metadata": {
        "id": "tV_3Y8rqH97n"
      },
      "source": [
        "**TYPE OF CONTENT**"
      ]
    },
    {
      "cell_type": "code",
      "metadata": {
        "colab": {
          "base_uri": "https://localhost:8080/",
          "height": 427
        },
        "id": "VnNkJ8DYGfjV",
        "outputId": "e423d134-e195-494e-a2df-3f68dc1c01a3"
      },
      "source": [
        "#plotting pie chart on type feature\n",
        "plt.figure(figsize=(14, 7))\n",
        "labels=['TV Show', 'Movie']\n",
        "plt.pie(df['type'].value_counts().sort_values(),labels=labels,explode=[0.1,0.1],\n",
        "        autopct='%1.2f%%', startangle=90)\n",
        "plt.title('Type of Netflix Content')\n",
        "plt.axis('equal')\n",
        "plt.show()"
      ],
      "execution_count": null,
      "outputs": [
        {
          "output_type": "display_data",
          "data": {
            "image/png": "[encoded data removed]",
            "text/plain": [
              "<Figure size 1008x504 with 1 Axes>"
            ]
          },
          "metadata": {}
        }
      ]
    },
    {
      "cell_type": "markdown",
      "metadata": {
        "id": "0cu2H3WTNPFj"
      },
      "source": [
        "There are about 70% movies and 30% TV shows on Netflix."
      ]
    },
    {
      "cell_type": "markdown",
      "metadata": {
        "id": "8AIj1tkWOKSo"
      },
      "source": [
        "**TOP 10 COUNTRIES**"
      ]
    },
    {
      "cell_type": "code",
      "metadata": {
        "id": "o_66NyxiPCK1"
      },
      "source": [
        "#FEATURE ENGINEERING - Creating a new feature 'main_Country'\n",
        "df['main_country']= df['country'].apply(lambda x: x.split(\",\")[0])"
      ],
      "execution_count": null,
      "outputs": []
    },
    {
      "cell_type": "code",
      "metadata": {
        "colab": {
          "base_uri": "https://localhost:8080/",
          "height": 374
        },
        "id": "IEfXYvN6gmQx",
        "outputId": "3ae1fe50-4329-4dfc-d170-455ce63f47f9"
      },
      "source": [
        "df.head()"
      ],
      "execution_count": null,
      "outputs": [
        {
          "output_type": "execute_result",
          "data": {
            "text/html": [
              "<div>\n",
              "<style scoped>\n",
              "    .dataframe tbody tr th:only-of-type {\n",
              "        vertical-align: middle;\n",
              "    }\n",
              "\n",
              "    .dataframe tbody tr th {\n",
              "        vertical-align: top;\n",
              "    }\n",
              "\n",
              "    .dataframe thead th {\n",
              "        text-align: right;\n",
              "    }\n",
              "</style>\n",
              "<table border=\"1\" class=\"dataframe\">\n",
              "  <thead>\n",
              "    <tr style=\"text-align: right;\">\n",
              "      <th></th>\n",
              "      <th>show_id</th>\n",
              "      <th>type</th>\n",
              "      <th>title</th>\n",
              "      <th>director</th>\n",
              "      <th>cast</th>\n",
              "      <th>country</th>\n",
              "      <th>date_added</th>\n",
              "      <th>release_year</th>\n",
              "      <th>rating</th>\n",
              "      <th>duration</th>\n",
              "      <th>listed_in</th>\n",
              "      <th>description</th>\n",
              "      <th>main_country</th>\n",
              "    </tr>\n",
              "  </thead>\n",
              "  <tbody>\n",
              "    <tr>\n",
              "      <th>0</th>\n",
              "      <td>s1</td>\n",
              "      <td>TV Show</td>\n",
              "      <td>3%</td>\n",
              "      <td>unknown</td>\n",
              "      <td>João Miguel, Bianca Comparato, Michel Gomes, R...</td>\n",
              "      <td>Brazil</td>\n",
              "      <td>August 14, 2020</td>\n",
              "      <td>2020</td>\n",
              "      <td>TV-MA</td>\n",
              "      <td>4 Seasons</td>\n",
              "      <td>International TV Shows, TV Dramas, TV Sci-Fi &amp;...</td>\n",
              "      <td>In a future where the elite inhabit an island ...</td>\n",
              "      <td>Brazil</td>\n",
              "    </tr>\n",
              "    <tr>\n",
              "      <th>1</th>\n",
              "      <td>s2</td>\n",
              "      <td>Movie</td>\n",
              "      <td>7:19</td>\n",
              "      <td>Jorge Michel Grau</td>\n",
              "      <td>Demián Bichir, Héctor Bonilla, Oscar Serrano, ...</td>\n",
              "      <td>Mexico</td>\n",
              "      <td>December 23, 2016</td>\n",
              "      <td>2016</td>\n",
              "      <td>TV-MA</td>\n",
              "      <td>93 min</td>\n",
              "      <td>Dramas, International Movies</td>\n",
              "      <td>After a devastating earthquake hits Mexico Cit...</td>\n",
              "      <td>Mexico</td>\n",
              "    </tr>\n",
              "    <tr>\n",
              "      <th>2</th>\n",
              "      <td>s3</td>\n",
              "      <td>Movie</td>\n",
              "      <td>23:59</td>\n",
              "      <td>Gilbert Chan</td>\n",
              "      <td>Tedd Chan, Stella Chung, Henley Hii, Lawrence ...</td>\n",
              "      <td>Singapore</td>\n",
              "      <td>December 20, 2018</td>\n",
              "      <td>2011</td>\n",
              "      <td>R</td>\n",
              "      <td>78 min</td>\n",
              "      <td>Horror Movies, International Movies</td>\n",
              "      <td>When an army recruit is found dead, his fellow...</td>\n",
              "      <td>Singapore</td>\n",
              "    </tr>\n",
              "    <tr>\n",
              "      <th>3</th>\n",
              "      <td>s4</td>\n",
              "      <td>Movie</td>\n",
              "      <td>9</td>\n",
              "      <td>Shane Acker</td>\n",
              "      <td>Elijah Wood, John C. Reilly, Jennifer Connelly...</td>\n",
              "      <td>United States</td>\n",
              "      <td>November 16, 2017</td>\n",
              "      <td>2009</td>\n",
              "      <td>PG-13</td>\n",
              "      <td>80 min</td>\n",
              "      <td>Action &amp; Adventure, Independent Movies, Sci-Fi...</td>\n",
              "      <td>In a postapocalyptic world, rag-doll robots hi...</td>\n",
              "      <td>United States</td>\n",
              "    </tr>\n",
              "    <tr>\n",
              "      <th>4</th>\n",
              "      <td>s5</td>\n",
              "      <td>Movie</td>\n",
              "      <td>21</td>\n",
              "      <td>Robert Luketic</td>\n",
              "      <td>Jim Sturgess, Kevin Spacey, Kate Bosworth, Aar...</td>\n",
              "      <td>United States</td>\n",
              "      <td>January 1, 2020</td>\n",
              "      <td>2008</td>\n",
              "      <td>PG-13</td>\n",
              "      <td>123 min</td>\n",
              "      <td>Dramas</td>\n",
              "      <td>A brilliant group of students become card-coun...</td>\n",
              "      <td>United States</td>\n",
              "    </tr>\n",
              "  </tbody>\n",
              "</table>\n",
              "</div>"
            ],
            "text/plain": [
              "  show_id  ...   main_country\n",
              "0      s1  ...         Brazil\n",
              "1      s2  ...         Mexico\n",
              "2      s3  ...      Singapore\n",
              "3      s4  ...  United States\n",
              "4      s5  ...  United States\n",
              "\n",
              "[5 rows x 13 columns]"
            ]
          },
          "metadata": {},
          "execution_count": 58
        }
      ]
    },
    {
      "cell_type": "code",
      "metadata": {
        "colab": {
          "base_uri": "https://localhost:8080/",
          "height": 535
        },
        "id": "R6Ox_RBCgs-b",
        "outputId": "baaa25bb-1ace-424d-c6dc-1978217505c9"
      },
      "source": [
        "# Top 10 countries on Netflix\n",
        "plt.figure(figsize=(12,8))\n",
        "ax=sns.countplot(x='main_country',lw=2,data=df,\n",
        "              order=df['main_country'].value_counts().index[0:10])\n",
        "\n",
        "plt.title('Top 10 coutries',fontweight=\"bold\")\n",
        "plt.xlabel('Counts')\n",
        "plt.ylabel('Country Name')"
      ],
      "execution_count": null,
      "outputs": [
        {
          "output_type": "execute_result",
          "data": {
            "text/plain": [
              "Text(0, 0.5, 'Country Name')"
            ]
          },
          "metadata": {},
          "execution_count": 59
        },
        {
          "output_type": "display_data",
          "data": {
            "image/png": "[encoded data removed]",
            "text/plain": [
              "<Figure size 864x576 with 1 Axes>"
            ]
          },
          "metadata": {}
        }
      ]
    },
    {
      "cell_type": "markdown",
      "metadata": {
        "id": "fx9VomMENYim"
      },
      "source": [
        "The United States has the most number of content on Netflix by a huge margin followed by India.\n",
        "\n",
        "\n"
      ]
    },
    {
      "cell_type": "code",
      "metadata": {
        "colab": {
          "base_uri": "https://localhost:8080/",
          "height": 488
        },
        "id": "yIjsdWMyjzJw",
        "outputId": "28a34509-f73a-4b61-9e22-1f00af1354af"
      },
      "source": [
        "#Number of TV Shows and Movies content in top 10 countries with maximum content\n",
        "sns.set()\n",
        "plt.figure(figsize=(12,6))\n",
        "ax=sns.countplot(x=\"main_country\",data= df,hue= \"type\",order = df['main_country'].value_counts().index[0:15])\n",
        "plt.xticks(rotation=90)\n",
        "plt.xlabel('Country')\n",
        "plt.title(\"Number of TV Shows and Movies in top 10 countries\",fontweight=\"bold\")\n",
        "plt.show()"
      ],
      "execution_count": null,
      "outputs": [
        {
          "output_type": "display_data",
          "data": {
            "image/png": "[encoded data removed]",
            "text/plain": [
              "<Figure size 864x432 with 1 Axes>"
            ]
          },
          "metadata": {}
        }
      ]
    },
    {
      "cell_type": "markdown",
      "metadata": {
        "id": "lsLPrNU5OBmv"
      },
      "source": [
        "Most of the countries have more movies than TV shows but for South Korea and Japan it's the opposite. It maybe because KDramas and Anime are more popular in these two countries respectively."
      ]
    },
    {
      "cell_type": "markdown",
      "metadata": {
        "id": "l_J7TdgHK_aK"
      },
      "source": [
        "**TOP 10 DIRECTORS**"
      ]
    },
    {
      "cell_type": "code",
      "metadata": {
        "id": "yiaIQmYbKAZp"
      },
      "source": [
        "#creating copy for plot\n",
        "direc=df.copy()\n",
        "#removing unknown \n",
        "direc=direc[df['director']!='unknown']"
      ],
      "execution_count": null,
      "outputs": []
    },
    {
      "cell_type": "code",
      "metadata": {
        "colab": {
          "base_uri": "https://localhost:8080/",
          "height": 529
        },
        "id": "J4SPfAEvJS2H",
        "outputId": "300a70be-87d6-447c-dde9-2cdb8a0b5181"
      },
      "source": [
        "#plot for top 10 director\n",
        "\n",
        "plt.figure(figsize = (14,6))\n",
        "sns.countplot(x='director',data=direc,order=direc.director.value_counts().head(10).index)\n",
        "plt.title('Director with most movies/shows',fontweight=\"bold\")\n",
        "plt.xticks(rotation = 90)\n",
        "plt.show()"
      ],
      "execution_count": null,
      "outputs": [
        {
          "output_type": "display_data",
          "data": {
            "image/png": "[encoded data removed]",
            "text/plain": [
              "<Figure size 1008x432 with 1 Axes>"
            ]
          },
          "metadata": {}
        }
      ]
    },
    {
      "cell_type": "markdown",
      "metadata": {
        "id": "_wfjTXIzOhsi"
      },
      "source": [
        "Raul Campos and Jan Sulter collectively have the most content on Netflix."
      ]
    },
    {
      "cell_type": "markdown",
      "metadata": {
        "id": "y4syxRvHkbMu"
      },
      "source": [
        " **TOP 10 ACTORS**"
      ]
    },
    {
      "cell_type": "code",
      "metadata": {
        "colab": {
          "base_uri": "https://localhost:8080/",
          "height": 441
        },
        "id": "sH9Gn4ZqnIcu",
        "outputId": "7849a351-aa01-42dc-83e4-04b03acb0d4b"
      },
      "source": [
        "#getting plot for top actors\n",
        "\n",
        "#splitting into list\n",
        "df['cast_name'] = df['cast'].apply(lambda x :  x.split(',')) \n",
        "cast_count = []\n",
        "\n",
        "#count movies for each actor\n",
        "for i in df['cast_name']: cast_count += i\n",
        "    \n",
        "cast_dict = dict((i, cast_count.count(i)) for i in cast_count)\n",
        "\n",
        "df_cast_count = pd.DataFrame(cast_dict.values(),cast_dict.keys()).reset_index().sort_values(0,ascending=False).rename(\n",
        "    columns = {'index' : 'cast_name', 0 : 'count'}).iloc[1:11]\n",
        "plt.figure(figsize=(15,5))\n",
        "sns.barplot(x='cast_name',y='count',data=df_cast_count,palette=\"Dark2_r\")\n",
        "plt.title(\"Top 10 ACTORS on Netflix\",size='16',fontweight=\"bold\")\n",
        "plt.xlabel('Cast Name')\n",
        "plt.xticks(rotation=90)\n",
        "plt.show()"
      ],
      "execution_count": null,
      "outputs": [
        {
          "output_type": "display_data",
          "data": {
            "image/png": "[encoded data removed]",
            "text/plain": [
              "<Figure size 1080x360 with 1 Axes>"
            ]
          },
          "metadata": {}
        }
      ]
    },
    {
      "cell_type": "markdown",
      "metadata": {
        "id": "KcFAd4WaOtQW"
      },
      "source": [
        "Anupam Kher Have the most number of films on Netflix."
      ]
    },
    {
      "cell_type": "markdown",
      "metadata": {
        "id": "ETlu8On6oJ26"
      },
      "source": [
        "**TOP 10 GENRES**"
      ]
    },
    {
      "cell_type": "code",
      "metadata": {
        "colab": {
          "base_uri": "https://localhost:8080/",
          "height": 478
        },
        "id": "5aUCPUWZsUqc",
        "outputId": "3e98bb0c-f413-41b3-f875-04359643c20c"
      },
      "source": [
        "#Top 10 genres plot\n",
        "\n",
        "#splitting into list\n",
        "df['listed_in'] = df['listed_in'].apply(lambda x :  x.split(',')) \n",
        "genre_count = []\n",
        "#count genre for each movie\n",
        "for i in df['listed_in']: \n",
        "  genre_count += i\n",
        "    \n",
        "genre_dict = dict((i, genre_count.count(i)) for i in genre_count)\n",
        "\n",
        "df_genre_count = pd.DataFrame(genre_dict.values(),genre_dict.keys()).reset_index().sort_values(0,ascending=False).rename(\n",
        "    columns = {'index' : 'genre', 0 : 'count'}).iloc[1:11]\n",
        "plt.figure(figsize=(15,5))\n",
        "sns.barplot(x='genre',y='count',data=df_genre_count,palette=\"Dark2_r\")\n",
        "plt.title(\"Top 10 GENRES on Netflix\",size='16',fontweight=\"bold\")\n",
        "plt.xticks(rotation=90)\n",
        "plt.show()"
      ],
      "execution_count": null,
      "outputs": [
        {
          "output_type": "display_data",
          "data": {
            "image/png": "[encoded data removed]",
            "text/plain": [
              "<Figure size 1080x360 with 1 Axes>"
            ]
          },
          "metadata": {}
        }
      ]
    },
    {
      "cell_type": "markdown",
      "metadata": {
        "id": "FwJgPj0BO9pe"
      },
      "source": [
        "Drama is the most popular genre followed by comedy."
      ]
    },
    {
      "cell_type": "code",
      "metadata": {
        "colab": {
          "base_uri": "https://localhost:8080/"
        },
        "id": "sNF5dvodw8zQ",
        "outputId": "fb99c92b-7eac-4636-9af9-d251b971514f"
      },
      "source": [
        "#Getting Movies and TV show records in seperate dataframes\n",
        "movies_df= df[df['type']=='Movie']\n",
        "tvshow_df= df[df['type']=='TV Show']\n",
        "movies_df.shape"
      ],
      "execution_count": null,
      "outputs": [
        {
          "output_type": "execute_result",
          "data": {
            "text/plain": [
              "(5377, 14)"
            ]
          },
          "metadata": {},
          "execution_count": 65
        }
      ]
    },
    {
      "cell_type": "code",
      "metadata": {
        "colab": {
          "base_uri": "https://localhost:8080/",
          "height": 487
        },
        "id": "_KzPC6v3xqHE",
        "outputId": "b197316a-b50b-4c38-c94f-87fe5d35c2cf"
      },
      "source": [
        "#Top 10 genres for movies\n",
        "genre_count = []\n",
        "for i in movies_df['listed_in']: \n",
        "  genre_count += i\n",
        "    \n",
        "genre_dict = dict((i, genre_count.count(i)) for i in genre_count)\n",
        "\n",
        "df_genre_count = pd.DataFrame(genre_dict.values(),genre_dict.keys()).reset_index().sort_values(0,ascending=False).rename(\n",
        "    columns = {'index' : 'genre', 0 : 'count'}).iloc[1:11]\n",
        "plt.figure(figsize=(15,5))\n",
        "sns.barplot(x='genre',y='count',data=df_genre_count,palette=\"Dark2_r\")\n",
        "plt.title(\"Top 10 GENRES on Netflix for movies\",size='16',fontweight=\"bold\")\n",
        "plt.xticks(rotation=90)\n",
        "plt.show()"
      ],
      "execution_count": null,
      "outputs": [
        {
          "output_type": "display_data",
          "data": {
            "image/png": "[encoded data removed]",
            "text/plain": [
              "<Figure size 1080x360 with 1 Axes>"
            ]
          },
          "metadata": {}
        }
      ]
    },
    {
      "cell_type": "markdown",
      "metadata": {
        "id": "YXmrMwdoPJsU"
      },
      "source": [
        "Drama is the most popular genre followed by comedy for movies."
      ]
    },
    {
      "cell_type": "code",
      "metadata": {
        "colab": {
          "base_uri": "https://localhost:8080/",
          "height": 478
        },
        "id": "4yo6F7AQ4Yvm",
        "outputId": "cb02f5a3-6fa2-4e49-d5c3-9baf96b30b7c"
      },
      "source": [
        "#Top 10 genres for TV shows\n",
        "genre_count = []\n",
        "for i in tvshow_df['listed_in']: \n",
        "  genre_count += i\n",
        "    \n",
        "genre_dict = dict((i, genre_count.count(i)) for i in genre_count)\n",
        "\n",
        "df_genre_count = pd.DataFrame(genre_dict.values(),genre_dict.keys()).reset_index().sort_values(0,ascending=False).rename(\n",
        "    columns = {'index' : 'genre', 0 : 'count'}).iloc[1:11]\n",
        "plt.figure(figsize=(15,5))\n",
        "sns.barplot(x='genre',y='count',data=df_genre_count,palette=\"Dark2_r\")\n",
        "plt.title(\"Top 10 GENRES on Netflix for TV shows\",size='16',fontweight=\"bold\")\n",
        "plt.xticks(rotation=90)\n",
        "plt.show()"
      ],
      "execution_count": null,
      "outputs": [
        {
          "output_type": "display_data",
          "data": {
            "image/png": "[encoded data removed]",
            "text/plain": [
              "<Figure size 1080x360 with 1 Axes>"
            ]
          },
          "metadata": {}
        }
      ]
    },
    {
      "cell_type": "markdown",
      "metadata": {
        "id": "zOpet8WRPPFv"
      },
      "source": [
        "Drama is the most popular genre followed by International TV shows for movies."
      ]
    },
    {
      "cell_type": "markdown",
      "metadata": {
        "id": "7LyQ6prt6amQ"
      },
      "source": [
        "**YEAR-MONTH WISE ANALYSIS**"
      ]
    },
    {
      "cell_type": "code",
      "metadata": {
        "id": "RTQ7-6fZyUmJ"
      },
      "source": [
        "#feature engineering\n",
        "#getting date in the right format and year/month extraction\n",
        "df ['date_added'] = pd.to_datetime(df['date_added'])\n",
        "df ['year_added'] = df['date_added'].dt.year\n",
        "df ['month_added'] = df['date_added'].dt.month"
      ],
      "execution_count": null,
      "outputs": []
    },
    {
      "cell_type": "code",
      "metadata": {
        "colab": {
          "base_uri": "https://localhost:8080/",
          "height": 412
        },
        "id": "eyExP3Ti1afK",
        "outputId": "a8f68bb0-a97f-439d-db6c-d7b38a5cf5d2"
      },
      "source": [
        "#plot for month wise content release\n",
        "sns.set(rc={'figure.figsize':(15,6)})\n",
        "sns.countplot(x='month_added',data=df,palette=\"cool\")\n",
        "\n",
        "plt.title(' Content release - month wise',size='16',fontweight=\"bold\")    \n",
        "plt.xlabel('Month')\n",
        "plt.ylabel('Count of content added')\n",
        "plt.show()"
      ],
      "execution_count": null,
      "outputs": [
        {
          "output_type": "display_data",
          "data": {
            "image/png": "[encoded data removed]",
            "text/plain": [
              "<Figure size 1080x432 with 1 Axes>"
            ]
          },
          "metadata": {}
        }
      ]
    },
    {
      "cell_type": "markdown",
      "metadata": {
        "id": "Ha3zVMH2PXPe"
      },
      "source": [
        "More of the content is released in holiday season - October, November, December and January."
      ]
    },
    {
      "cell_type": "code",
      "metadata": {
        "colab": {
          "base_uri": "https://localhost:8080/",
          "height": 412
        },
        "id": "kU4NnwmS11gJ",
        "outputId": "e6d1f73a-1d61-45bf-ef13-28617d31d607"
      },
      "source": [
        "#plot for year wise content release\n",
        "sns.set(rc={'figure.figsize':(14,6)})\n",
        "sns.countplot(x='year_added',data=df)\n",
        "\n",
        "plt.title('Releases per year ',size='15',fontweight=\"bold\")    \n",
        "plt.xlabel('Year')\n",
        "plt.ylabel('Count of content added')\n",
        "plt.show()"
      ],
      "execution_count": null,
      "outputs": [
        {
          "output_type": "display_data",
          "data": {
            "image/png": "[encoded data removed]",
            "text/plain": [
              "<Figure size 1008x432 with 1 Axes>"
            ]
          },
          "metadata": {}
        }
      ]
    },
    {
      "cell_type": "markdown",
      "metadata": {
        "id": "IF8_tMT-Pngf"
      },
      "source": [
        "The number of release have significantly increased after 2015 and have dropped in 2021 becase of Covid 19."
      ]
    },
    {
      "cell_type": "markdown",
      "metadata": {
        "id": "8Q_Cr5TG4R3_"
      },
      "source": [
        "# **HYPOTHESIS TESTING**"
      ]
    },
    {
      "cell_type": "markdown",
      "metadata": {
        "id": "ui2z2wYEuOVD"
      },
      "source": [
        "**Given:** In 2018, they released an interesting report which shows that the number of TV shows on Netflix has nearly tripled since 2010. The streaming service’s number of movies has decreased by more than 2,000 titles since 2010, while its number of TV shows has nearly tripled."
      ]
    },
    {
      "cell_type": "markdown",
      "metadata": {
        "id": "QakCYgVOtqno"
      },
      "source": [
        " **HYPOTHESIS** - Number of TV shows on Netflix have tripled and number of movies have reduced by 2000 between 2010 and 2018."
      ]
    },
    {
      "cell_type": "code",
      "metadata": {
        "colab": {
          "base_uri": "https://localhost:8080/",
          "height": 537
        },
        "id": "Y0kKtMVByjC-",
        "outputId": "afbc26b4-352a-4d3d-efa7-293cff27a964"
      },
      "source": [
        "#Visualize the growth of netflix industry over the years\n",
        "\n",
        "year_data = df['release_year'].value_counts().sort_index().loc[:2021]\n",
        "type_data = df.groupby('release_year')['type'].value_counts().unstack().loc[:2021]\n",
        "\n",
        "\n",
        "plt.figure(figsize=(24,7))\n",
        "\n",
        "sns.lineplot(x=year_data.index,y=year_data, color = 'red', linewidth=3, label='Total')\n",
        "sns.lineplot(type_data.index, type_data['Movie'], color='blue', linewidth=3, label='Movie')\n",
        "sns.lineplot(type_data.index, type_data['TV Show'], color='green', linewidth=3, label='TV Show')\n",
        "\n",
        "plt.xticks(year_data.index.unique())\n",
        "plt.title(\"Trend of year-wise content release\", weight='bold', fontsize=20)\n",
        "plt.xticks(rotation = 90)\n",
        "plt.ylabel('Counts')\n",
        "plt.legend(loc='upper left')"
      ],
      "execution_count": null,
      "outputs": [
        {
          "output_type": "stream",
          "name": "stderr",
          "text": [
            "/usr/local/lib/python3.7/dist-packages/seaborn/_decorators.py:43: FutureWarning: Pass the following variables as keyword args: x, y. From version 0.12, the only valid positional argument will be `data`, and passing other arguments without an explicit keyword will result in an error or misinterpretation.\n",
            "  FutureWarning\n",
            "/usr/local/lib/python3.7/dist-packages/seaborn/_decorators.py:43: FutureWarning: Pass the following variables as keyword args: x, y. From version 0.12, the only valid positional argument will be `data`, and passing other arguments without an explicit keyword will result in an error or misinterpretation.\n",
            "  FutureWarning\n"
          ]
        },
        {
          "output_type": "execute_result",
          "data": {
            "text/plain": [
              "<matplotlib.legend.Legend at 0x7ffac44b6dd0>"
            ]
          },
          "metadata": {},
          "execution_count": 71
        },
        {
          "output_type": "display_data",
          "data": {
            "image/png": "[encoded data removed]",
            "text/plain": [
              "<Figure size 1728x504 with 1 Axes>"
            ]
          },
          "metadata": {}
        }
      ]
    },
    {
      "cell_type": "code",
      "metadata": {
        "id": "Zx0WsuU9wMqB"
      },
      "source": [
        "#Checking the trend between 2010 and 2018\n",
        "df_2010 = df[df['year_added']>=2010]\n",
        "df_2k10_18 = df[df['year_added']<=2018]"
      ],
      "execution_count": null,
      "outputs": []
    },
    {
      "cell_type": "code",
      "metadata": {
        "colab": {
          "base_uri": "https://localhost:8080/",
          "height": 482
        },
        "id": "G3Zdk45q2LV9",
        "outputId": "f77fed06-6744-46c5-8f5d-9f3c426d915d"
      },
      "source": [
        "#overall year_added analysis\n",
        "plt.figure(figsize=(15,6))\n",
        "sns.countplot(df_2k10_18[\"year_added\"],hue=df_2k10_18[\"type\"])\n",
        "plt.xticks(rotation = 90)\n",
        "plt.xlabel('Year')\n",
        "plt.ylabel('Count of content added')"
      ],
      "execution_count": null,
      "outputs": [
        {
          "output_type": "stream",
          "name": "stderr",
          "text": [
            "/usr/local/lib/python3.7/dist-packages/seaborn/_decorators.py:43: FutureWarning: Pass the following variable as a keyword arg: x. From version 0.12, the only valid positional argument will be `data`, and passing other arguments without an explicit keyword will result in an error or misinterpretation.\n",
            "  FutureWarning\n"
          ]
        },
        {
          "output_type": "execute_result",
          "data": {
            "text/plain": [
              "Text(0, 0.5, 'Count of content added')"
            ]
          },
          "metadata": {},
          "execution_count": 73
        },
        {
          "output_type": "display_data",
          "data": {
            "image/png": "[encoded data removed]",
            "text/plain": [
              "<Figure size 1080x432 with 1 Axes>"
            ]
          },
          "metadata": {}
        }
      ]
    },
    {
      "cell_type": "markdown",
      "metadata": {
        "id": "OB-rqj21d1AX"
      },
      "source": [
        "**RESULT:** Irrespective of the release years, There is no decline in the number of movies.Also number if movies added has always been more than the number of tv shows added. So with this information, we hereby reject our Hypothesis."
      ]
    },
    {
      "cell_type": "markdown",
      "metadata": {
        "id": "tdm4rAeTRoc9"
      },
      "source": [
        "# **DATA PREPROCESSING**\n",
        "\n",
        "\n",
        "\n"
      ]
    },
    {
      "cell_type": "markdown",
      "metadata": {
        "id": "6ENftWwVQih2"
      },
      "source": [
        "We have made some changes in data just for EDA so we will start our clustering analysis with fresh data and do  the manipulations  again."
      ]
    },
    {
      "cell_type": "code",
      "metadata": {
        "id": "1Y_4H9-9cnMl"
      },
      "source": [
        "#reading the data again\n",
        "df = pd.read_csv('/content/drive/MyDrive/AlmaBetter/CAPSTONE PROJECTS/NETFLIX MOVIES AND TV SHOWS CLUSTERING - SHASHANK BHATIA/NETFLIX MOVIES AND TV SHOWS CLUSTERING.csv')"
      ],
      "execution_count": null,
      "outputs": []
    },
    {
      "cell_type": "code",
      "metadata": {
        "id": "cSfP-f80lQPA"
      },
      "source": [
        "# Replacing the values where the director is null with appropriate strings\n",
        "df[\"cast\"] = df[\"cast\"].fillna(\"\")\n",
        "df[\"country\"] = df[\"country\"].fillna(\"\")\n",
        "df[\"date_added\"] = df[\"date_added\"].fillna(\"\")\n",
        "df[\"rating\"] = df[\"rating\"].fillna(\"\")\n",
        "df[\"director\"] = df[\"director\"].fillna(\"\")"
      ],
      "execution_count": null,
      "outputs": []
    },
    {
      "cell_type": "code",
      "metadata": {
        "id": "6QXG4XjqiqD8"
      },
      "source": [
        "# Change cast, country, and listed_in columns from type str to lists\n",
        "df.cast = df.cast.str.split(',').tolist()\n",
        "df.country = df.country.str.split(',').tolist()\n",
        "df.listed_in = df.listed_in.str.split(',').tolist()"
      ],
      "execution_count": null,
      "outputs": []
    },
    {
      "cell_type": "code",
      "metadata": {
        "colab": {
          "base_uri": "https://localhost:8080/"
        },
        "id": "if57jgVCk57p",
        "outputId": "a6facde1-f9de-477f-fa47-1598c73ce5dd"
      },
      "source": [
        "# Array of all cast members, countries, ratings, and genres\n",
        "\n",
        "all_cast = df['cast'].explode().unique()\n",
        "all_countries = df['country'].explode().unique()\n",
        "all_ratings = df['rating'].unique()\n",
        "all_genres = df['listed_in'].explode().unique()\n",
        "\n",
        "len(all_cast), len(all_countries), len(all_ratings),len(all_genres)"
      ],
      "execution_count": null,
      "outputs": [
        {
          "output_type": "execute_result",
          "data": {
            "text/plain": [
              "(35373, 188, 15, 73)"
            ]
          },
          "metadata": {},
          "execution_count": 132
        }
      ]
    },
    {
      "cell_type": "markdown",
      "metadata": {
        "id": "H09OJnEFQzMW"
      },
      "source": [
        "Since number of Unique actors are more than our number of rows, it's not going to help much for our analysis, hence we will not use this feature.\n",
        "Director has 30% null values and will not be used by us."
      ]
    },
    {
      "cell_type": "code",
      "metadata": {
        "id": "bvP6mQuKpMop"
      },
      "source": [
        "#combining the required features into one column\n",
        "df['combined features'] = df['listed_in'].astype(str) + \" \" + df['description'].astype(str) + \" \" + df['type'].astype(str) + \" \"  + df['rating'].astype(str) + \" \"  + df['country'].astype(str)"
      ],
      "execution_count": null,
      "outputs": []
    },
    {
      "cell_type": "code",
      "metadata": {
        "id": "JsIMmhgCr2Zq"
      },
      "source": [
        "#data cleaning\n",
        "import re\n",
        "#removing URLs\n",
        "df['combined features'] = df['combined features'].apply(lambda x: re.sub('https?://[A-Za-z0-9./]+',' ', str(x)))\n",
        "#REMOVING PUNCTUATIONS/NUMBERS/SPECIAL CHARACTERS\n",
        "df['combined features'] = df['combined features'].apply(lambda x: re.sub('[^a-zA-Z]',' ', str(x)))\n",
        "#lower case\n",
        "df['combined features'] = df['combined features'].apply(lambda x: x.lower())"
      ],
      "execution_count": null,
      "outputs": []
    },
    {
      "cell_type": "markdown",
      "metadata": {
        "id": "EGv3mZGFt-Aq"
      },
      "source": [
        "**REMOVE STOPWORDS**"
      ]
    },
    {
      "cell_type": "code",
      "metadata": {
        "id": "Bn47pz0y3yDI"
      },
      "source": [
        "#set stopwords\n",
        "stop = set(stopwords.words('english'))"
      ],
      "execution_count": null,
      "outputs": []
    },
    {
      "cell_type": "code",
      "metadata": {
        "id": "IbpHD71E82BU"
      },
      "source": [
        "#function to remove stopwords and tokenize\n",
        "def remove_stopwords(text):\n",
        "    text = [word for word in text.split() if word.lower() not in stop]\n",
        "    return (text)"
      ],
      "execution_count": null,
      "outputs": []
    },
    {
      "cell_type": "code",
      "metadata": {
        "id": "44zlDjl785t1"
      },
      "source": [
        "#removing stopwords\n",
        "df['combined features'] = df['combined features'].apply(lambda x: remove_stopwords(x))"
      ],
      "execution_count": null,
      "outputs": []
    },
    {
      "cell_type": "markdown",
      "metadata": {
        "id": "ch1NAitiCEva"
      },
      "source": [
        "**REMOVING SHORT WORDS**"
      ]
    },
    {
      "cell_type": "code",
      "metadata": {
        "id": "jSW6Z0qGCJnB"
      },
      "source": [
        "#Removing words with than 2 letters\n",
        "df['combined features'] = df['combined features'].apply(lambda x: (w for w in x if len(w)>2))"
      ],
      "execution_count": null,
      "outputs": []
    },
    {
      "cell_type": "markdown",
      "metadata": {
        "id": "LYUpR8yLAzqy"
      },
      "source": [
        "**STEMMING**"
      ]
    },
    {
      "cell_type": "code",
      "metadata": {
        "id": "poRebq0j9khO"
      },
      "source": [
        "#import libraries\n",
        "from nltk.stem.porter import *\n",
        "stemmer = PorterStemmer()"
      ],
      "execution_count": null,
      "outputs": []
    },
    {
      "cell_type": "code",
      "metadata": {
        "id": "sT37deyvChmx"
      },
      "source": [
        "#function for stemming\n",
        "def stemming(text):    \n",
        "    text = [stemmer.stem(word) for word in text]\n",
        "    return (\" \".join(text))"
      ],
      "execution_count": null,
      "outputs": []
    },
    {
      "cell_type": "code",
      "metadata": {
        "id": "dz56E9wLDSqr"
      },
      "source": [
        "#stemming\n",
        "df['combined features'] = df['combined features'].apply(lambda x: stemming(x))"
      ],
      "execution_count": null,
      "outputs": []
    },
    {
      "cell_type": "markdown",
      "metadata": {
        "id": "Qqcs7jB5_r3N"
      },
      "source": [
        "**VECTORIZATION**"
      ]
    },
    {
      "cell_type": "code",
      "metadata": {
        "colab": {
          "base_uri": "https://localhost:8080/",
          "height": 270
        },
        "id": "D16YAYHS7AyM",
        "outputId": "544be337-bf5d-4ce7-ac08-ccf5240be710"
      },
      "source": [
        "from sklearn.feature_extraction.text import TfidfVectorizer\n",
        "vectorizer = TfidfVectorizer(sublinear_tf= True, min_df=10, norm='l2', ngram_range=(1, 2), stop_words='english')\n",
        "x = vectorizer.fit_transform(df[\"combined features\"])\n",
        "\n",
        "pd.DataFrame(x.toarray(), columns=vectorizer.get_feature_names()).head()"
      ],
      "execution_count": null,
      "outputs": [
        {
          "output_type": "execute_result",
          "data": {
            "text/html": [
              "<div>\n",
              "<style scoped>\n",
              "    .dataframe tbody tr th:only-of-type {\n",
              "        vertical-align: middle;\n",
              "    }\n",
              "\n",
              "    .dataframe tbody tr th {\n",
              "        vertical-align: top;\n",
              "    }\n",
              "\n",
              "    .dataframe thead th {\n",
              "        text-align: right;\n",
              "    }\n",
              "</style>\n",
              "<table border=\"1\" class=\"dataframe\">\n",
              "  <thead>\n",
              "    <tr style=\"text-align: right;\">\n",
              "      <th></th>\n",
              "      <th>000</th>\n",
              "      <th>10</th>\n",
              "      <th>10 year</th>\n",
              "      <th>100</th>\n",
              "      <th>11</th>\n",
              "      <th>11 year</th>\n",
              "      <th>13</th>\n",
              "      <th>13 unit</th>\n",
              "      <th>14</th>\n",
              "      <th>14 argentina</th>\n",
              "      <th>14 australia</th>\n",
              "      <th>14 brazil</th>\n",
              "      <th>14 canada</th>\n",
              "      <th>14 china</th>\n",
              "      <th>14 colombia</th>\n",
              "      <th>14 egypt</th>\n",
              "      <th>14 france</th>\n",
              "      <th>14 germany</th>\n",
              "      <th>14 hong</th>\n",
              "      <th>14 india</th>\n",
              "      <th>14 indonesia</th>\n",
              "      <th>14 japan</th>\n",
              "      <th>14 lebanon</th>\n",
              "      <th>14 mexico</th>\n",
              "      <th>14 nigeria</th>\n",
              "      <th>14 pakistan</th>\n",
              "      <th>14 philippines</th>\n",
              "      <th>14 singapore</th>\n",
              "      <th>14 south</th>\n",
              "      <th>14 spain</th>\n",
              "      <th>14 taiwan</th>\n",
              "      <th>14 thailand</th>\n",
              "      <th>14 turkey</th>\n",
              "      <th>14 unit</th>\n",
              "      <th>15</th>\n",
              "      <th>17</th>\n",
              "      <th>1950</th>\n",
              "      <th>1960</th>\n",
              "      <th>1970</th>\n",
              "      <th>1970s</th>\n",
              "      <th>...</th>\n",
              "      <th>world</th>\n",
              "      <th>world cup</th>\n",
              "      <th>world movi</th>\n",
              "      <th>world tv</th>\n",
              "      <th>world war</th>\n",
              "      <th>worst</th>\n",
              "      <th>wreak</th>\n",
              "      <th>wreak havoc</th>\n",
              "      <th>wrestl</th>\n",
              "      <th>write</th>\n",
              "      <th>writer</th>\n",
              "      <th>wrong</th>\n",
              "      <th>y7</th>\n",
              "      <th>y7 canada</th>\n",
              "      <th>y7 india</th>\n",
              "      <th>y7 japan</th>\n",
              "      <th>y7 unit</th>\n",
              "      <th>year</th>\n",
              "      <th>year ago</th>\n",
              "      <th>year later</th>\n",
              "      <th>year old</th>\n",
              "      <th>yearn</th>\n",
              "      <th>years</th>\n",
              "      <th>york</th>\n",
              "      <th>york citi</th>\n",
              "      <th>york city</th>\n",
              "      <th>young</th>\n",
              "      <th>young boy</th>\n",
              "      <th>young coupl</th>\n",
              "      <th>young girl</th>\n",
              "      <th>young man</th>\n",
              "      <th>young men</th>\n",
              "      <th>young son</th>\n",
              "      <th>young woman</th>\n",
              "      <th>young women</th>\n",
              "      <th>younger</th>\n",
              "      <th>youth</th>\n",
              "      <th>zani</th>\n",
              "      <th>zealand</th>\n",
              "      <th>zombi</th>\n",
              "    </tr>\n",
              "  </thead>\n",
              "  <tbody>\n",
              "    <tr>\n",
              "      <th>0</th>\n",
              "      <td>0.0</td>\n",
              "      <td>0.0</td>\n",
              "      <td>0.0</td>\n",
              "      <td>0.0</td>\n",
              "      <td>0.0</td>\n",
              "      <td>0.0</td>\n",
              "      <td>0.000000</td>\n",
              "      <td>0.000000</td>\n",
              "      <td>0.0</td>\n",
              "      <td>0.0</td>\n",
              "      <td>0.0</td>\n",
              "      <td>0.0</td>\n",
              "      <td>0.0</td>\n",
              "      <td>0.0</td>\n",
              "      <td>0.0</td>\n",
              "      <td>0.0</td>\n",
              "      <td>0.0</td>\n",
              "      <td>0.0</td>\n",
              "      <td>0.0</td>\n",
              "      <td>0.0</td>\n",
              "      <td>0.0</td>\n",
              "      <td>0.0</td>\n",
              "      <td>0.0</td>\n",
              "      <td>0.0</td>\n",
              "      <td>0.0</td>\n",
              "      <td>0.0</td>\n",
              "      <td>0.0</td>\n",
              "      <td>0.0</td>\n",
              "      <td>0.0</td>\n",
              "      <td>0.0</td>\n",
              "      <td>0.0</td>\n",
              "      <td>0.0</td>\n",
              "      <td>0.0</td>\n",
              "      <td>0.0</td>\n",
              "      <td>0.0</td>\n",
              "      <td>0.0</td>\n",
              "      <td>0.0</td>\n",
              "      <td>0.0</td>\n",
              "      <td>0.0</td>\n",
              "      <td>0.0</td>\n",
              "      <td>...</td>\n",
              "      <td>0.000000</td>\n",
              "      <td>0.0</td>\n",
              "      <td>0.0</td>\n",
              "      <td>0.0</td>\n",
              "      <td>0.0</td>\n",
              "      <td>0.0</td>\n",
              "      <td>0.0</td>\n",
              "      <td>0.0</td>\n",
              "      <td>0.0</td>\n",
              "      <td>0.0</td>\n",
              "      <td>0.0</td>\n",
              "      <td>0.0</td>\n",
              "      <td>0.0</td>\n",
              "      <td>0.0</td>\n",
              "      <td>0.0</td>\n",
              "      <td>0.0</td>\n",
              "      <td>0.0</td>\n",
              "      <td>0.0</td>\n",
              "      <td>0.0</td>\n",
              "      <td>0.0</td>\n",
              "      <td>0.0</td>\n",
              "      <td>0.0</td>\n",
              "      <td>0.0</td>\n",
              "      <td>0.0</td>\n",
              "      <td>0.0</td>\n",
              "      <td>0.0</td>\n",
              "      <td>0.0</td>\n",
              "      <td>0.0</td>\n",
              "      <td>0.0</td>\n",
              "      <td>0.0</td>\n",
              "      <td>0.0</td>\n",
              "      <td>0.0</td>\n",
              "      <td>0.0</td>\n",
              "      <td>0.0</td>\n",
              "      <td>0.0</td>\n",
              "      <td>0.0</td>\n",
              "      <td>0.0</td>\n",
              "      <td>0.0</td>\n",
              "      <td>0.0</td>\n",
              "      <td>0.0</td>\n",
              "    </tr>\n",
              "    <tr>\n",
              "      <th>1</th>\n",
              "      <td>0.0</td>\n",
              "      <td>0.0</td>\n",
              "      <td>0.0</td>\n",
              "      <td>0.0</td>\n",
              "      <td>0.0</td>\n",
              "      <td>0.0</td>\n",
              "      <td>0.000000</td>\n",
              "      <td>0.000000</td>\n",
              "      <td>0.0</td>\n",
              "      <td>0.0</td>\n",
              "      <td>0.0</td>\n",
              "      <td>0.0</td>\n",
              "      <td>0.0</td>\n",
              "      <td>0.0</td>\n",
              "      <td>0.0</td>\n",
              "      <td>0.0</td>\n",
              "      <td>0.0</td>\n",
              "      <td>0.0</td>\n",
              "      <td>0.0</td>\n",
              "      <td>0.0</td>\n",
              "      <td>0.0</td>\n",
              "      <td>0.0</td>\n",
              "      <td>0.0</td>\n",
              "      <td>0.0</td>\n",
              "      <td>0.0</td>\n",
              "      <td>0.0</td>\n",
              "      <td>0.0</td>\n",
              "      <td>0.0</td>\n",
              "      <td>0.0</td>\n",
              "      <td>0.0</td>\n",
              "      <td>0.0</td>\n",
              "      <td>0.0</td>\n",
              "      <td>0.0</td>\n",
              "      <td>0.0</td>\n",
              "      <td>0.0</td>\n",
              "      <td>0.0</td>\n",
              "      <td>0.0</td>\n",
              "      <td>0.0</td>\n",
              "      <td>0.0</td>\n",
              "      <td>0.0</td>\n",
              "      <td>...</td>\n",
              "      <td>0.000000</td>\n",
              "      <td>0.0</td>\n",
              "      <td>0.0</td>\n",
              "      <td>0.0</td>\n",
              "      <td>0.0</td>\n",
              "      <td>0.0</td>\n",
              "      <td>0.0</td>\n",
              "      <td>0.0</td>\n",
              "      <td>0.0</td>\n",
              "      <td>0.0</td>\n",
              "      <td>0.0</td>\n",
              "      <td>0.0</td>\n",
              "      <td>0.0</td>\n",
              "      <td>0.0</td>\n",
              "      <td>0.0</td>\n",
              "      <td>0.0</td>\n",
              "      <td>0.0</td>\n",
              "      <td>0.0</td>\n",
              "      <td>0.0</td>\n",
              "      <td>0.0</td>\n",
              "      <td>0.0</td>\n",
              "      <td>0.0</td>\n",
              "      <td>0.0</td>\n",
              "      <td>0.0</td>\n",
              "      <td>0.0</td>\n",
              "      <td>0.0</td>\n",
              "      <td>0.0</td>\n",
              "      <td>0.0</td>\n",
              "      <td>0.0</td>\n",
              "      <td>0.0</td>\n",
              "      <td>0.0</td>\n",
              "      <td>0.0</td>\n",
              "      <td>0.0</td>\n",
              "      <td>0.0</td>\n",
              "      <td>0.0</td>\n",
              "      <td>0.0</td>\n",
              "      <td>0.0</td>\n",
              "      <td>0.0</td>\n",
              "      <td>0.0</td>\n",
              "      <td>0.0</td>\n",
              "    </tr>\n",
              "    <tr>\n",
              "      <th>2</th>\n",
              "      <td>0.0</td>\n",
              "      <td>0.0</td>\n",
              "      <td>0.0</td>\n",
              "      <td>0.0</td>\n",
              "      <td>0.0</td>\n",
              "      <td>0.0</td>\n",
              "      <td>0.000000</td>\n",
              "      <td>0.000000</td>\n",
              "      <td>0.0</td>\n",
              "      <td>0.0</td>\n",
              "      <td>0.0</td>\n",
              "      <td>0.0</td>\n",
              "      <td>0.0</td>\n",
              "      <td>0.0</td>\n",
              "      <td>0.0</td>\n",
              "      <td>0.0</td>\n",
              "      <td>0.0</td>\n",
              "      <td>0.0</td>\n",
              "      <td>0.0</td>\n",
              "      <td>0.0</td>\n",
              "      <td>0.0</td>\n",
              "      <td>0.0</td>\n",
              "      <td>0.0</td>\n",
              "      <td>0.0</td>\n",
              "      <td>0.0</td>\n",
              "      <td>0.0</td>\n",
              "      <td>0.0</td>\n",
              "      <td>0.0</td>\n",
              "      <td>0.0</td>\n",
              "      <td>0.0</td>\n",
              "      <td>0.0</td>\n",
              "      <td>0.0</td>\n",
              "      <td>0.0</td>\n",
              "      <td>0.0</td>\n",
              "      <td>0.0</td>\n",
              "      <td>0.0</td>\n",
              "      <td>0.0</td>\n",
              "      <td>0.0</td>\n",
              "      <td>0.0</td>\n",
              "      <td>0.0</td>\n",
              "      <td>...</td>\n",
              "      <td>0.000000</td>\n",
              "      <td>0.0</td>\n",
              "      <td>0.0</td>\n",
              "      <td>0.0</td>\n",
              "      <td>0.0</td>\n",
              "      <td>0.0</td>\n",
              "      <td>0.0</td>\n",
              "      <td>0.0</td>\n",
              "      <td>0.0</td>\n",
              "      <td>0.0</td>\n",
              "      <td>0.0</td>\n",
              "      <td>0.0</td>\n",
              "      <td>0.0</td>\n",
              "      <td>0.0</td>\n",
              "      <td>0.0</td>\n",
              "      <td>0.0</td>\n",
              "      <td>0.0</td>\n",
              "      <td>0.0</td>\n",
              "      <td>0.0</td>\n",
              "      <td>0.0</td>\n",
              "      <td>0.0</td>\n",
              "      <td>0.0</td>\n",
              "      <td>0.0</td>\n",
              "      <td>0.0</td>\n",
              "      <td>0.0</td>\n",
              "      <td>0.0</td>\n",
              "      <td>0.0</td>\n",
              "      <td>0.0</td>\n",
              "      <td>0.0</td>\n",
              "      <td>0.0</td>\n",
              "      <td>0.0</td>\n",
              "      <td>0.0</td>\n",
              "      <td>0.0</td>\n",
              "      <td>0.0</td>\n",
              "      <td>0.0</td>\n",
              "      <td>0.0</td>\n",
              "      <td>0.0</td>\n",
              "      <td>0.0</td>\n",
              "      <td>0.0</td>\n",
              "      <td>0.0</td>\n",
              "    </tr>\n",
              "    <tr>\n",
              "      <th>3</th>\n",
              "      <td>0.0</td>\n",
              "      <td>0.0</td>\n",
              "      <td>0.0</td>\n",
              "      <td>0.0</td>\n",
              "      <td>0.0</td>\n",
              "      <td>0.0</td>\n",
              "      <td>0.159801</td>\n",
              "      <td>0.167473</td>\n",
              "      <td>0.0</td>\n",
              "      <td>0.0</td>\n",
              "      <td>0.0</td>\n",
              "      <td>0.0</td>\n",
              "      <td>0.0</td>\n",
              "      <td>0.0</td>\n",
              "      <td>0.0</td>\n",
              "      <td>0.0</td>\n",
              "      <td>0.0</td>\n",
              "      <td>0.0</td>\n",
              "      <td>0.0</td>\n",
              "      <td>0.0</td>\n",
              "      <td>0.0</td>\n",
              "      <td>0.0</td>\n",
              "      <td>0.0</td>\n",
              "      <td>0.0</td>\n",
              "      <td>0.0</td>\n",
              "      <td>0.0</td>\n",
              "      <td>0.0</td>\n",
              "      <td>0.0</td>\n",
              "      <td>0.0</td>\n",
              "      <td>0.0</td>\n",
              "      <td>0.0</td>\n",
              "      <td>0.0</td>\n",
              "      <td>0.0</td>\n",
              "      <td>0.0</td>\n",
              "      <td>0.0</td>\n",
              "      <td>0.0</td>\n",
              "      <td>0.0</td>\n",
              "      <td>0.0</td>\n",
              "      <td>0.0</td>\n",
              "      <td>0.0</td>\n",
              "      <td>...</td>\n",
              "      <td>0.149656</td>\n",
              "      <td>0.0</td>\n",
              "      <td>0.0</td>\n",
              "      <td>0.0</td>\n",
              "      <td>0.0</td>\n",
              "      <td>0.0</td>\n",
              "      <td>0.0</td>\n",
              "      <td>0.0</td>\n",
              "      <td>0.0</td>\n",
              "      <td>0.0</td>\n",
              "      <td>0.0</td>\n",
              "      <td>0.0</td>\n",
              "      <td>0.0</td>\n",
              "      <td>0.0</td>\n",
              "      <td>0.0</td>\n",
              "      <td>0.0</td>\n",
              "      <td>0.0</td>\n",
              "      <td>0.0</td>\n",
              "      <td>0.0</td>\n",
              "      <td>0.0</td>\n",
              "      <td>0.0</td>\n",
              "      <td>0.0</td>\n",
              "      <td>0.0</td>\n",
              "      <td>0.0</td>\n",
              "      <td>0.0</td>\n",
              "      <td>0.0</td>\n",
              "      <td>0.0</td>\n",
              "      <td>0.0</td>\n",
              "      <td>0.0</td>\n",
              "      <td>0.0</td>\n",
              "      <td>0.0</td>\n",
              "      <td>0.0</td>\n",
              "      <td>0.0</td>\n",
              "      <td>0.0</td>\n",
              "      <td>0.0</td>\n",
              "      <td>0.0</td>\n",
              "      <td>0.0</td>\n",
              "      <td>0.0</td>\n",
              "      <td>0.0</td>\n",
              "      <td>0.0</td>\n",
              "    </tr>\n",
              "    <tr>\n",
              "      <th>4</th>\n",
              "      <td>0.0</td>\n",
              "      <td>0.0</td>\n",
              "      <td>0.0</td>\n",
              "      <td>0.0</td>\n",
              "      <td>0.0</td>\n",
              "      <td>0.0</td>\n",
              "      <td>0.175430</td>\n",
              "      <td>0.183853</td>\n",
              "      <td>0.0</td>\n",
              "      <td>0.0</td>\n",
              "      <td>0.0</td>\n",
              "      <td>0.0</td>\n",
              "      <td>0.0</td>\n",
              "      <td>0.0</td>\n",
              "      <td>0.0</td>\n",
              "      <td>0.0</td>\n",
              "      <td>0.0</td>\n",
              "      <td>0.0</td>\n",
              "      <td>0.0</td>\n",
              "      <td>0.0</td>\n",
              "      <td>0.0</td>\n",
              "      <td>0.0</td>\n",
              "      <td>0.0</td>\n",
              "      <td>0.0</td>\n",
              "      <td>0.0</td>\n",
              "      <td>0.0</td>\n",
              "      <td>0.0</td>\n",
              "      <td>0.0</td>\n",
              "      <td>0.0</td>\n",
              "      <td>0.0</td>\n",
              "      <td>0.0</td>\n",
              "      <td>0.0</td>\n",
              "      <td>0.0</td>\n",
              "      <td>0.0</td>\n",
              "      <td>0.0</td>\n",
              "      <td>0.0</td>\n",
              "      <td>0.0</td>\n",
              "      <td>0.0</td>\n",
              "      <td>0.0</td>\n",
              "      <td>0.0</td>\n",
              "      <td>...</td>\n",
              "      <td>0.000000</td>\n",
              "      <td>0.0</td>\n",
              "      <td>0.0</td>\n",
              "      <td>0.0</td>\n",
              "      <td>0.0</td>\n",
              "      <td>0.0</td>\n",
              "      <td>0.0</td>\n",
              "      <td>0.0</td>\n",
              "      <td>0.0</td>\n",
              "      <td>0.0</td>\n",
              "      <td>0.0</td>\n",
              "      <td>0.0</td>\n",
              "      <td>0.0</td>\n",
              "      <td>0.0</td>\n",
              "      <td>0.0</td>\n",
              "      <td>0.0</td>\n",
              "      <td>0.0</td>\n",
              "      <td>0.0</td>\n",
              "      <td>0.0</td>\n",
              "      <td>0.0</td>\n",
              "      <td>0.0</td>\n",
              "      <td>0.0</td>\n",
              "      <td>0.0</td>\n",
              "      <td>0.0</td>\n",
              "      <td>0.0</td>\n",
              "      <td>0.0</td>\n",
              "      <td>0.0</td>\n",
              "      <td>0.0</td>\n",
              "      <td>0.0</td>\n",
              "      <td>0.0</td>\n",
              "      <td>0.0</td>\n",
              "      <td>0.0</td>\n",
              "      <td>0.0</td>\n",
              "      <td>0.0</td>\n",
              "      <td>0.0</td>\n",
              "      <td>0.0</td>\n",
              "      <td>0.0</td>\n",
              "      <td>0.0</td>\n",
              "      <td>0.0</td>\n",
              "      <td>0.0</td>\n",
              "    </tr>\n",
              "  </tbody>\n",
              "</table>\n",
              "<p>5 rows × 2591 columns</p>\n",
              "</div>"
            ],
            "text/plain": [
              "   000   10  10 year  100   11  ...  younger  youth  zani  zealand  zombi\n",
              "0  0.0  0.0      0.0  0.0  0.0  ...      0.0    0.0   0.0      0.0    0.0\n",
              "1  0.0  0.0      0.0  0.0  0.0  ...      0.0    0.0   0.0      0.0    0.0\n",
              "2  0.0  0.0      0.0  0.0  0.0  ...      0.0    0.0   0.0      0.0    0.0\n",
              "3  0.0  0.0      0.0  0.0  0.0  ...      0.0    0.0   0.0      0.0    0.0\n",
              "4  0.0  0.0      0.0  0.0  0.0  ...      0.0    0.0   0.0      0.0    0.0\n",
              "\n",
              "[5 rows x 2591 columns]"
            ]
          },
          "metadata": {},
          "execution_count": 161
        }
      ]
    },
    {
      "cell_type": "markdown",
      "metadata": {
        "id": "uQok0KUSfdjl"
      },
      "source": [
        "# **K-MEANS CLUSTERING**"
      ]
    },
    {
      "cell_type": "code",
      "metadata": {
        "id": "oV9GdhmkfgxF"
      },
      "source": [
        "# importng libraries\n",
        "from sklearn.cluster import KMeans\n",
        "from yellowbrick.cluster import KElbowVisualizer\n",
        "from sklearn.metrics import silhouette_score"
      ],
      "execution_count": null,
      "outputs": []
    },
    {
      "cell_type": "code",
      "metadata": {
        "id": "4rKhrYzYTQlS"
      },
      "source": [
        "#hperparameter tuning\n",
        "clusters=[i for i in range(2,103,10)]\n",
        "silhouette_avg = []\n",
        "Sum_of_squared_distances = []"
      ],
      "execution_count": null,
      "outputs": []
    },
    {
      "cell_type": "code",
      "metadata": {
        "id": "Gs81ZnpcnWP7"
      },
      "source": [
        "# running kmeans\n",
        "for num_clusters in clusters:\n",
        " \n",
        " kmeans = KMeans(n_clusters=num_clusters, init='k-means++', n_init=10)\n",
        " #fitting model\n",
        " kmeans.fit(x)\n",
        " cluster_labels = kmeans.labels_\n",
        " silhouette_avg.append(silhouette_score(x, cluster_labels))\n",
        " Sum_of_squared_distances.append(kmeans.inertia_)\n",
        " "
      ],
      "execution_count": null,
      "outputs": []
    },
    {
      "cell_type": "code",
      "metadata": {
        "colab": {
          "base_uri": "https://localhost:8080/",
          "height": 512
        },
        "id": "sQsISokNoI4K",
        "outputId": "dcb48516-e845-41d5-8bd5-96259c51268a"
      },
      "source": [
        " # silhouette score\n",
        "plt.figure(figsize=(10,8))\n",
        "plt.plot(clusters,silhouette_avg,'bx-')\n",
        "plt.xlabel('Values of K') \n",
        "plt.ylabel('Silhouette score') \n",
        "plt.title('Silhouette analysis For Optimal k')\n",
        "plt.show()"
      ],
      "execution_count": null,
      "outputs": [
        {
          "output_type": "display_data",
          "data": {
            "image/png": "[encoded data removed]",
            "text/plain": [
              "<Figure size 720x576 with 1 Axes>"
            ]
          },
          "metadata": {}
        }
      ]
    },
    {
      "cell_type": "code",
      "metadata": {
        "colab": {
          "base_uri": "https://localhost:8080/",
          "height": 512
        },
        "id": "HRoX58ynVh_g",
        "outputId": "b01f3655-3f39-4897-c364-fff28b2fd0ff"
      },
      "source": [
        "# Elbow method\n",
        "plt.figure(figsize=(10,8))\n",
        "plt.plot(clusters,Sum_of_squared_distances,'bx-')\n",
        "\n",
        "plt.xlabel('Values of K') \n",
        "plt.ylabel('Sum of squared distances/Inertia') \n",
        "plt.title('Elbow Method For Optimal k')\n",
        "plt.show()"
      ],
      "execution_count": null,
      "outputs": [
        {
          "output_type": "display_data",
          "data": {
            "image/png": "[encoded data removed]",
            "text/plain": [
              "<Figure size 720x576 with 1 Axes>"
            ]
          },
          "metadata": {}
        }
      ]
    },
    {
      "cell_type": "markdown",
      "metadata": {
        "id": "MBr5teCJTa1N"
      },
      "source": [
        "Based on Silhouette and elbow analysis we can see that the highest Silhouette score is before 30s and have 2 bends before 40s in elbow plot.\n",
        "\n",
        "---\n",
        "\n",
        "\n",
        "Now we have a basic idea of where the optimum number of clusters might lie.\n",
        "We'll run the K Means clustering analysis again this time from 2 to 40 and find the the best number of clusters."
      ]
    },
    {
      "cell_type": "code",
      "metadata": {
        "id": "1wSLaw64UoVf"
      },
      "source": [
        "#hperparameter tuning\n",
        "clusters=[i for i in range(2,41,1)]"
      ],
      "execution_count": null,
      "outputs": []
    },
    {
      "cell_type": "code",
      "metadata": {
        "id": "J0BMV1Vou-W_"
      },
      "source": [
        "# running kmeans\n",
        "silhouette_avg = []\n",
        "Sum_of_squared_distances = []\n",
        "for num_clusters in clusters:\n",
        " \n",
        " kmeans = KMeans(n_clusters=num_clusters, init='k-means++', n_init=10)\n",
        " #fitting model\n",
        " kmeans.fit(x)\n",
        " cluster_labels = kmeans.labels_\n",
        " silhouette_avg.append(silhouette_score(x, cluster_labels))\n",
        " Sum_of_squared_distances.append(kmeans.inertia_)\n",
        " "
      ],
      "execution_count": null,
      "outputs": []
    },
    {
      "cell_type": "code",
      "metadata": {
        "colab": {
          "base_uri": "https://localhost:8080/",
          "height": 512
        },
        "id": "PN6aBYlBu-XA",
        "outputId": "5fb931c9-cb1d-4b6d-bfe7-bab2d3f39ac6"
      },
      "source": [
        "# silhouette score\n",
        "plt.figure(figsize=(10,8))\n",
        "plt.plot(clusters,silhouette_avg,'bx-')\n",
        "plt.xlabel('Values of K') \n",
        "plt.ylabel('Silhouette score') \n",
        "plt.title('Silhouette analysis For Optimal k')\n",
        "plt.show()"
      ],
      "execution_count": null,
      "outputs": [
        {
          "output_type": "display_data",
          "data": {
            "image/png": "[encoded data removed]",
            "text/plain": [
              "<Figure size 720x576 with 1 Axes>"
            ]
          },
          "metadata": {}
        }
      ]
    },
    {
      "cell_type": "markdown",
      "metadata": {
        "id": "rsCH87jVJgz_"
      },
      "source": [
        "Maximum score is at k=22 and k=26 is also very close. we'll move onto to elbow analysis and try to find out the optimum value of k."
      ]
    },
    {
      "cell_type": "code",
      "metadata": {
        "colab": {
          "base_uri": "https://localhost:8080/",
          "height": 512
        },
        "id": "KZyhZ_v5u-XA",
        "outputId": "4eb5213d-6d5d-43be-a094-967e93a53e41"
      },
      "source": [
        "# Elbow method\n",
        "plt.figure(figsize=(10,8))\n",
        "plt.plot(clusters,Sum_of_squared_distances,'bx-')\n",
        "\n",
        "plt.xlabel('Values of K') \n",
        "plt.ylabel('Sum of squared distances/Inertia') \n",
        "plt.title('Elbow Method For Optimal k')\n",
        "plt.show()"
      ],
      "execution_count": null,
      "outputs": [
        {
          "output_type": "display_data",
          "data": {
            "image/png": "[encoded data removed]",
            "text/plain": [
              "<Figure size 720x576 with 1 Axes>"
            ]
          },
          "metadata": {}
        }
      ]
    },
    {
      "cell_type": "markdown",
      "metadata": {
        "id": "sp64Mz4-Ju4P"
      },
      "source": [
        "Here we can see a slight deviation at 22 and a more visible deviation at 26, considering both the graphs, we'll go ahead with K=26."
      ]
    },
    {
      "cell_type": "markdown",
      "metadata": {
        "id": "iaMq3UghJ_HG"
      },
      "source": [
        "# **FINAL MODEL**"
      ]
    },
    {
      "cell_type": "markdown",
      "metadata": {
        "id": "4hx_N5s1DLhL"
      },
      "source": [
        "Creating our model for K=26"
      ]
    },
    {
      "cell_type": "code",
      "metadata": {
        "id": "y-jWuYCkDNSS"
      },
      "source": [
        "# fitting model\n",
        "kmeans = KMeans(n_clusters=26, init='k-means++', n_init=10)\n",
        "kmeans.fit(x)\n",
        "\n",
        "\n",
        "# prediction\n",
        "predictions = kmeans.fit_predict(x)\n",
        "\n",
        "# Convert cluster predictions to data frame\n",
        "predictions_df = pd.DataFrame(predictions, columns=['cluster'])"
      ],
      "execution_count": null,
      "outputs": []
    },
    {
      "cell_type": "code",
      "metadata": {
        "id": "78060p9_sDTR"
      },
      "source": [
        "# Attach cluster predictions to original data frame\n",
        "df.insert(len(df.columns), column = 'cluster', value = predictions_df.cluster)"
      ],
      "execution_count": null,
      "outputs": []
    },
    {
      "cell_type": "code",
      "metadata": {
        "colab": {
          "base_uri": "https://localhost:8080/",
          "height": 510
        },
        "id": "foDC6u7-GqFz",
        "outputId": "06df8498-9328-4203-edbf-ad49abce3357"
      },
      "source": [
        "df.head()"
      ],
      "execution_count": null,
      "outputs": [
        {
          "output_type": "execute_result",
          "data": {
            "text/html": [
              "<div>\n",
              "<style scoped>\n",
              "    .dataframe tbody tr th:only-of-type {\n",
              "        vertical-align: middle;\n",
              "    }\n",
              "\n",
              "    .dataframe tbody tr th {\n",
              "        vertical-align: top;\n",
              "    }\n",
              "\n",
              "    .dataframe thead th {\n",
              "        text-align: right;\n",
              "    }\n",
              "</style>\n",
              "<table border=\"1\" class=\"dataframe\">\n",
              "  <thead>\n",
              "    <tr style=\"text-align: right;\">\n",
              "      <th></th>\n",
              "      <th>show_id</th>\n",
              "      <th>type</th>\n",
              "      <th>title</th>\n",
              "      <th>director</th>\n",
              "      <th>cast</th>\n",
              "      <th>country</th>\n",
              "      <th>date_added</th>\n",
              "      <th>release_year</th>\n",
              "      <th>rating</th>\n",
              "      <th>duration</th>\n",
              "      <th>listed_in</th>\n",
              "      <th>description</th>\n",
              "      <th>combined features</th>\n",
              "      <th>cluster</th>\n",
              "    </tr>\n",
              "  </thead>\n",
              "  <tbody>\n",
              "    <tr>\n",
              "      <th>0</th>\n",
              "      <td>s1</td>\n",
              "      <td>TV Show</td>\n",
              "      <td>3%</td>\n",
              "      <td>[]</td>\n",
              "      <td>[João Miguel,  Bianca Comparato,  Michel Gomes...</td>\n",
              "      <td>[Brazil]</td>\n",
              "      <td>August 14, 2020</td>\n",
              "      <td>2020</td>\n",
              "      <td>TV-MA</td>\n",
              "      <td>4 Seasons</td>\n",
              "      <td>[International TV Shows,  TV Dramas,  TV Sci-F...</td>\n",
              "      <td>In a future where the elite inhabit an island ...</td>\n",
              "      <td>intern show drama sci fantasi futur elit inhab...</td>\n",
              "      <td>4</td>\n",
              "    </tr>\n",
              "    <tr>\n",
              "      <th>1</th>\n",
              "      <td>s2</td>\n",
              "      <td>Movie</td>\n",
              "      <td>7:19</td>\n",
              "      <td>[Jorge Michel Grau]</td>\n",
              "      <td>[Demián Bichir,  Héctor Bonilla,  Oscar Serran...</td>\n",
              "      <td>[Mexico]</td>\n",
              "      <td>December 23, 2016</td>\n",
              "      <td>2016</td>\n",
              "      <td>TV-MA</td>\n",
              "      <td>93 min</td>\n",
              "      <td>[Dramas,  International Movies]</td>\n",
              "      <td>After a devastating earthquake hits Mexico Cit...</td>\n",
              "      <td>drama intern movi devast earthquak hit mexico ...</td>\n",
              "      <td>0</td>\n",
              "    </tr>\n",
              "    <tr>\n",
              "      <th>2</th>\n",
              "      <td>s3</td>\n",
              "      <td>Movie</td>\n",
              "      <td>23:59</td>\n",
              "      <td>[Gilbert Chan]</td>\n",
              "      <td>[Tedd Chan,  Stella Chung,  Henley Hii,  Lawre...</td>\n",
              "      <td>[Singapore]</td>\n",
              "      <td>December 20, 2018</td>\n",
              "      <td>2011</td>\n",
              "      <td>R</td>\n",
              "      <td>78 min</td>\n",
              "      <td>[Horror Movies,  International Movies]</td>\n",
              "      <td>When an army recruit is found dead, his fellow...</td>\n",
              "      <td>horror movi intern movi armi recruit found dea...</td>\n",
              "      <td>5</td>\n",
              "    </tr>\n",
              "    <tr>\n",
              "      <th>3</th>\n",
              "      <td>s4</td>\n",
              "      <td>Movie</td>\n",
              "      <td>9</td>\n",
              "      <td>[Shane Acker]</td>\n",
              "      <td>[Elijah Wood,  John C. Reilly,  Jennifer Conne...</td>\n",
              "      <td>[United States]</td>\n",
              "      <td>November 16, 2017</td>\n",
              "      <td>2009</td>\n",
              "      <td>PG-13</td>\n",
              "      <td>80 min</td>\n",
              "      <td>[Action &amp; Adventure,  Independent Movies,  Sci...</td>\n",
              "      <td>In a postapocalyptic world, rag-doll robots hi...</td>\n",
              "      <td>action adventur independ movi sci fantasi post...</td>\n",
              "      <td>4</td>\n",
              "    </tr>\n",
              "    <tr>\n",
              "      <th>4</th>\n",
              "      <td>s5</td>\n",
              "      <td>Movie</td>\n",
              "      <td>21</td>\n",
              "      <td>[Robert Luketic]</td>\n",
              "      <td>[Jim Sturgess,  Kevin Spacey,  Kate Bosworth, ...</td>\n",
              "      <td>[United States]</td>\n",
              "      <td>January 1, 2020</td>\n",
              "      <td>2008</td>\n",
              "      <td>PG-13</td>\n",
              "      <td>123 min</td>\n",
              "      <td>[Dramas]</td>\n",
              "      <td>A brilliant group of students become card-coun...</td>\n",
              "      <td>drama brilliant group student becom card count...</td>\n",
              "      <td>9</td>\n",
              "    </tr>\n",
              "  </tbody>\n",
              "</table>\n",
              "</div>"
            ],
            "text/plain": [
              "  show_id     type  ...                                  combined features cluster\n",
              "0      s1  TV Show  ...  intern show drama sci fantasi futur elit inhab...       4\n",
              "1      s2    Movie  ...  drama intern movi devast earthquak hit mexico ...       0\n",
              "2      s3    Movie  ...  horror movi intern movi armi recruit found dea...       5\n",
              "3      s4    Movie  ...  action adventur independ movi sci fantasi post...       4\n",
              "4      s5    Movie  ...  drama brilliant group student becom card count...       9\n",
              "\n",
              "[5 rows x 14 columns]"
            ]
          },
          "metadata": {},
          "execution_count": 272
        }
      ]
    },
    {
      "cell_type": "markdown",
      "metadata": {
        "id": "6_2wuYepLLBy"
      },
      "source": [
        "Let's try to see if our model worked well and if our clusters makes any sense  by checking out some random clusters."
      ]
    },
    {
      "cell_type": "code",
      "metadata": {
        "colab": {
          "base_uri": "https://localhost:8080/",
          "height": 589
        },
        "id": "EgNhkT_eGrVs",
        "outputId": "5bed5648-dd82-4d0e-baca-2699a7635af4"
      },
      "source": [
        "df[df['cluster'] == 1][['type','title','director','cast','country','rating','listed_in','description']]"
      ],
      "execution_count": null,
      "outputs": [
        {
          "output_type": "execute_result",
          "data": {
            "text/html": [
              "<div>\n",
              "<style scoped>\n",
              "    .dataframe tbody tr th:only-of-type {\n",
              "        vertical-align: middle;\n",
              "    }\n",
              "\n",
              "    .dataframe tbody tr th {\n",
              "        vertical-align: top;\n",
              "    }\n",
              "\n",
              "    .dataframe thead th {\n",
              "        text-align: right;\n",
              "    }\n",
              "</style>\n",
              "<table border=\"1\" class=\"dataframe\">\n",
              "  <thead>\n",
              "    <tr style=\"text-align: right;\">\n",
              "      <th></th>\n",
              "      <th>type</th>\n",
              "      <th>title</th>\n",
              "      <th>director</th>\n",
              "      <th>cast</th>\n",
              "      <th>country</th>\n",
              "      <th>rating</th>\n",
              "      <th>listed_in</th>\n",
              "      <th>description</th>\n",
              "    </tr>\n",
              "  </thead>\n",
              "  <tbody>\n",
              "    <tr>\n",
              "      <th>11</th>\n",
              "      <td>TV Show</td>\n",
              "      <td>1983</td>\n",
              "      <td>[]</td>\n",
              "      <td>[Robert Więckiewicz,  Maciej Musiał,  Michalin...</td>\n",
              "      <td>[Poland,  United States]</td>\n",
              "      <td>TV-MA</td>\n",
              "      <td>[Crime TV Shows,  International TV Shows,  TV ...</td>\n",
              "      <td>In this dark alt-history thriller, a naïve law...</td>\n",
              "    </tr>\n",
              "    <tr>\n",
              "      <th>12</th>\n",
              "      <td>TV Show</td>\n",
              "      <td>1994</td>\n",
              "      <td>[Diego Enrique Osorno]</td>\n",
              "      <td>[]</td>\n",
              "      <td>[Mexico]</td>\n",
              "      <td>TV-MA</td>\n",
              "      <td>[Crime TV Shows,  Docuseries,  International T...</td>\n",
              "      <td>Archival video and new interviews examine Mexi...</td>\n",
              "    </tr>\n",
              "    <tr>\n",
              "      <th>45</th>\n",
              "      <td>TV Show</td>\n",
              "      <td>Şubat</td>\n",
              "      <td>[]</td>\n",
              "      <td>[Alican Yücesoy,  Melisa Sözen,  Musa Uzunlar,...</td>\n",
              "      <td>[Turkey]</td>\n",
              "      <td>TV-MA</td>\n",
              "      <td>[Crime TV Shows,  International TV Shows,  TV ...</td>\n",
              "      <td>An orphan subjected to tests that gave him sup...</td>\n",
              "    </tr>\n",
              "    <tr>\n",
              "      <th>63</th>\n",
              "      <td>TV Show</td>\n",
              "      <td>13 Reasons Why</td>\n",
              "      <td>[]</td>\n",
              "      <td>[Dylan Minnette,  Katherine Langford,  Kate Wa...</td>\n",
              "      <td>[United States]</td>\n",
              "      <td>TV-MA</td>\n",
              "      <td>[Crime TV Shows,  TV Dramas,  TV Mysteries]</td>\n",
              "      <td>After a teenage girl's perplexing suicide, a c...</td>\n",
              "    </tr>\n",
              "    <tr>\n",
              "      <th>80</th>\n",
              "      <td>TV Show</td>\n",
              "      <td>20 Minutes</td>\n",
              "      <td>[]</td>\n",
              "      <td>[Tuba Büyüküstün,  Ilker Aksum,  Bülent Emin Y...</td>\n",
              "      <td>[Turkey]</td>\n",
              "      <td>TV-MA</td>\n",
              "      <td>[Crime TV Shows,  International TV Shows,  TV ...</td>\n",
              "      <td>When his wife is convicted of murder, a horrif...</td>\n",
              "    </tr>\n",
              "    <tr>\n",
              "      <th>...</th>\n",
              "      <td>...</td>\n",
              "      <td>...</td>\n",
              "      <td>...</td>\n",
              "      <td>...</td>\n",
              "      <td>...</td>\n",
              "      <td>...</td>\n",
              "      <td>...</td>\n",
              "      <td>...</td>\n",
              "    </tr>\n",
              "    <tr>\n",
              "      <th>7653</th>\n",
              "      <td>TV Show</td>\n",
              "      <td>Women Behind Bars</td>\n",
              "      <td>[]</td>\n",
              "      <td>[]</td>\n",
              "      <td>[United States]</td>\n",
              "      <td>TV-14</td>\n",
              "      <td>[Crime TV Shows,  Docuseries]</td>\n",
              "      <td>This reality series recounts true stories of w...</td>\n",
              "    </tr>\n",
              "    <tr>\n",
              "      <th>7655</th>\n",
              "      <td>TV Show</td>\n",
              "      <td>Women Of The Night</td>\n",
              "      <td>[]</td>\n",
              "      <td>[Karina Smulders,  Susan Radder,  Hilde Van Mi...</td>\n",
              "      <td>[Netherlands]</td>\n",
              "      <td>TV-MA</td>\n",
              "      <td>[Crime TV Shows,  International TV Shows,  TV ...</td>\n",
              "      <td>Haunted by a shadowy past, the wife of a risin...</td>\n",
              "    </tr>\n",
              "    <tr>\n",
              "      <th>7670</th>\n",
              "      <td>TV Show</td>\n",
              "      <td>World's Most Wanted</td>\n",
              "      <td>[]</td>\n",
              "      <td>[]</td>\n",
              "      <td>[United States]</td>\n",
              "      <td>TV-14</td>\n",
              "      <td>[Crime TV Shows,  Docuseries,  International T...</td>\n",
              "      <td>Suspected of heinous crimes, they’ve avoided c...</td>\n",
              "    </tr>\n",
              "    <tr>\n",
              "      <th>7721</th>\n",
              "      <td>TV Show</td>\n",
              "      <td>You</td>\n",
              "      <td>[Lee Toland Krieger]</td>\n",
              "      <td>[Penn Badgley,  Elizabeth Lail,  Shay Mitchell...</td>\n",
              "      <td>[United States]</td>\n",
              "      <td>TV-MA</td>\n",
              "      <td>[Crime TV Shows,  Romantic TV Shows,  TV Dramas]</td>\n",
              "      <td>Obsessed with an aspiring writer, a charming b...</td>\n",
              "    </tr>\n",
              "    <tr>\n",
              "      <th>7738</th>\n",
              "      <td>TV Show</td>\n",
              "      <td>Young Wallander</td>\n",
              "      <td>[]</td>\n",
              "      <td>[Adam Pålsson,  Richard Dillane,  Leanne Best,...</td>\n",
              "      <td>[United Kingdom]</td>\n",
              "      <td>TV-MA</td>\n",
              "      <td>[Crime TV Shows,  International TV Shows,  TV ...</td>\n",
              "      <td>An incendiary hate crime stirs civil unrest, f...</td>\n",
              "    </tr>\n",
              "  </tbody>\n",
              "</table>\n",
              "<p>300 rows × 8 columns</p>\n",
              "</div>"
            ],
            "text/plain": [
              "         type  ...                                        description\n",
              "11    TV Show  ...  In this dark alt-history thriller, a naïve law...\n",
              "12    TV Show  ...  Archival video and new interviews examine Mexi...\n",
              "45    TV Show  ...  An orphan subjected to tests that gave him sup...\n",
              "63    TV Show  ...  After a teenage girl's perplexing suicide, a c...\n",
              "80    TV Show  ...  When his wife is convicted of murder, a horrif...\n",
              "...       ...  ...                                                ...\n",
              "7653  TV Show  ...  This reality series recounts true stories of w...\n",
              "7655  TV Show  ...  Haunted by a shadowy past, the wife of a risin...\n",
              "7670  TV Show  ...  Suspected of heinous crimes, they’ve avoided c...\n",
              "7721  TV Show  ...  Obsessed with an aspiring writer, a charming b...\n",
              "7738  TV Show  ...  An incendiary hate crime stirs civil unrest, f...\n",
              "\n",
              "[300 rows x 8 columns]"
            ]
          },
          "metadata": {},
          "execution_count": 273
        }
      ]
    },
    {
      "cell_type": "markdown",
      "metadata": {
        "id": "Dcm8_mRtLUYq"
      },
      "source": [
        "Cluster 1 has TV shows as type and genre is International TV shows."
      ]
    },
    {
      "cell_type": "code",
      "metadata": {
        "colab": {
          "base_uri": "https://localhost:8080/",
          "height": 589
        },
        "id": "aQe9sKeYIMbC",
        "outputId": "ea355f8c-52a5-4ffc-844d-068c4118e344"
      },
      "source": [
        "df[df['cluster'] ==4][['type','title','director','cast','country','rating','listed_in','description']]"
      ],
      "execution_count": null,
      "outputs": [
        {
          "output_type": "execute_result",
          "data": {
            "text/html": [
              "<div>\n",
              "<style scoped>\n",
              "    .dataframe tbody tr th:only-of-type {\n",
              "        vertical-align: middle;\n",
              "    }\n",
              "\n",
              "    .dataframe tbody tr th {\n",
              "        vertical-align: top;\n",
              "    }\n",
              "\n",
              "    .dataframe thead th {\n",
              "        text-align: right;\n",
              "    }\n",
              "</style>\n",
              "<table border=\"1\" class=\"dataframe\">\n",
              "  <thead>\n",
              "    <tr style=\"text-align: right;\">\n",
              "      <th></th>\n",
              "      <th>type</th>\n",
              "      <th>title</th>\n",
              "      <th>director</th>\n",
              "      <th>cast</th>\n",
              "      <th>country</th>\n",
              "      <th>rating</th>\n",
              "      <th>listed_in</th>\n",
              "      <th>description</th>\n",
              "    </tr>\n",
              "  </thead>\n",
              "  <tbody>\n",
              "    <tr>\n",
              "      <th>0</th>\n",
              "      <td>TV Show</td>\n",
              "      <td>3%</td>\n",
              "      <td>[]</td>\n",
              "      <td>[João Miguel,  Bianca Comparato,  Michel Gomes...</td>\n",
              "      <td>[Brazil]</td>\n",
              "      <td>TV-MA</td>\n",
              "      <td>[International TV Shows,  TV Dramas,  TV Sci-F...</td>\n",
              "      <td>In a future where the elite inhabit an island ...</td>\n",
              "    </tr>\n",
              "    <tr>\n",
              "      <th>3</th>\n",
              "      <td>Movie</td>\n",
              "      <td>9</td>\n",
              "      <td>[Shane Acker]</td>\n",
              "      <td>[Elijah Wood,  John C. Reilly,  Jennifer Conne...</td>\n",
              "      <td>[United States]</td>\n",
              "      <td>PG-13</td>\n",
              "      <td>[Action &amp; Adventure,  Independent Movies,  Sci...</td>\n",
              "      <td>In a postapocalyptic world, rag-doll robots hi...</td>\n",
              "    </tr>\n",
              "    <tr>\n",
              "      <th>14</th>\n",
              "      <td>Movie</td>\n",
              "      <td>3022</td>\n",
              "      <td>[John Suits]</td>\n",
              "      <td>[Omar Epps,  Kate Walsh,  Miranda Cosgrove,  A...</td>\n",
              "      <td>[United States]</td>\n",
              "      <td>R</td>\n",
              "      <td>[Independent Movies,  Sci-Fi &amp; Fantasy,  Thril...</td>\n",
              "      <td>Stranded when the Earth is suddenly destroyed ...</td>\n",
              "    </tr>\n",
              "    <tr>\n",
              "      <th>44</th>\n",
              "      <td>Movie</td>\n",
              "      <td>Æon Flux</td>\n",
              "      <td>[Karyn Kusama]</td>\n",
              "      <td>[Charlize Theron,  Marton Csokas,  Jonny Lee M...</td>\n",
              "      <td>[United States]</td>\n",
              "      <td>PG-13</td>\n",
              "      <td>[Action &amp; Adventure,  Sci-Fi &amp; Fantasy]</td>\n",
              "      <td>Aiming to hasten an uprising, the leader of an...</td>\n",
              "    </tr>\n",
              "    <tr>\n",
              "      <th>82</th>\n",
              "      <td>Movie</td>\n",
              "      <td>2036 Origin Unknown</td>\n",
              "      <td>[Hasraf Dulull]</td>\n",
              "      <td>[Katee Sackhoff,  Ray Fearon,  Julie Cox,  Ste...</td>\n",
              "      <td>[United Kingdom]</td>\n",
              "      <td>TV-14</td>\n",
              "      <td>[Sci-Fi &amp; Fantasy]</td>\n",
              "      <td>Working with an artificial intelligence to inv...</td>\n",
              "    </tr>\n",
              "    <tr>\n",
              "      <th>...</th>\n",
              "      <td>...</td>\n",
              "      <td>...</td>\n",
              "      <td>...</td>\n",
              "      <td>...</td>\n",
              "      <td>...</td>\n",
              "      <td>...</td>\n",
              "      <td>...</td>\n",
              "      <td>...</td>\n",
              "    </tr>\n",
              "    <tr>\n",
              "      <th>7623</th>\n",
              "      <td>Movie</td>\n",
              "      <td>Wild Wild West</td>\n",
              "      <td>[Barry Sonnenfeld]</td>\n",
              "      <td>[Will Smith,  Kevin Kline,  Kenneth Branagh,  ...</td>\n",
              "      <td>[United States]</td>\n",
              "      <td>PG-13</td>\n",
              "      <td>[Action &amp; Adventure,  Comedies,  Sci-Fi &amp; Fant...</td>\n",
              "      <td>Armed with an ingenious arsenal, two top-notch...</td>\n",
              "    </tr>\n",
              "    <tr>\n",
              "      <th>7625</th>\n",
              "      <td>Movie</td>\n",
              "      <td>Wildling</td>\n",
              "      <td>[Fritz Böhm]</td>\n",
              "      <td>[Bel Powley,  Brad Dourif,  Liv Tyler,  Collin...</td>\n",
              "      <td>[United States]</td>\n",
              "      <td>R</td>\n",
              "      <td>[Horror Movies,  Independent Movies,  Sci-Fi &amp;...</td>\n",
              "      <td>Confined to an attic for years by a man claimi...</td>\n",
              "    </tr>\n",
              "    <tr>\n",
              "      <th>7631</th>\n",
              "      <td>Movie</td>\n",
              "      <td>Winchester</td>\n",
              "      <td>[Michael Spierig,  Peter Spierig]</td>\n",
              "      <td>[Helen Mirren,  Jason Clarke,  Sarah Snook,  A...</td>\n",
              "      <td>[Australia,  United States]</td>\n",
              "      <td>PG-13</td>\n",
              "      <td>[Horror Movies,  Sci-Fi &amp; Fantasy]</td>\n",
              "      <td>The heiress to a vast firearms fortune constru...</td>\n",
              "    </tr>\n",
              "    <tr>\n",
              "      <th>7650</th>\n",
              "      <td>TV Show</td>\n",
              "      <td>Wizards: Tales of Arcadia</td>\n",
              "      <td>[]</td>\n",
              "      <td>[Colin O'Donoghue,  David Bradley,  Lena Heade...</td>\n",
              "      <td>[United States]</td>\n",
              "      <td>TV-Y7</td>\n",
              "      <td>[Kids' TV,  TV Action &amp; Adventure,  TV Sci-Fi ...</td>\n",
              "      <td>Merlin’s apprentice joins Arcadia’s heroes on ...</td>\n",
              "    </tr>\n",
              "    <tr>\n",
              "      <th>7677</th>\n",
              "      <td>TV Show</td>\n",
              "      <td>Wu Assassins</td>\n",
              "      <td>[]</td>\n",
              "      <td>[Iko Uwais,  Katheryn Winnick,  Byron Mann,  T...</td>\n",
              "      <td>[United States]</td>\n",
              "      <td>TV-MA</td>\n",
              "      <td>[TV Action &amp; Adventure,  TV Sci-Fi &amp; Fantasy]</td>\n",
              "      <td>An unassuming San Francisco chef becomes the l...</td>\n",
              "    </tr>\n",
              "  </tbody>\n",
              "</table>\n",
              "<p>277 rows × 8 columns</p>\n",
              "</div>"
            ],
            "text/plain": [
              "         type  ...                                        description\n",
              "0     TV Show  ...  In a future where the elite inhabit an island ...\n",
              "3       Movie  ...  In a postapocalyptic world, rag-doll robots hi...\n",
              "14      Movie  ...  Stranded when the Earth is suddenly destroyed ...\n",
              "44      Movie  ...  Aiming to hasten an uprising, the leader of an...\n",
              "82      Movie  ...  Working with an artificial intelligence to inv...\n",
              "...       ...  ...                                                ...\n",
              "7623    Movie  ...  Armed with an ingenious arsenal, two top-notch...\n",
              "7625    Movie  ...  Confined to an attic for years by a man claimi...\n",
              "7631    Movie  ...  The heiress to a vast firearms fortune constru...\n",
              "7650  TV Show  ...  Merlin’s apprentice joins Arcadia’s heroes on ...\n",
              "7677  TV Show  ...  An unassuming San Francisco chef becomes the l...\n",
              "\n",
              "[277 rows x 8 columns]"
            ]
          },
          "metadata": {},
          "execution_count": 274
        }
      ]
    },
    {
      "cell_type": "markdown",
      "metadata": {
        "id": "3-K1BM2qLhX3"
      },
      "source": [
        "Cluster 4 has content type movies and genre as children and family movies."
      ]
    },
    {
      "cell_type": "code",
      "metadata": {
        "colab": {
          "base_uri": "https://localhost:8080/",
          "height": 589
        },
        "id": "SbYwLMn5KSeN",
        "outputId": "b3833e31-5aea-45fc-abb4-cad218025370"
      },
      "source": [
        "df[df['cluster'] == 15][['type','title','director','cast','country','rating','listed_in','description']]"
      ],
      "execution_count": null,
      "outputs": [
        {
          "output_type": "execute_result",
          "data": {
            "text/html": [
              "<div>\n",
              "<style scoped>\n",
              "    .dataframe tbody tr th:only-of-type {\n",
              "        vertical-align: middle;\n",
              "    }\n",
              "\n",
              "    .dataframe tbody tr th {\n",
              "        vertical-align: top;\n",
              "    }\n",
              "\n",
              "    .dataframe thead th {\n",
              "        text-align: right;\n",
              "    }\n",
              "</style>\n",
              "<table border=\"1\" class=\"dataframe\">\n",
              "  <thead>\n",
              "    <tr style=\"text-align: right;\">\n",
              "      <th></th>\n",
              "      <th>type</th>\n",
              "      <th>title</th>\n",
              "      <th>director</th>\n",
              "      <th>cast</th>\n",
              "      <th>country</th>\n",
              "      <th>rating</th>\n",
              "      <th>listed_in</th>\n",
              "      <th>description</th>\n",
              "    </tr>\n",
              "  </thead>\n",
              "  <tbody>\n",
              "    <tr>\n",
              "      <th>13</th>\n",
              "      <td>Movie</td>\n",
              "      <td>2,215</td>\n",
              "      <td>[Nottapon Boonprakob]</td>\n",
              "      <td>[Artiwara Kongmalai]</td>\n",
              "      <td>[Thailand]</td>\n",
              "      <td>TV-MA</td>\n",
              "      <td>[Documentaries,  International Movies,  Sports...</td>\n",
              "      <td>This intimate documentary follows rock star Ar...</td>\n",
              "    </tr>\n",
              "    <tr>\n",
              "      <th>25</th>\n",
              "      <td>Movie</td>\n",
              "      <td>(T)ERROR</td>\n",
              "      <td>[Lyric R. Cabral,  David Felix Sutcliffe]</td>\n",
              "      <td>[]</td>\n",
              "      <td>[United States]</td>\n",
              "      <td>NR</td>\n",
              "      <td>[Documentaries]</td>\n",
              "      <td>This real-life look at FBI counterterrorism op...</td>\n",
              "    </tr>\n",
              "    <tr>\n",
              "      <th>28</th>\n",
              "      <td>Movie</td>\n",
              "      <td>#AnneFrank - Parallel Stories</td>\n",
              "      <td>[Sabina Fedeli,  Anna Migotto]</td>\n",
              "      <td>[Helen Mirren,  Gengher Gatti]</td>\n",
              "      <td>[Italy]</td>\n",
              "      <td>TV-14</td>\n",
              "      <td>[Documentaries,  International Movies]</td>\n",
              "      <td>Through her diary, Anne Frank's story is retol...</td>\n",
              "    </tr>\n",
              "    <tr>\n",
              "      <th>30</th>\n",
              "      <td>Movie</td>\n",
              "      <td>#cats_the_mewvie</td>\n",
              "      <td>[Michael Margolis]</td>\n",
              "      <td>[]</td>\n",
              "      <td>[Canada]</td>\n",
              "      <td>TV-14</td>\n",
              "      <td>[Documentaries,  International Movies]</td>\n",
              "      <td>This pawesome documentary explores how our fel...</td>\n",
              "    </tr>\n",
              "    <tr>\n",
              "      <th>35</th>\n",
              "      <td>Movie</td>\n",
              "      <td>#Rucker50</td>\n",
              "      <td>[Robert McCullough Jr.]</td>\n",
              "      <td>[]</td>\n",
              "      <td>[United States]</td>\n",
              "      <td>TV-PG</td>\n",
              "      <td>[Documentaries,  Sports Movies]</td>\n",
              "      <td>This documentary celebrates the 50th anniversa...</td>\n",
              "    </tr>\n",
              "    <tr>\n",
              "      <th>...</th>\n",
              "      <td>...</td>\n",
              "      <td>...</td>\n",
              "      <td>...</td>\n",
              "      <td>...</td>\n",
              "      <td>...</td>\n",
              "      <td>...</td>\n",
              "      <td>...</td>\n",
              "      <td>...</td>\n",
              "    </tr>\n",
              "    <tr>\n",
              "      <th>7647</th>\n",
              "      <td>Movie</td>\n",
              "      <td>Without Gorky</td>\n",
              "      <td>[Cosima Spender]</td>\n",
              "      <td>[]</td>\n",
              "      <td>[United Kingdom]</td>\n",
              "      <td>TV-14</td>\n",
              "      <td>[Documentaries]</td>\n",
              "      <td>A filmmaker trains the camera on her own famil...</td>\n",
              "    </tr>\n",
              "    <tr>\n",
              "      <th>7679</th>\n",
              "      <td>Movie</td>\n",
              "      <td>WWII: Report from the Aleutians</td>\n",
              "      <td>[John Huston]</td>\n",
              "      <td>[]</td>\n",
              "      <td>[United States]</td>\n",
              "      <td>TV-PG</td>\n",
              "      <td>[Documentaries]</td>\n",
              "      <td>Filmmaker John Huston narrates this Oscar-nomi...</td>\n",
              "    </tr>\n",
              "    <tr>\n",
              "      <th>7686</th>\n",
              "      <td>Movie</td>\n",
              "      <td>XV: Beyond the Tryline</td>\n",
              "      <td>[Pierre Deschamps]</td>\n",
              "      <td>[]</td>\n",
              "      <td>[United Kingdom]</td>\n",
              "      <td>TV-14</td>\n",
              "      <td>[Documentaries,  Sports Movies]</td>\n",
              "      <td>Set against the 2015 Rugby World Cup, this doc...</td>\n",
              "    </tr>\n",
              "    <tr>\n",
              "      <th>7692</th>\n",
              "      <td>Movie</td>\n",
              "      <td>Ya no estoy aquí: Una conversación entre Guill...</td>\n",
              "      <td>[]</td>\n",
              "      <td>[Guillermo del Toro,  Alfonso Cuarón]</td>\n",
              "      <td>[United States]</td>\n",
              "      <td>TV-PG</td>\n",
              "      <td>[Documentaries]</td>\n",
              "      <td>Guillermo del Toro and Alfonso Cuarón discuss ...</td>\n",
              "    </tr>\n",
              "    <tr>\n",
              "      <th>7771</th>\n",
              "      <td>Movie</td>\n",
              "      <td>Zion</td>\n",
              "      <td>[Floyd Russ]</td>\n",
              "      <td>[Zion Clark]</td>\n",
              "      <td>[United States]</td>\n",
              "      <td>TV-PG</td>\n",
              "      <td>[Documentaries,  Sports Movies]</td>\n",
              "      <td>Born without legs and stuck in foster care for...</td>\n",
              "    </tr>\n",
              "  </tbody>\n",
              "</table>\n",
              "<p>641 rows × 8 columns</p>\n",
              "</div>"
            ],
            "text/plain": [
              "       type  ...                                        description\n",
              "13    Movie  ...  This intimate documentary follows rock star Ar...\n",
              "25    Movie  ...  This real-life look at FBI counterterrorism op...\n",
              "28    Movie  ...  Through her diary, Anne Frank's story is retol...\n",
              "30    Movie  ...  This pawesome documentary explores how our fel...\n",
              "35    Movie  ...  This documentary celebrates the 50th anniversa...\n",
              "...     ...  ...                                                ...\n",
              "7647  Movie  ...  A filmmaker trains the camera on her own famil...\n",
              "7679  Movie  ...  Filmmaker John Huston narrates this Oscar-nomi...\n",
              "7686  Movie  ...  Set against the 2015 Rugby World Cup, this doc...\n",
              "7692  Movie  ...  Guillermo del Toro and Alfonso Cuarón discuss ...\n",
              "7771  Movie  ...  Born without legs and stuck in foster care for...\n",
              "\n",
              "[641 rows x 8 columns]"
            ]
          },
          "metadata": {},
          "execution_count": 275
        }
      ]
    },
    {
      "cell_type": "markdown",
      "metadata": {
        "id": "Pon83Vd_LtdP"
      },
      "source": [
        "Cluster 15 is mixture of movies and Tv shows but Genre is comedy.\n",
        "\n",
        "\n",
        "It looks like our model was able to bifurcate our content into based on it's different features.\n"
      ]
    },
    {
      "cell_type": "markdown",
      "metadata": {
        "id": "4KOQZaPwMHNM"
      },
      "source": [
        "# **CONCLUSION**\n",
        "\n",
        "---\n",
        "1. There are about 70% movies and 30% TV shows on Netflix.\n",
        "2. The United States has the highest number of content on Netflix by a huge margin followed by India.\n",
        "3. Raul Campos and Jan Sulter collectively have directed the most content on Netflix.\n",
        "4. Anupam Kher has acted in the highest number of films on Netflix.\n",
        "5. Drama is the most popular genre followed by comedy.\n",
        "6. More of the content is released in holiday season - October, November, December and January.\n",
        "7. The number of releases have significantly increased after 2015 and have dropped in 2021 because of Covid 19.\n",
        "8. NULL HYPOTHESIS -The number of TV shows on Netflix have tripled and number of movies have reduced by 2000 between 2010 and 2018. (REJECTED)\n",
        "9. The optimum number of clusters is 26.\n"
      ]
    }
  ]
}